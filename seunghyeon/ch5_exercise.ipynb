{
  "nbformat": 4,
  "nbformat_minor": 0,
  "metadata": {
    "colab": {
      "name": "ch5_exercise",
      "provenance": [],
      "collapsed_sections": [],
      "authorship_tag": "ABX9TyM4s0k78i3OnWROcEgHMinV",
      "include_colab_link": true
    },
    "kernelspec": {
      "name": "python3",
      "display_name": "Python 3"
    },
    "language_info": {
      "name": "python"
    }
  },
  "cells": [
    {
      "cell_type": "markdown",
      "metadata": {
        "id": "view-in-github",
        "colab_type": "text"
      },
      "source": [
        "<a href=\"https://colab.research.google.com/github/SH22Hwang/GNU_AugumentedIntelligenceLab/blob/main/seunghyeon/ch5_exercise.ipynb\" target=\"_parent\"><img src=\"https://colab.research.google.com/assets/colab-badge.svg\" alt=\"Open In Colab\"/></a>"
      ]
    },
    {
      "cell_type": "code",
      "metadata": {
        "id": "YW_u0EIQlOFT"
      },
      "source": [
        "import numpy as np\n",
        "import pandas as pd\n",
        "import matplotlib.pyplot as plt\n",
        "\n",
        "from sklearn.neighbors import KNeighborsClassifier"
      ],
      "execution_count": null,
      "outputs": []
    },
    {
      "cell_type": "code",
      "metadata": {
        "id": "BxCmMYOWuwJ9"
      },
      "source": [
        "# 연숩문제 5.1\n",
        "\n",
        "dach_length = [75, 77, 83, 81, 73, 99, 72, 83]\n",
        "dach_height = [24, 29, 19, 32, 21, 22, 19, 34]\n",
        "\n",
        "samo_length = [76, 78, 82, 88, 76, 83, 81, 89]\n",
        "samo_height = [55, 58, 53, 54, 61, 52, 57, 64]\n",
        "\n",
        "malt_length = [35, 39, 38, 41, 30, 57, 41, 35]\n",
        "malt_height = [23, 26, 19, 30, 21, 24, 28, 20]\n",
        "\n",
        "d_data = np.column_stack((dach_length, dach_height))\n",
        "d_label = np.zeros(len(d_data))\n",
        "\n",
        "s_data = np.column_stack((samo_length, samo_height))\n",
        "s_label = np.ones(len(s_data))\n",
        "\n",
        "m_data = np.column_stack((malt_length, malt_height))\n",
        "m_label = np.ones(len(m_data)) + 1"
      ],
      "execution_count": null,
      "outputs": []
    },
    {
      "cell_type": "code",
      "metadata": {
        "colab": {
          "base_uri": "https://localhost:8080/"
        },
        "id": "H35VeGtGAG4T",
        "outputId": "d42a0e42-514a-47e3-e31d-d273a582642b"
      },
      "source": [
        "print(\"닥스훈트(0)\", d_data, \"사모예드(1)\", s_data, \"말티즈(2)\", m_data)"
      ],
      "execution_count": null,
      "outputs": [
        {
          "output_type": "stream",
          "text": [
            "닥스훈트(0) [[75 24]\n",
            " [77 29]\n",
            " [83 19]\n",
            " [81 32]\n",
            " [73 21]\n",
            " [99 22]\n",
            " [72 19]\n",
            " [83 34]] 사모예드(1) [[76 55]\n",
            " [78 58]\n",
            " [82 53]\n",
            " [88 54]\n",
            " [76 61]\n",
            " [83 52]\n",
            " [81 57]\n",
            " [89 64]] 말티즈(2) [[35 23]\n",
            " [39 26]\n",
            " [38 19]\n",
            " [41 30]\n",
            " [30 21]\n",
            " [57 24]\n",
            " [41 28]\n",
            " [35 20]]\n"
          ],
          "name": "stdout"
        }
      ]
    },
    {
      "cell_type": "code",
      "metadata": {
        "id": "VFPgpCiHwVQB"
      },
      "source": [
        "dogs = np.concatenate((d_data, s_data, m_data))\n",
        "labels = np.concatenate((d_label, s_label, m_label))\n",
        "\n",
        "dog_classes = {0: '닥스훈트', 1: '사모예드', 2: '말티즈'}"
      ],
      "execution_count": null,
      "outputs": []
    },
    {
      "cell_type": "code",
      "metadata": {
        "colab": {
          "base_uri": "https://localhost:8080/"
        },
        "id": "IMS51vWtxFbI",
        "outputId": "bd431981-16a8-4f58-c482-1cdac2297070"
      },
      "source": [
        "# 연습문제 5.2\n",
        "\n",
        "k = 3\n",
        "knn = KNeighborsClassifier(n_neighbors=k)\n",
        "knn.fit(dogs, labels)\n",
        "y_pred_all = knn.predict(dogs)\n",
        "y_pred_all"
      ],
      "execution_count": null,
      "outputs": [
        {
          "output_type": "execute_result",
          "data": {
            "text/plain": [
              "array([0., 0., 0., 0., 0., 0., 0., 0., 1., 1., 1., 1., 1., 1., 1., 1., 2.,\n",
              "       2., 2., 2., 2., 0., 2., 2.])"
            ]
          },
          "metadata": {
            "tags": []
          },
          "execution_count": 65
        }
      ]
    },
    {
      "cell_type": "code",
      "metadata": {
        "colab": {
          "base_uri": "https://localhost:8080/"
        },
        "id": "n27cQ82Qmj7G",
        "outputId": "1bfda8b2-4da9-4fa7-b585-21a70004e343"
      },
      "source": [
        "from sklearn.metrics import confusion_matrix\n",
        "\n",
        "confusion_matrix(labels, y_pred_all)"
      ],
      "execution_count": null,
      "outputs": [
        {
          "output_type": "execute_result",
          "data": {
            "text/plain": [
              "array([[8, 0, 0],\n",
              "       [0, 8, 0],\n",
              "       [1, 0, 7]])"
            ]
          },
          "metadata": {
            "tags": []
          },
          "execution_count": 66
        }
      ]
    },
    {
      "cell_type": "code",
      "metadata": {
        "colab": {
          "base_uri": "https://localhost:8080/"
        },
        "id": "FY2yMUmV34yM",
        "outputId": "75c1dab1-405f-49dd-cfdd-0c3220b47b4e"
      },
      "source": [
        "# 심화문제 5.3\n",
        "\n",
        "A = [[58, 30]]\n",
        "B = [[80, 26]]\n",
        "C = [[80, 41]]\n",
        "D = [[75, 55]]\n",
        "\n",
        "for v in [A, B, C, D]:\n",
        "  print(v, \"데이터 분류결과\")\n",
        "  for x in range(3, 8, 2):\n",
        "    knn = KNeighborsClassifier(n_neighbors=x)\n",
        "    knn.fit(dogs, labels)\n",
        "    print(v, \": n_neighbors =\", x, dog_classes[knn.predict(v)[0]])"
      ],
      "execution_count": null,
      "outputs": [
        {
          "output_type": "stream",
          "text": [
            "[[58, 30]] 데이터 분류결과\n",
            "[[58, 30]] : n_neighbors = 3 말티즈\n",
            "[[58, 30]] : n_neighbors = 5 말티즈\n",
            "[[58, 30]] : n_neighbors = 7 닥스훈트\n",
            "[[80, 26]] 데이터 분류결과\n",
            "[[80, 26]] : n_neighbors = 3 닥스훈트\n",
            "[[80, 26]] : n_neighbors = 5 닥스훈트\n",
            "[[80, 26]] : n_neighbors = 7 닥스훈트\n",
            "[[80, 41]] 데이터 분류결과\n",
            "[[80, 41]] : n_neighbors = 3 닥스훈트\n",
            "[[80, 41]] : n_neighbors = 5 닥스훈트\n",
            "[[80, 41]] : n_neighbors = 7 사모예드\n",
            "[[75, 55]] 데이터 분류결과\n",
            "[[75, 55]] : n_neighbors = 3 사모예드\n",
            "[[75, 55]] : n_neighbors = 5 사모예드\n",
            "[[75, 55]] : n_neighbors = 7 사모예드\n"
          ],
          "name": "stdout"
        }
      ]
    },
    {
      "cell_type": "markdown",
      "metadata": {
        "id": "bq85gplhEJXQ"
      },
      "source": [
        "## 연습문제 5.4\n",
        "\n",
        "- k 값에 영향을 받지 않는 데이터\n",
        "  - B이다.\n",
        "  - B의 데이터 값이 다른 분류와는 가까이 있지 않기 때문이다.\n"
      ]
    },
    {
      "cell_type": "code",
      "metadata": {
        "colab": {
          "base_uri": "https://localhost:8080/",
          "height": 285
        },
        "id": "hPSHd65dBL1m",
        "outputId": "d4d6468c-f090-449c-c018-be97a0c04529"
      },
      "source": [
        "# 연습문제 5.5\n",
        "\n",
        "plt.scatter(A[0][0], A[0][1], color='g', marker='D')\n",
        "plt.scatter(B[0][0], B[0][1], color='r', marker='D')\n",
        "plt.scatter(C[0][0], C[0][1], color='y', marker='D')\n",
        "plt.scatter(D[0][0], D[0][1], color='b', marker='D')\n",
        "\n",
        "plt.scatter(dach_length, dach_height, color='pink')\n",
        "plt.scatter(samo_length, samo_height, color='purple')\n",
        "plt.scatter(malt_length, malt_height, color='orange')\n"
      ],
      "execution_count": null,
      "outputs": [
        {
          "output_type": "execute_result",
          "data": {
            "text/plain": [
              "<matplotlib.collections.PathCollection at 0x7f6dfab50bd0>"
            ]
          },
          "metadata": {
            "tags": []
          },
          "execution_count": 87
        },
        {
          "output_type": "display_data",
          "data": {
            "image/png": "[encoded data removed]",
            "text/plain": [
              "<Figure size 432x288 with 1 Axes>"
            ]
          },
          "metadata": {
            "tags": [],
            "needs_background": "light"
          }
        }
      ]
    },
    {
      "cell_type": "code",
      "metadata": {
        "colab": {
          "base_uri": "https://localhost:8080/",
          "height": 285
        },
        "id": "D6D7MnJFG3VE",
        "outputId": "d407ae84-6ec6-41a9-bd4b-124d0827b9d4"
      },
      "source": [
        "# 연습문제 5.6\n",
        "plt.scatter(dogs[:, 0], dogs[:, 1], color='k')"
      ],
      "execution_count": null,
      "outputs": [
        {
          "output_type": "execute_result",
          "data": {
            "text/plain": [
              "<matplotlib.collections.PathCollection at 0x7f6dfa852410>"
            ]
          },
          "metadata": {
            "tags": []
          },
          "execution_count": 89
        },
        {
          "output_type": "display_data",
          "data": {
            "image/png": "[encoded data removed]",
            "text/plain": [
              "<Figure size 432x288 with 1 Axes>"
            ]
          },
          "metadata": {
            "tags": [],
            "needs_background": "light"
          }
        }
      ]
    },
    {
      "cell_type": "code",
      "metadata": {
        "id": "L1C-pdrmQR_F"
      },
      "source": [
        " "
      ],
      "execution_count": null,
      "outputs": []
    }
  ]
}
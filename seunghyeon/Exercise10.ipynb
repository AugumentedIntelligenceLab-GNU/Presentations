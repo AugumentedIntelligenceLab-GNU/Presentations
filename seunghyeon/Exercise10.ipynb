{
  "nbformat": 4,
  "nbformat_minor": 0,
  "metadata": {
    "colab": {
      "name": "Exercise10.ipynb",
      "provenance": [],
      "collapsed_sections": [],
      "authorship_tag": "ABX9TyPnj3frJblXnvyI1Ep/eMgw",
      "include_colab_link": true
    },
    "kernelspec": {
      "name": "python3",
      "display_name": "Python 3"
    },
    "language_info": {
      "name": "python"
    }
  },
  "cells": [
    {
      "cell_type": "markdown",
      "metadata": {
        "id": "view-in-github",
        "colab_type": "text"
      },
      "source": [
        "<a href=\"https://colab.research.google.com/github/SH22Hwang/GNU_AugumentedIntelligenceLab/blob/main/seunghyeon/Exercise10.ipynb\" target=\"_parent\"><img src=\"https://colab.research.google.com/assets/colab-badge.svg\" alt=\"Open In Colab\"/></a>"
      ]
    },
    {
      "cell_type": "code",
      "metadata": {
        "id": "10FpNduVp3I7"
      },
      "source": [
        "import numpy as np\n",
        "\n",
        "size, seq_len = 100, 3\n",
        "\n",
        "X = np.empty(shape=(size, seq_len, 1))\n",
        "Y = np.empty(shape=(size,))\n",
        "\n",
        "for i in range(size):\n",
        "  c = np.linspace(i / 10. , (i + seq_len - 1) / 10., seq_len)\n",
        "  X[i] = c[:, np.newaxis]\n",
        "  Y[i] = (i + seq_len) / 10\n",
        "\n",
        "for i in range(len(X)): print(X[i], Y[i])"
      ],
      "execution_count": null,
      "outputs": []
    },
    {
      "cell_type": "markdown",
      "metadata": {
        "id": "JZPlgkYpsYxo"
      },
      "source": [
        "## 심화문제 10. 1\n",
        "\n",
        "- 10.4 장에서 입력차원 2\n",
        "- 파라미터는 481개이다.\n",
        "- 왜?\n",
        "  - (입력: 20 * 2개) + (유닛연결: 20 * 20개) + (다음 연결: 20)\n",
        "    - 입력\n",
        "    - 왜 20이 추가됐을까?\n",
        "      - 입력차원이 2차원임\n",
        "    - 460개\n",
        "  - (출력: 20개) + (편향: 1개)\n",
        "    - 최종결과\n",
        "    - 21개"
      ]
    },
    {
      "cell_type": "code",
      "metadata": {
        "colab": {
          "base_uri": "https://localhost:8080/"
        },
        "id": "fOgZjbDDnQwc",
        "outputId": "ee7a63cf-8b80-4a6f-c17c-a6f04a8e4da7"
      },
      "source": [
        "import tensorflow as tf\n",
        "\n",
        "model = tf.keras.Sequential([\n",
        "                             tf.keras.layers.SimpleRNN(units = 20,\n",
        "                                                       return_sequences = False,\n",
        "                                                       input_shape = [seq_len, 2]),\n",
        "                             tf.keras.layers.Dense(1)\n",
        "])\n",
        "\n",
        "model.compile(optimizer=\"Adam\", loss = \"mse\")\n",
        "model.summary()"
      ],
      "execution_count": null,
      "outputs": [
        {
          "output_type": "stream",
          "name": "stdout",
          "text": [
            "Model: \"sequential_4\"\n",
            "_________________________________________________________________\n",
            "Layer (type)                 Output Shape              Param #   \n",
            "=================================================================\n",
            "simple_rnn_5 (SimpleRNN)     (None, 20)                460       \n",
            "_________________________________________________________________\n",
            "dense_4 (Dense)              (None, 1)                 21        \n",
            "=================================================================\n",
            "Total params: 481\n",
            "Trainable params: 481\n",
            "Non-trainable params: 0\n",
            "_________________________________________________________________\n"
          ]
        }
      ]
    },
    {
      "cell_type": "markdown",
      "metadata": {
        "id": "RVmaa2U-Dg8A"
      },
      "source": [
        "## 심화문제 10.4"
      ]
    },
    {
      "cell_type": "markdown",
      "metadata": {
        "id": "nJ4-B_a_AAxZ"
      },
      "source": [
        "### model 1\n",
        "  - (입력: 20 * 2개) + (유닛연결: 40 * 40개) + (다음 연결: 20)\n",
        "    - 입력\n",
        "    - 1720개\n",
        "  - (출력: 40개) + (편향: 1개)\n",
        "    - 최종결과\n",
        "    - 41개"
      ]
    },
    {
      "cell_type": "code",
      "metadata": {
        "colab": {
          "base_uri": "https://localhost:8080/"
        },
        "id": "udOgsQOVsEjK",
        "outputId": "badb6ffd-1862-4fa8-b5f6-928d17c69fe7"
      },
      "source": [
        "model1 = tf.keras.Sequential([\n",
        "                             tf.keras.layers.SimpleRNN(units = 40,\n",
        "                                                       return_sequences = False,\n",
        "                                                       input_shape = [seq_len, 2]),\n",
        "                             tf.keras.layers.Dense(1)\n",
        "])\n",
        "\n",
        "model1.compile(optimizer=\"Adam\", loss = \"mse\")\n",
        "model1.summary()"
      ],
      "execution_count": null,
      "outputs": [
        {
          "output_type": "stream",
          "name": "stdout",
          "text": [
            "Model: \"sequential_15\"\n",
            "_________________________________________________________________\n",
            "Layer (type)                 Output Shape              Param #   \n",
            "=================================================================\n",
            "simple_rnn_22 (SimpleRNN)    (None, 40)                1720      \n",
            "_________________________________________________________________\n",
            "dense_15 (Dense)             (None, 1)                 41        \n",
            "=================================================================\n",
            "Total params: 1,761\n",
            "Trainable params: 1,761\n",
            "Non-trainable params: 0\n",
            "_________________________________________________________________\n"
          ]
        }
      ]
    },
    {
      "cell_type": "markdown",
      "metadata": {
        "id": "0D8Lnl8AAHR7"
      },
      "source": [
        "### model 2\n",
        "  - (입력: 20 * 2개) + (유닛연결: 20 * 20개) + (다음 연결: 20)\n",
        "    - 입력\n",
        "    - 460개\n",
        "\n",
        "  - (입력: 20개) + (유닛연결: 20 * 20개) + (다음 연결: 20 * 20)\n",
        "    - 입력\n",
        "    - 820개\n",
        "  \n",
        "  - (출력: 20개) + (편향: 1개)\n",
        "    - 최종결과\n",
        "    - 21개"
      ]
    },
    {
      "cell_type": "code",
      "metadata": {
        "colab": {
          "base_uri": "https://localhost:8080/"
        },
        "id": "05rxDL69_wot",
        "outputId": "96ef2059-fb45-4931-9763-7eeb0abb66cb"
      },
      "source": [
        "model2 = tf.keras.Sequential([\n",
        "                             tf.keras.layers.SimpleRNN(units = 20,\n",
        "                                                       return_sequences = True,\n",
        "                                                       input_shape = [seq_len, 2]),\n",
        "                             tf.keras.layers.SimpleRNN(units = 20,\n",
        "                                                       return_sequences = True,\n",
        "                                                       input_shape = [seq_len, 2]), \n",
        "                             tf.keras.layers.Dense(1)\n",
        "])\n",
        "\n",
        "model2.compile(optimizer=\"Adam\", loss = \"mse\")\n",
        "model2.summary()"
      ],
      "execution_count": null,
      "outputs": [
        {
          "output_type": "stream",
          "name": "stdout",
          "text": [
            "Model: \"sequential_17\"\n",
            "_________________________________________________________________\n",
            "Layer (type)                 Output Shape              Param #   \n",
            "=================================================================\n",
            "simple_rnn_25 (SimpleRNN)    (None, 3, 20)             460       \n",
            "_________________________________________________________________\n",
            "simple_rnn_26 (SimpleRNN)    (None, 3, 20)             820       \n",
            "_________________________________________________________________\n",
            "dense_17 (Dense)             (None, 3, 1)              21        \n",
            "=================================================================\n",
            "Total params: 1,301\n",
            "Trainable params: 1,301\n",
            "Non-trainable params: 0\n",
            "_________________________________________________________________\n"
          ]
        }
      ]
    }
  ]
}
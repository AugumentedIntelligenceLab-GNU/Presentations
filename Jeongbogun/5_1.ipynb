{
  "nbformat": 4,
  "nbformat_minor": 0,
  "metadata": {
    "colab": {
      "name": "5.1.ipynb",
      "provenance": [],
      "authorship_tag": "ABX9TyPVudLbIDIPrC7NfhXsQvJ1",
      "include_colab_link": true
    },
    "kernelspec": {
      "name": "python3",
      "display_name": "Python 3"
    },
    "language_info": {
      "name": "python"
    }
  },
  "cells": [
    {
      "cell_type": "markdown",
      "metadata": {
        "id": "view-in-github",
        "colab_type": "text"
      },
      "source": [
        "<a href=\"https://colab.research.google.com/github/SH22Hwang/GNU_AugumentedIntelligenceLab/blob/main/Jeongbogun/5_1.ipynb\" target=\"_parent\"><img src=\"https://colab.research.google.com/assets/colab-badge.svg\" alt=\"Open In Colab\"/></a>"
      ]
    },
    {
      "cell_type": "code",
      "metadata": {
        "id": "ELypQX_Fw7Hd"
      },
      "source": [
        "import matplotlib.pyplot as plt\n",
        "import numpy as np\n",
        "from sklearn import metrics\n",
        "from sklearn.neighbors import KNeighborsClassifier\n",
        "from sklearn.metrics import confusion_matrix\n",
        "from sklearn import cluster"
      ],
      "execution_count": null,
      "outputs": []
    },
    {
      "cell_type": "code",
      "metadata": {
        "id": "168cMWAgxL6k"
      },
      "source": [
        "dach_length = [75,77,83,81,73,99,72,83]\n",
        "dach_height = [24,29,19,32,21,22,19,34]\n",
        "\n",
        "samo_length = [76,78,82,88,76,83,81,89]\n",
        "samo_height = [55,58,53,54,61,52,57,64]\n",
        "\n",
        "malt_length = [35,39,38,41,30,57,41,35]\n",
        "malt_height = [23,26,19,30,21,24,28,20]\n",
        "\n",
        "d_data = np.column_stack((dach_length, dach_height))\n",
        "d_label = np.zeros(len(d_data))\n",
        "\n",
        "s_data = np.column_stack((samo_length, samo_height))\n",
        "s_label = np.ones(len(s_data))\n",
        "\n",
        "m_data = np.column_stack((malt_length, malt_height))\n",
        "m_label = s_label + 1\n",
        "\n",
        "dogs = np.concatenate((d_data, s_data, m_data))\n",
        "labels = np.concatenate((d_label, s_label, m_label))\n",
        "\n",
        "dog_classes = {0:'닥스훈트', 1:'사모예드',2:'말티즈'}"
      ],
      "execution_count": null,
      "outputs": []
    },
    {
      "cell_type": "code",
      "metadata": {
        "colab": {
          "base_uri": "https://localhost:8080/"
        },
        "id": "VvBe92lV2RdW",
        "outputId": "3e404412-76fd-4476-f872-76c87e88fa75"
      },
      "source": [
        "print(\"닥스훈트(0) :\",d_data)\n",
        "print(\"사모예드(1) :\",s_data)\n",
        "print(\"말티즈(2) : \", m_data)\n"
      ],
      "execution_count": null,
      "outputs": [
        {
          "output_type": "stream",
          "text": [
            "닥스훈트(0) : [[75 24]\n",
            " [77 29]\n",
            " [83 19]\n",
            " [81 32]\n",
            " [73 21]\n",
            " [99 22]\n",
            " [72 19]\n",
            " [83 34]]\n",
            "사모예드(1) : [[76 55]\n",
            " [78 58]\n",
            " [82 53]\n",
            " [88 54]\n",
            " [76 61]\n",
            " [83 52]\n",
            " [81 57]\n",
            " [89 64]]\n",
            "말티즈(2) :  [[35 23]\n",
            " [39 26]\n",
            " [38 19]\n",
            " [41 30]\n",
            " [30 21]\n",
            " [57 24]\n",
            " [41 28]\n",
            " [35 20]]\n"
          ],
          "name": "stdout"
        }
      ]
    },
    {
      "cell_type": "code",
      "metadata": {
        "id": "-g9Op0Vt2SmP",
        "colab": {
          "base_uri": "https://localhost:8080/"
        },
        "outputId": "51381981-1810-4793-9231-541e51d94e57"
      },
      "source": [
        "k=3\n",
        "knn = KNeighborsClassifier(n_neighbors= k)\n",
        "knn.fit(dogs, labels)\n",
        "x_pred = knn.predict(d_data)\n",
        "y_pred = knn.predict(s_data)\n",
        "z_pred = knn.predict(m_data)\n",
        "\n",
        "y_pred_all = knn.predict(dogs)\n",
        "conf_mat = confusion_matrix(labels, y_pred_all)\n",
        "conf_mat"
      ],
      "execution_count": null,
      "outputs": [
        {
          "output_type": "execute_result",
          "data": {
            "text/plain": [
              "array([[8, 0, 0],\n",
              "       [0, 8, 0],\n",
              "       [1, 0, 7]])"
            ]
          },
          "metadata": {
            "tags": []
          },
          "execution_count": 9
        }
      ]
    },
    {
      "cell_type": "code",
      "metadata": {
        "colab": {
          "base_uri": "https://localhost:8080/"
        },
        "id": "oVsyzblW7TZa",
        "outputId": "df46a1fe-8100-4e63-9d3f-4dfa709cfec7"
      },
      "source": [
        "newdata1 = [[58,30]]\n",
        "newdata2 = [[80,26]]\n",
        "newdata3 = [[80,41]]\n",
        "newdata4 = [[75,55]]\n",
        "\n",
        "k=3\n",
        "knn = KNeighborsClassifier(n_neighbors= k)\n",
        "knn.fit(dogs, labels)\n",
        "a_pred = knn.predict(newdata1)\n",
        "print(\"A데이터 분류결과\")\n",
        "print( newdata1 ,':', 'n_neighbors가', k, '일 때 : ',dog_classes[a_pred[0]] )\n",
        "k=5\n",
        "knn = KNeighborsClassifier(n_neighbors= k)\n",
        "knn.fit(dogs, labels)\n",
        "a_pred = knn.predict(newdata1)\n",
        "print( newdata1 ,':', 'n_neighbors가', k, '일 때 : ',dog_classes[a_pred[0]] )\n",
        "k=7\n",
        "knn = KNeighborsClassifier(n_neighbors= k)\n",
        "knn.fit(dogs, labels)\n",
        "a_pred = knn.predict(newdata1)\n",
        "print( newdata1 ,':', 'n_neighbors가', k, '일 때 : ',dog_classes[a_pred[0]] )\n",
        "\n",
        "k=3\n",
        "knn = KNeighborsClassifier(n_neighbors= k)\n",
        "knn.fit(dogs, labels)\n",
        "b_pred = knn.predict(newdata2)\n",
        "print(\"B데이터 분류결과\")\n",
        "print( newdata2 ,':', 'n_neighbors가', k, '일 때 : ',dog_classes[b_pred[0]] )\n",
        "k=5\n",
        "knn = KNeighborsClassifier(n_neighbors= k)\n",
        "knn.fit(dogs, labels)\n",
        "b_pred = knn.predict(newdata2)\n",
        "print( newdata2 ,':', 'n_neighbors가', k, '일 때 : ',dog_classes[b_pred[0]] )\n",
        "k=7\n",
        "knn = KNeighborsClassifier(n_neighbors= k)\n",
        "knn.fit(dogs, labels)\n",
        "b_pred = knn.predict(newdata2)\n",
        "print( newdata2 ,':', 'n_neighbors가', k, '일 때 : ',dog_classes[b_pred[0]] )\n",
        "\n",
        "k=3\n",
        "knn = KNeighborsClassifier(n_neighbors= k)\n",
        "knn.fit(dogs, labels)\n",
        "C_pred = knn.predict(newdata3)\n",
        "print(\"C데이터 분류결과\")\n",
        "print( newdata3 ,':', 'n_neighbors가', k, '일 때 : ',dog_classes[C_pred[0]] )\n",
        "k=5\n",
        "knn = KNeighborsClassifier(n_neighbors= k)\n",
        "knn.fit(dogs, labels)\n",
        "C_pred = knn.predict(newdata3)\n",
        "print( newdata3 ,':', 'n_neighbors가', k, '일 때 : ',dog_classes[C_pred[0]] )\n",
        "k=7\n",
        "knn = KNeighborsClassifier(n_neighbors= k)\n",
        "knn.fit(dogs, labels)\n",
        "C_pred = knn.predict(newdata3)\n",
        "print( newdata3 ,':', 'n_neighbors가', k, '일 때 : ',dog_classes[C_pred[0]] )\n",
        "\n",
        "k=3\n",
        "knn = KNeighborsClassifier(n_neighbors= k)\n",
        "knn.fit(dogs, labels)\n",
        "D_pred = knn.predict(newdata4)\n",
        "print(\"D데이터 분류결과\")\n",
        "print( newdata4 ,':', 'n_neighbors가', k, '일 때 : ',dog_classes[D_pred[0]] )\n",
        "k=5\n",
        "knn = KNeighborsClassifier(n_neighbors= k)\n",
        "knn.fit(dogs, labels)\n",
        "D_pred = knn.predict(newdata4)\n",
        "print( newdata4 ,':', 'n_neighbors가', k, '일 때 : ',dog_classes[D_pred[0]] )\n",
        "k=7\n",
        "knn = KNeighborsClassifier(n_neighbors= k)\n",
        "knn.fit(dogs, labels)\n",
        "D_pred = knn.predict(newdata4)\n",
        "print( newdata4 ,':', 'n_neighbors가', k, '일 때 : ',dog_classes[D_pred[0]] )"
      ],
      "execution_count": null,
      "outputs": [
        {
          "output_type": "stream",
          "text": [
            "A데이터 분류결과\n",
            "[[58, 30]] : n_neighbors가 3 일 때 :  말티즈\n",
            "[[58, 30]] : n_neighbors가 5 일 때 :  말티즈\n",
            "[[58, 30]] : n_neighbors가 7 일 때 :  닥스훈트\n",
            "B데이터 분류결과\n",
            "[[80, 26]] : n_neighbors가 3 일 때 :  닥스훈트\n",
            "[[80, 26]] : n_neighbors가 5 일 때 :  닥스훈트\n",
            "[[80, 26]] : n_neighbors가 7 일 때 :  닥스훈트\n",
            "C데이터 분류결과\n",
            "[[80, 41]] : n_neighbors가 3 일 때 :  닥스훈트\n",
            "[[80, 41]] : n_neighbors가 5 일 때 :  닥스훈트\n",
            "[[80, 41]] : n_neighbors가 7 일 때 :  사모예드\n",
            "D데이터 분류결과\n",
            "[[75, 55]] : n_neighbors가 3 일 때 :  사모예드\n",
            "[[75, 55]] : n_neighbors가 5 일 때 :  사모예드\n",
            "[[75, 55]] : n_neighbors가 7 일 때 :  사모예드\n"
          ],
          "name": "stdout"
        }
      ]
    },
    {
      "cell_type": "code",
      "metadata": {
        "id": "14dM4nnE74BO",
        "colab": {
          "base_uri": "https://localhost:8080/",
          "height": 295
        },
        "outputId": "de16953b-bef0-41b5-d9d3-4edb00d08c53"
      },
      "source": [
        "Adata_length=[58]\n",
        "Adata_height=[30]\n",
        "Bdata_length=[80]\n",
        "Bdata_height=[26]\n",
        "Cdata_length=[80]\n",
        "Cdata_height=[41]\n",
        "Ddata_length=[75]\n",
        "Ddata_height=[55]\n",
        "\n",
        "plt.scatter(dach_length,dach_height,c='red',label='Dachshund')\n",
        "plt.scatter(samo_length,samo_height,c='blue',label='Samoyed')\n",
        "plt.scatter(malt_length,malt_height,c='green',label='Maltiz')\n",
        "plt.scatter(Adata_length,Adata_height,s=500,marker='p',c='purple',label='A')\n",
        "plt.scatter(Bdata_length,Bdata_height,s=500,marker='p',c='black',label='B')\n",
        "plt.scatter(Cdata_length,Cdata_height,s=500,marker='p',c='cyan',label='C')\n",
        "plt.scatter(Ddata_length,Ddata_height,s=500,marker='p',c='brown',label='D')\n",
        "\n",
        "plt.xlabel('Length')\n",
        "plt.ylabel('Height')\n",
        "plt.title(\"Dog Size\")\n",
        "plt.legend(loc='upper left')\n",
        "\n",
        "plt.show()"
      ],
      "execution_count": null,
      "outputs": [
        {
          "output_type": "display_data",
          "data": {
            "image/png": "[encoded data removed]",
            "text/plain": [
              "<Figure size 432x288 with 1 Axes>"
            ]
          },
          "metadata": {
            "tags": [],
            "needs_background": "light"
          }
        }
      ]
    },
    {
      "cell_type": "code",
      "metadata": {
        "colab": {
          "base_uri": "https://localhost:8080/",
          "height": 299
        },
        "id": "DFEJfNfA5Es6",
        "outputId": "e18bde93-d382-499a-ad31-aad98971c27d"
      },
      "source": [
        "dog_length= np.array(dach_length + samo_length + malt_length + Adata_length + Bdata_length + Cdata_length + Ddata_length)\n",
        "dog_height= np.array(dach_height + samo_height + malt_height + Adata_height + Bdata_height + Cdata_height + Ddata_height)\n",
        "\n",
        "dog_data = np.column_stack((dog_length, dog_height))\n",
        "\n",
        "plt.title(\"Dog data without label\")\n",
        "plt.scatter(dog_length,dog_height)\n"
      ],
      "execution_count": null,
      "outputs": [
        {
          "output_type": "execute_result",
          "data": {
            "text/plain": [
              "<matplotlib.collections.PathCollection at 0x7f044df842d0>"
            ]
          },
          "metadata": {
            "tags": []
          },
          "execution_count": 30
        },
        {
          "output_type": "display_data",
          "data": {
            "image/png": "[encoded data removed]",
            "text/plain": [
              "<Figure size 432x288 with 1 Axes>"
            ]
          },
          "metadata": {
            "tags": [],
            "needs_background": "light"
          }
        }
      ]
    },
    {
      "cell_type": "code",
      "metadata": {
        "id": "FDzGo9HK6yum"
      },
      "source": [
        "def kmeans_predict_plot(X, k):\n",
        "  model = cluster.KMeans(n_clusters=k)\n",
        "  model.fit(X)\n",
        "  labels = model.predict(X)\n",
        "  colors = np.array(['red','green','blue','magenta'])\n",
        "  plt.suptitle('k-Means clustering, k={}'.format(k))\n",
        "  plt.scatter(X[:,0],X[:,1],color=colors[labels])"
      ],
      "execution_count": null,
      "outputs": []
    },
    {
      "cell_type": "code",
      "metadata": {
        "colab": {
          "base_uri": "https://localhost:8080/",
          "height": 294
        },
        "id": "wIPojZ3k60ef",
        "outputId": "db6fce4a-4666-4c29-866c-8c1452d38856"
      },
      "source": [
        "kmeans_predict_plot(dog_data, k=2)"
      ],
      "execution_count": null,
      "outputs": [
        {
          "output_type": "display_data",
          "data": {
            "image/png": "[encoded data removed]",
            "text/plain": [
              "<Figure size 432x288 with 1 Axes>"
            ]
          },
          "metadata": {
            "tags": [],
            "needs_background": "light"
          }
        }
      ]
    },
    {
      "cell_type": "code",
      "metadata": {
        "colab": {
          "base_uri": "https://localhost:8080/",
          "height": 294
        },
        "id": "PwhGKQ9a619S",
        "outputId": "480fa9ff-5118-4693-dbb6-d7349e17dc99"
      },
      "source": [
        "kmeans_predict_plot(dog_data, k=3)"
      ],
      "execution_count": null,
      "outputs": [
        {
          "output_type": "display_data",
          "data": {
            "image/png": "[encoded data removed]",
            "text/plain": [
              "<Figure size 432x288 with 1 Axes>"
            ]
          },
          "metadata": {
            "tags": [],
            "needs_background": "light"
          }
        }
      ]
    },
    {
      "cell_type": "code",
      "metadata": {
        "colab": {
          "base_uri": "https://localhost:8080/",
          "height": 294
        },
        "id": "jEUcSFnj64WF",
        "outputId": "cb66d75d-32f9-401e-ea2a-843db939fb37"
      },
      "source": [
        "kmeans_predict_plot(dog_data, k=4)"
      ],
      "execution_count": null,
      "outputs": [
        {
          "output_type": "display_data",
          "data": {
            "image/png": "[encoded data removed]",
            "text/plain": [
              "<Figure size 432x288 with 1 Axes>"
            ]
          },
          "metadata": {
            "tags": [],
            "needs_background": "light"
          }
        }
      ]
    }
  ]
}
{
  "nbformat": 4,
  "nbformat_minor": 0,
  "metadata": {
    "colab": {
      "name": "4.1.ipynb",
      "provenance": [],
      "collapsed_sections": [],
      "authorship_tag": "ABX9TyNK1mJomP6fvpH2RBBwZmpQ",
      "include_colab_link": true
    },
    "kernelspec": {
      "name": "python3",
      "display_name": "Python 3"
    },
    "language_info": {
      "name": "python"
    }
  },
  "cells": [
    {
      "cell_type": "markdown",
      "metadata": {
        "id": "view-in-github",
        "colab_type": "text"
      },
      "source": [
        "<a href=\"https://colab.research.google.com/github/SH22Hwang/GNU_AugumentedIntelligenceLab/blob/main/%EC%97%84%EC%A7%80/4_1.ipynb\" target=\"_parent\"><img src=\"https://colab.research.google.com/assets/colab-badge.svg\" alt=\"Open In Colab\"/></a>"
      ]
    },
    {
      "cell_type": "code",
      "metadata": {
        "id": "dvlxa1bPVToc"
      },
      "source": [
        "import pandas as pd\n",
        "import numpy as np\n",
        "from sklearn.linear_model import LinearRegression"
      ],
      "execution_count": null,
      "outputs": []
    },
    {
      "cell_type": "code",
      "metadata": {
        "colab": {
          "base_uri": "https://localhost:8080/",
          "height": 112
        },
        "id": "tSpZrl76Vs06",
        "outputId": "036b985e-2862-4036-a027-4d426d2e51d5"
      },
      "source": [
        "# setting => 보여주기식이라 필요 없을듯\n",
        "Idx = pd.Series(['A', 'B', 'C', 'D', 'E', 'F', 'G'])\n",
        "HorsePower = pd.Series([130, 250, 190, 300, 210, 220, 170])\n",
        "Efficiency = pd.Series([16.3, 10.2, 11.1, 7.1, 12.1, 13.2, 14.2])\n",
        "\n",
        "P_carCompany = pd.DataFrame({'idx' : Idx, 'horse power' : HorsePower, 'efficiency' : Efficiency})\n",
        "P_carCompany1 = P_carCompany.transpose()\n",
        "P_carCompany2 = P_carCompany1.rename(columns=P_carCompany1.iloc[0])\n",
        "P_carCompany3 = P_carCompany2.drop(P_carCompany2.index[0])\n",
        "\n",
        "P_carCompany3"
      ],
      "execution_count": null,
      "outputs": [
        {
          "output_type": "execute_result",
          "data": {
            "text/html": [
              "<div>\n",
              "<style scoped>\n",
              "    .dataframe tbody tr th:only-of-type {\n",
              "        vertical-align: middle;\n",
              "    }\n",
              "\n",
              "    .dataframe tbody tr th {\n",
              "        vertical-align: top;\n",
              "    }\n",
              "\n",
              "    .dataframe thead th {\n",
              "        text-align: right;\n",
              "    }\n",
              "</style>\n",
              "<table border=\"1\" class=\"dataframe\">\n",
              "  <thead>\n",
              "    <tr style=\"text-align: right;\">\n",
              "      <th></th>\n",
              "      <th>A</th>\n",
              "      <th>B</th>\n",
              "      <th>C</th>\n",
              "      <th>D</th>\n",
              "      <th>E</th>\n",
              "      <th>F</th>\n",
              "      <th>G</th>\n",
              "    </tr>\n",
              "  </thead>\n",
              "  <tbody>\n",
              "    <tr>\n",
              "      <th>horse power</th>\n",
              "      <td>130</td>\n",
              "      <td>250</td>\n",
              "      <td>190</td>\n",
              "      <td>300</td>\n",
              "      <td>210</td>\n",
              "      <td>220</td>\n",
              "      <td>170</td>\n",
              "    </tr>\n",
              "    <tr>\n",
              "      <th>efficiency</th>\n",
              "      <td>16.3</td>\n",
              "      <td>10.2</td>\n",
              "      <td>11.1</td>\n",
              "      <td>7.1</td>\n",
              "      <td>12.1</td>\n",
              "      <td>13.2</td>\n",
              "      <td>14.2</td>\n",
              "    </tr>\n",
              "  </tbody>\n",
              "</table>\n",
              "</div>"
            ],
            "text/plain": [
              "                A     B     C    D     E     F     G\n",
              "horse power   130   250   190  300   210   220   170\n",
              "efficiency   16.3  10.2  11.1  7.1  12.1  13.2  14.2"
            ]
          },
          "metadata": {
            "tags": []
          },
          "execution_count": 20
        }
      ]
    },
    {
      "cell_type": "code",
      "metadata": {
        "colab": {
          "base_uri": "https://localhost:8080/",
          "height": 268
        },
        "id": "I6W5NSHwV5_R",
        "outputId": "50370539-41cf-4f1b-ba8e-249272bdf063"
      },
      "source": [
        "# R\n",
        "HorsePower2 = pd.Series([130, 250, 190, 300, 210, 220, 170])\n",
        "Efficiency2 = pd.Series([16.3, 10.2, 11.1, 7.1, 12.1, 13.2, 14.2])\n",
        "\n",
        "PCC = pd.DataFrame({'horsePower' : HorsePower, 'efficiency' : Efficiency})\n",
        "PCC"
      ],
      "execution_count": null,
      "outputs": [
        {
          "output_type": "execute_result",
          "data": {
            "text/html": [
              "<div>\n",
              "<style scoped>\n",
              "    .dataframe tbody tr th:only-of-type {\n",
              "        vertical-align: middle;\n",
              "    }\n",
              "\n",
              "    .dataframe tbody tr th {\n",
              "        vertical-align: top;\n",
              "    }\n",
              "\n",
              "    .dataframe thead th {\n",
              "        text-align: right;\n",
              "    }\n",
              "</style>\n",
              "<table border=\"1\" class=\"dataframe\">\n",
              "  <thead>\n",
              "    <tr style=\"text-align: right;\">\n",
              "      <th></th>\n",
              "      <th>horsePower</th>\n",
              "      <th>efficiency</th>\n",
              "    </tr>\n",
              "  </thead>\n",
              "  <tbody>\n",
              "    <tr>\n",
              "      <th>0</th>\n",
              "      <td>130</td>\n",
              "      <td>16.3</td>\n",
              "    </tr>\n",
              "    <tr>\n",
              "      <th>1</th>\n",
              "      <td>250</td>\n",
              "      <td>10.2</td>\n",
              "    </tr>\n",
              "    <tr>\n",
              "      <th>2</th>\n",
              "      <td>190</td>\n",
              "      <td>11.1</td>\n",
              "    </tr>\n",
              "    <tr>\n",
              "      <th>3</th>\n",
              "      <td>300</td>\n",
              "      <td>7.1</td>\n",
              "    </tr>\n",
              "    <tr>\n",
              "      <th>4</th>\n",
              "      <td>210</td>\n",
              "      <td>12.1</td>\n",
              "    </tr>\n",
              "    <tr>\n",
              "      <th>5</th>\n",
              "      <td>220</td>\n",
              "      <td>13.2</td>\n",
              "    </tr>\n",
              "    <tr>\n",
              "      <th>6</th>\n",
              "      <td>170</td>\n",
              "      <td>14.2</td>\n",
              "    </tr>\n",
              "  </tbody>\n",
              "</table>\n",
              "</div>"
            ],
            "text/plain": [
              "   horsePower  efficiency\n",
              "0         130        16.3\n",
              "1         250        10.2\n",
              "2         190        11.1\n",
              "3         300         7.1\n",
              "4         210        12.1\n",
              "5         220        13.2\n",
              "6         170        14.2"
            ]
          },
          "metadata": {
            "tags": []
          },
          "execution_count": 23
        }
      ]
    },
    {
      "cell_type": "code",
      "metadata": {
        "colab": {
          "base_uri": "https://localhost:8080/"
        },
        "id": "akj6MpyBkvvR",
        "outputId": "196feafc-3cba-4ec2-ce01-bc2a35ad6303"
      },
      "source": [
        "# 4.1.1\n",
        "x = PCC['horsePower'].to_numpy()\n",
        "y = PCC['efficiency'].to_numpy()\n",
        "x = x[:, np.newaxis]  # (기존+1)차원 배열이 됨\n",
        "\n",
        "LR = LinearRegression()\n",
        "result = LR.fit(x,y)\n",
        "print('계수 :', result.coef_)\n",
        "print('절편 :', result.intercept_)\n",
        "print('예측 점수 :', result.score(x,y))"
      ],
      "execution_count": null,
      "outputs": [
        {
          "output_type": "stream",
          "text": [
            "계수 : [-0.05027473]\n",
            "절편 : 22.58626373626374\n",
            "예측 점수 : 0.8706727649378526\n"
          ],
          "name": "stdout"
        }
      ]
    },
    {
      "cell_type": "code",
      "metadata": {
        "colab": {
          "base_uri": "https://localhost:8080/"
        },
        "id": "18rG30WonNOJ",
        "outputId": "5cf83ad9-7191-4eb3-c4b7-b24617cd079f"
      },
      "source": [
        "# 4.1.2\n",
        "## y = wx + b\n",
        "w = result.coef_\n",
        "x = 270\n",
        "b = result.intercept_\n",
        "\n",
        "predict_score = w*x + b\n",
        "\n",
        "print('270 마력 자동차의 예상 연비 : {:.2f}'.format(float(predict_score)), 'km/l')"
      ],
      "execution_count": null,
      "outputs": [
        {
          "output_type": "stream",
          "text": [
            "270 마력 자동차의 예상 연비 : 9.01 km/l\n"
          ],
          "name": "stdout"
        }
      ]
    },
    {
      "cell_type": "code",
      "metadata": {
        "id": "42Da7hdLktyZ"
      },
      "source": [
        "################################################################################################################################3"
      ],
      "execution_count": null,
      "outputs": []
    },
    {
      "cell_type": "code",
      "metadata": {
        "colab": {
          "base_uri": "https://localhost:8080/"
        },
        "id": "3NwhdJVFWN0i",
        "outputId": "a8e3647c-a979-45d1-ecd5-d5b42897c50e"
      },
      "source": [
        "from scipy import stats\n",
        "\n",
        "PCC_result = stats.linregress(PCC['horsePower'], PCC['efficiency'])\n",
        "print('계수 :', PCC_result.slope)\n",
        "print('절편 :', PCC_result.intercept)\n",
        "\n"
      ],
      "execution_count": null,
      "outputs": [
        {
          "output_type": "stream",
          "text": [
            "계수 : -0.05027472527472529\n",
            "절편 : 22.58626373626374\n"
          ],
          "name": "stdout"
        }
      ]
    },
    {
      "cell_type": "code",
      "metadata": {
        "id": "L6QEDM9vfnHR"
      },
      "source": [
        "import statsmodels.api\n",
        "import statsmodels.formula.api as smf\n",
        "import matplotlib.pyplot as plt\n",
        "import numpy as np"
      ],
      "execution_count": null,
      "outputs": []
    },
    {
      "cell_type": "code",
      "metadata": {
        "colab": {
          "base_uri": "https://localhost:8080/",
          "height": 625
        },
        "id": "keEzPXbRf4h4",
        "outputId": "bf619f1a-6974-4c45-f489-42c5ff986b48"
      },
      "source": [
        "# 상관계수 구하기\n",
        "print(PCC.corr())\n",
        "\n",
        "# 마력에 따른 연비 시각화\n",
        "plt.scatter(PCC['horsePower'], PCC['efficiency'])\n",
        "plt.xlabel('마력')\n",
        "plt.ylabel('연비')\n",
        "\n",
        "slope, intercept = np.polyfit(PCC['horsePower'], PCC['efficiency'], 1)\n",
        "plt.plot(PCC['horsePower'], PCC['horsePower'] * slope + intercept, 'r') \n",
        "plt.show()"
      ],
      "execution_count": null,
      "outputs": [
        {
          "output_type": "stream",
          "text": [
            "            horsePower  efficiency\n",
            "horsePower    1.000000   -0.933098\n",
            "efficiency   -0.933098    1.000000\n"
          ],
          "name": "stdout"
        },
        {
          "output_type": "stream",
          "text": [
            "/usr/local/lib/python3.7/dist-packages/matplotlib/backends/backend_agg.py:214: RuntimeWarning: Glyph 47560 missing from current font.\n",
            "  font.set_text(s, 0.0, flags=flags)\n",
            "/usr/local/lib/python3.7/dist-packages/matplotlib/backends/backend_agg.py:214: RuntimeWarning: Glyph 47141 missing from current font.\n",
            "  font.set_text(s, 0.0, flags=flags)\n",
            "/usr/local/lib/python3.7/dist-packages/matplotlib/backends/backend_agg.py:214: RuntimeWarning: Glyph 50672 missing from current font.\n",
            "  font.set_text(s, 0.0, flags=flags)\n",
            "/usr/local/lib/python3.7/dist-packages/matplotlib/backends/backend_agg.py:214: RuntimeWarning: Glyph 48708 missing from current font.\n",
            "  font.set_text(s, 0.0, flags=flags)\n",
            "/usr/local/lib/python3.7/dist-packages/matplotlib/backends/backend_agg.py:183: RuntimeWarning: Glyph 47560 missing from current font.\n",
            "  font.set_text(s, 0, flags=flags)\n",
            "/usr/local/lib/python3.7/dist-packages/matplotlib/backends/backend_agg.py:183: RuntimeWarning: Glyph 47141 missing from current font.\n",
            "  font.set_text(s, 0, flags=flags)\n",
            "/usr/local/lib/python3.7/dist-packages/matplotlib/backends/backend_agg.py:183: RuntimeWarning: Glyph 50672 missing from current font.\n",
            "  font.set_text(s, 0, flags=flags)\n",
            "/usr/local/lib/python3.7/dist-packages/matplotlib/backends/backend_agg.py:183: RuntimeWarning: Glyph 48708 missing from current font.\n",
            "  font.set_text(s, 0, flags=flags)\n"
          ],
          "name": "stderr"
        },
        {
          "output_type": "display_data",
          "data": {
            "image/png": "[encoded data removed]",
            "text/plain": [
              "<Figure size 432x288 with 1 Axes>"
            ]
          },
          "metadata": {
            "tags": [],
            "needs_background": "light"
          }
        }
      ]
    },
    {
      "cell_type": "code",
      "metadata": {
        "colab": {
          "base_uri": "https://localhost:8080/"
        },
        "id": "JmK1NfXwhZo4",
        "outputId": "a818566d-16c1-4caf-d073-23eb22c2f496"
      },
      "source": [
        "print('-------------------------- 단순 선형회귀 마력 ~ 연비 --------------------------') \n",
        "result = smf.ols('horsePower ~ efficiency', data = PCC).fit() \n",
        "#  print(result.summary()) \n",
        "# .tables[0] 하면 summary중 첫번째 테이블만 보기\n",
        "# R-squared: 0.602 \n",
        "# print(result.conf_int(alpha=0.05)) # 95%신뢰구간(confidence interval) 내 결과 \n",
        "\n",
        "print('270 마력 자동차의 예상 연비 : ', -0.0682 * 270 + 30.0989)"
      ],
      "execution_count": null,
      "outputs": [
        {
          "output_type": "stream",
          "text": [
            "-------------------------- 단순 선형회귀 마력 ~ 연비 --------------------------\n",
            "270 마력 자동차의 예상 연비 :  11.684900000000003\n"
          ],
          "name": "stdout"
        }
      ]
    }
  ]
}
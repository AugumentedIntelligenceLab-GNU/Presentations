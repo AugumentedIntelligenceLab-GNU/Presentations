{
  "nbformat": 4,
  "nbformat_minor": 0,
  "metadata": {
    "colab": {
      "name": "Exercise8",
      "provenance": [],
      "collapsed_sections": [],
      "authorship_tag": "ABX9TyPy/jxym45p3vq+SKHoOk+h",
      "include_colab_link": true
    },
    "kernelspec": {
      "name": "python3",
      "display_name": "Python 3"
    },
    "language_info": {
      "name": "python"
    }
  },
  "cells": [
    {
      "cell_type": "markdown",
      "metadata": {
        "id": "view-in-github",
        "colab_type": "text"
      },
      "source": [
        "<a href=\"https://colab.research.google.com/github/SH22Hwang/GNU_AugumentedIntelligenceLab/blob/main/seunghyeon/Exercise8.ipynb\" target=\"_parent\"><img src=\"https://colab.research.google.com/assets/colab-badge.svg\" alt=\"Open In Colab\"/></a>"
      ]
    },
    {
      "cell_type": "markdown",
      "metadata": {
        "id": "Vl0WubC0Fm1X"
      },
      "source": [
        "# 으뜸 머신러닝 심화문제 8\n",
        "\n",
        "## 8.1"
      ]
    },
    {
      "cell_type": "code",
      "metadata": {
        "id": "qk0FTY7_Ehwv"
      },
      "source": [
        "import numpy as np\n",
        "import pandas as pd\n",
        "import matplotlib.pyplot as plt\n",
        "from sklearn.model_selection import train_test_split\n",
        "from tensorflow import keras\n",
        "\n",
        "from sklearn.datasets import load_iris\n",
        "\n",
        "iris = load_iris()\n",
        "X, y = iris.data, iris.target"
      ],
      "execution_count": null,
      "outputs": []
    },
    {
      "cell_type": "code",
      "metadata": {
        "id": "b8_AgAvXFb9Z"
      },
      "source": [
        "# train, test 분리\n",
        "X_train, X_test, y_train, y_test = train_test_split(X, y, test_size=0.3)"
      ],
      "execution_count": 38,
      "outputs": []
    },
    {
      "cell_type": "code",
      "metadata": {
        "colab": {
          "base_uri": "https://localhost:8080/"
        },
        "id": "Zkf9zzUQFxBk",
        "outputId": "811eebd6-30ef-4007-dd36-fd35d15408e3"
      },
      "source": [
        "# 1번\n",
        "print(f\"\"\"\n",
        "훈련용 데이터의 형태: {X_train.shape}\n",
        "훈련용 데이터의 레이블 형태: {y_train.shape}\n",
        "테스트용 데이터의 형태: {X_test.shape}\n",
        "테스트용 데이터의 레이블 형태: {y_test.shape}\n",
        "개별 훈련데이터의 형태: {X_train[0].shape}\n",
        "\"\"\")"
      ],
      "execution_count": 31,
      "outputs": [
        {
          "output_type": "stream",
          "name": "stdout",
          "text": [
            "\n",
            "훈련용 데이터의 형태: (105, 4)\n",
            "훈련용 데이터의 레이블 형태: (105,)\n",
            "테스트용 데이터의 형태: (45, 4)\n",
            "테스트용 데이터의 레이블 형태: (45,)\n",
            "개별 훈련데이터의 형태: (4,)\n",
            "\n"
          ]
        }
      ]
    },
    {
      "cell_type": "code",
      "metadata": {
        "id": "tkJ2YtLpG7fd"
      },
      "source": [
        "model = keras.models.Sequential([                    \n",
        "  keras.Input(X_train[0].shape), # 2번\n",
        "  keras.layers.Dense(64, activation='relu'), # 3번\n",
        "  keras.layers.Dense(3, activation='softmax')                             \n",
        "])"
      ],
      "execution_count": 39,
      "outputs": []
    },
    {
      "cell_type": "code",
      "metadata": {
        "id": "prkOzbN2H-Uj"
      },
      "source": [
        "model.compile(optimizer='adam',\n",
        "              loss='sparse_categorical_crossentropy',\n",
        "              metrics=['accuracy']) # 4번"
      ],
      "execution_count": 40,
      "outputs": []
    },
    {
      "cell_type": "code",
      "metadata": {
        "colab": {
          "base_uri": "https://localhost:8080/"
        },
        "id": "jMmWFW8MLAkb",
        "outputId": "3d0e9560-b669-4321-b905-4fb0a3251896"
      },
      "source": [
        "# 5번\n",
        "history = model.fit(X_train, y_train, batch_size = 5, epochs = 30, validation_split=0.2)"
      ],
      "execution_count": 62,
      "outputs": [
        {
          "output_type": "stream",
          "name": "stdout",
          "text": [
            "Epoch 1/30\n",
            "17/17 [==============================] - 0s 5ms/step - loss: 0.1398 - accuracy: 0.9881 - val_loss: 0.1649 - val_accuracy: 0.9524\n",
            "Epoch 2/30\n",
            "17/17 [==============================] - 0s 4ms/step - loss: 0.1339 - accuracy: 0.9762 - val_loss: 0.1604 - val_accuracy: 1.0000\n",
            "Epoch 3/30\n",
            "17/17 [==============================] - 0s 5ms/step - loss: 0.1382 - accuracy: 0.9643 - val_loss: 0.1609 - val_accuracy: 0.9524\n",
            "Epoch 4/30\n",
            "17/17 [==============================] - 0s 4ms/step - loss: 0.1392 - accuracy: 0.9643 - val_loss: 0.1571 - val_accuracy: 1.0000\n",
            "Epoch 5/30\n",
            "17/17 [==============================] - 0s 5ms/step - loss: 0.1338 - accuracy: 0.9643 - val_loss: 0.1575 - val_accuracy: 0.9524\n",
            "Epoch 6/30\n",
            "17/17 [==============================] - 0s 3ms/step - loss: 0.1303 - accuracy: 0.9643 - val_loss: 0.1542 - val_accuracy: 1.0000\n",
            "Epoch 7/30\n",
            "17/17 [==============================] - 0s 5ms/step - loss: 0.1402 - accuracy: 0.9762 - val_loss: 0.1553 - val_accuracy: 0.9524\n",
            "Epoch 8/30\n",
            "17/17 [==============================] - 0s 5ms/step - loss: 0.1304 - accuracy: 0.9762 - val_loss: 0.1521 - val_accuracy: 1.0000\n",
            "Epoch 9/30\n",
            "17/17 [==============================] - 0s 7ms/step - loss: 0.1294 - accuracy: 0.9881 - val_loss: 0.1542 - val_accuracy: 0.9524\n",
            "Epoch 10/30\n",
            "17/17 [==============================] - 0s 4ms/step - loss: 0.1302 - accuracy: 0.9762 - val_loss: 0.1538 - val_accuracy: 0.9524\n",
            "Epoch 11/30\n",
            "17/17 [==============================] - 0s 4ms/step - loss: 0.1230 - accuracy: 0.9643 - val_loss: 0.1470 - val_accuracy: 1.0000\n",
            "Epoch 12/30\n",
            "17/17 [==============================] - 0s 4ms/step - loss: 0.1248 - accuracy: 0.9643 - val_loss: 0.1457 - val_accuracy: 1.0000\n",
            "Epoch 13/30\n",
            "17/17 [==============================] - 0s 4ms/step - loss: 0.1233 - accuracy: 0.9881 - val_loss: 0.1445 - val_accuracy: 1.0000\n",
            "Epoch 14/30\n",
            "17/17 [==============================] - 0s 4ms/step - loss: 0.1239 - accuracy: 0.9762 - val_loss: 0.1457 - val_accuracy: 0.9524\n",
            "Epoch 15/30\n",
            "17/17 [==============================] - 0s 4ms/step - loss: 0.1255 - accuracy: 0.9643 - val_loss: 0.1425 - val_accuracy: 1.0000\n",
            "Epoch 16/30\n",
            "17/17 [==============================] - 0s 5ms/step - loss: 0.1235 - accuracy: 0.9881 - val_loss: 0.1450 - val_accuracy: 0.9524\n",
            "Epoch 17/30\n",
            "17/17 [==============================] - 0s 3ms/step - loss: 0.1202 - accuracy: 0.9643 - val_loss: 0.1407 - val_accuracy: 0.9524\n",
            "Epoch 18/30\n",
            "17/17 [==============================] - 0s 3ms/step - loss: 0.1187 - accuracy: 0.9643 - val_loss: 0.1412 - val_accuracy: 0.9524\n",
            "Epoch 19/30\n",
            "17/17 [==============================] - 0s 3ms/step - loss: 0.1243 - accuracy: 0.9762 - val_loss: 0.1380 - val_accuracy: 1.0000\n",
            "Epoch 20/30\n",
            "17/17 [==============================] - 0s 3ms/step - loss: 0.1156 - accuracy: 0.9762 - val_loss: 0.1369 - val_accuracy: 1.0000\n",
            "Epoch 21/30\n",
            "17/17 [==============================] - 0s 3ms/step - loss: 0.1191 - accuracy: 0.9643 - val_loss: 0.1352 - val_accuracy: 1.0000\n",
            "Epoch 22/30\n",
            "17/17 [==============================] - 0s 3ms/step - loss: 0.1252 - accuracy: 0.9524 - val_loss: 0.1358 - val_accuracy: 0.9524\n",
            "Epoch 23/30\n",
            "17/17 [==============================] - 0s 4ms/step - loss: 0.1140 - accuracy: 0.9762 - val_loss: 0.1330 - val_accuracy: 1.0000\n",
            "Epoch 24/30\n",
            "17/17 [==============================] - 0s 3ms/step - loss: 0.1137 - accuracy: 0.9643 - val_loss: 0.1335 - val_accuracy: 0.9524\n",
            "Epoch 25/30\n",
            "17/17 [==============================] - 0s 4ms/step - loss: 0.1131 - accuracy: 0.9762 - val_loss: 0.1312 - val_accuracy: 1.0000\n",
            "Epoch 26/30\n",
            "17/17 [==============================] - 0s 5ms/step - loss: 0.1155 - accuracy: 0.9762 - val_loss: 0.1302 - val_accuracy: 1.0000\n",
            "Epoch 27/30\n",
            "17/17 [==============================] - 0s 5ms/step - loss: 0.1098 - accuracy: 0.9762 - val_loss: 0.1398 - val_accuracy: 0.9524\n",
            "Epoch 28/30\n",
            "17/17 [==============================] - 0s 5ms/step - loss: 0.1135 - accuracy: 0.9881 - val_loss: 0.1296 - val_accuracy: 0.9524\n",
            "Epoch 29/30\n",
            "17/17 [==============================] - 0s 4ms/step - loss: 0.1125 - accuracy: 0.9643 - val_loss: 0.1279 - val_accuracy: 1.0000\n",
            "Epoch 30/30\n",
            "17/17 [==============================] - 0s 5ms/step - loss: 0.1092 - accuracy: 0.9762 - val_loss: 0.1293 - val_accuracy: 0.9524\n"
          ]
        }
      ]
    },
    {
      "cell_type": "code",
      "metadata": {
        "colab": {
          "base_uri": "https://localhost:8080/"
        },
        "id": "pZl-Ufs5LUpI",
        "outputId": "0358f8d1-f25d-4828-818e-81bfbef18294"
      },
      "source": [
        "# 6번\n",
        "print('신경망 모델의 학습 결과 :')\n",
        "eval_loss, eval_acc = model.evaluate(X_test, y_test)\n",
        "print('붓꽃 데이터의 분류 정확도:', eval_acc)"
      ],
      "execution_count": 63,
      "outputs": [
        {
          "output_type": "stream",
          "name": "stdout",
          "text": [
            "신경망 모델의 학습 결과 :\n",
            "2/2 [==============================] - 0s 4ms/step - loss: 0.0819 - accuracy: 0.9778\n",
            "붓꽃 데이터의 분류 정확도: 0.9777777791023254\n"
          ]
        }
      ]
    },
    {
      "cell_type": "markdown",
      "metadata": {
        "id": "Kw1Jh93JMRvN"
      },
      "source": [
        "### 7번\n",
        "\n",
        "- batch_sise: 5\n",
        "- epochs: 30"
      ]
    },
    {
      "cell_type": "code",
      "metadata": {
        "colab": {
          "base_uri": "https://localhost:8080/",
          "height": 592
        },
        "id": "m0wFzg2bLgnN",
        "outputId": "e7a9bba2-faa6-4107-cad5-d986495daa14"
      },
      "source": [
        "# 8번\n",
        "fig, ax0 = plt.subplots()\n",
        "fig, ax1 = plt.subplots()\n",
        "\n",
        "# 모델의 정확도를 그립니다.\n",
        "ax0.plot(history.history['accuracy']) \n",
        "ax0.set(title='model accuracy', xlabel='epoch', ylabel='accuracy')\n",
        "\n",
        "# 모델의 오차를 그립니다.\n",
        "ax1.plot(history.history['loss'])\n",
        "ax1.set(title='model loss', xlabel='epoch', ylabel='loss')"
      ],
      "execution_count": 43,
      "outputs": [
        {
          "output_type": "execute_result",
          "data": {
            "text/plain": [
              "[Text(0, 0.5, 'loss'), Text(0.5, 0, 'epoch'), Text(0.5, 1.0, 'model loss')]"
            ]
          },
          "metadata": {},
          "execution_count": 43
        },
        {
          "output_type": "display_data",
          "data": {
            "image/png": "[encoded data removed]",
            "text/plain": [
              "<Figure size 432x288 with 1 Axes>"
            ]
          },
          "metadata": {
            "needs_background": "light"
          }
        },
        {
          "output_type": "display_data",
          "data": {
            "image/png": "[encoded data removed]",
            "text/plain": [
              "<Figure size 432x288 with 1 Axes>"
            ]
          },
          "metadata": {
            "needs_background": "light"
          }
        }
      ]
    },
    {
      "cell_type": "code",
      "metadata": {
        "colab": {
          "base_uri": "https://localhost:8080/"
        },
        "id": "YkGO1hu7NCsy",
        "outputId": "23198fe8-3ab6-41d3-d982-31982b7a8598"
      },
      "source": [
        "# 9번\n",
        "model_dropout = keras.models.Sequential([                    \n",
        "  keras.Input(X_train[0].shape),\n",
        "  keras.layers.Dropout(0.3),\n",
        "  keras.layers.Dense(64, activation='relu'),\n",
        "  keras.layers.Dense(3, activation='softmax')                             \n",
        "])\n",
        "\n",
        "model_dropout.compile(optimizer='adam',\n",
        "                      loss='sparse_categorical_crossentropy',\n",
        "                      metrics=['accuracy'])\n",
        "\n",
        "history_d = model_dropout.fit(X_train, y_train, batch_size = 5, epochs = 30, validation_split=0.2)\n",
        "\n",
        "print('신경망 모델의 학습 결과 :')\n",
        "eval_d_loss, eval_d_acc = model_dropout.evaluate(X_test, y_test)\n",
        "print('붓꽃 데이터의 분류 정확도:', eval_d_acc)\n"
      ],
      "execution_count": 64,
      "outputs": [
        {
          "output_type": "stream",
          "name": "stdout",
          "text": [
            "Epoch 1/30\n",
            "17/17 [==============================] - 0s 11ms/step - loss: 1.4367 - accuracy: 0.3571 - val_loss: 1.0500 - val_accuracy: 0.3810\n",
            "Epoch 2/30\n",
            "17/17 [==============================] - 0s 3ms/step - loss: 1.1732 - accuracy: 0.2857 - val_loss: 0.9917 - val_accuracy: 0.7619\n",
            "Epoch 3/30\n",
            "17/17 [==============================] - 0s 2ms/step - loss: 1.0194 - accuracy: 0.4286 - val_loss: 0.9341 - val_accuracy: 0.8095\n",
            "Epoch 4/30\n",
            "17/17 [==============================] - 0s 3ms/step - loss: 0.9734 - accuracy: 0.5595 - val_loss: 0.9239 - val_accuracy: 0.5714\n",
            "Epoch 5/30\n",
            "17/17 [==============================] - 0s 3ms/step - loss: 0.9410 - accuracy: 0.5238 - val_loss: 0.8655 - val_accuracy: 0.6190\n",
            "Epoch 6/30\n",
            "17/17 [==============================] - 0s 3ms/step - loss: 0.8795 - accuracy: 0.6310 - val_loss: 0.8269 - val_accuracy: 0.9048\n",
            "Epoch 7/30\n",
            "17/17 [==============================] - 0s 4ms/step - loss: 0.8974 - accuracy: 0.6190 - val_loss: 0.7900 - val_accuracy: 0.9048\n",
            "Epoch 8/30\n",
            "17/17 [==============================] - 0s 4ms/step - loss: 0.8303 - accuracy: 0.6786 - val_loss: 0.7958 - val_accuracy: 0.6190\n",
            "Epoch 9/30\n",
            "17/17 [==============================] - 0s 4ms/step - loss: 0.8214 - accuracy: 0.6548 - val_loss: 0.7562 - val_accuracy: 0.9524\n",
            "Epoch 10/30\n",
            "17/17 [==============================] - 0s 4ms/step - loss: 0.8289 - accuracy: 0.6310 - val_loss: 0.7447 - val_accuracy: 1.0000\n",
            "Epoch 11/30\n",
            "17/17 [==============================] - 0s 4ms/step - loss: 0.8256 - accuracy: 0.6071 - val_loss: 0.7290 - val_accuracy: 1.0000\n",
            "Epoch 12/30\n",
            "17/17 [==============================] - 0s 3ms/step - loss: 0.8106 - accuracy: 0.5714 - val_loss: 0.7194 - val_accuracy: 1.0000\n",
            "Epoch 13/30\n",
            "17/17 [==============================] - 0s 5ms/step - loss: 0.7817 - accuracy: 0.6548 - val_loss: 0.6963 - val_accuracy: 0.9524\n",
            "Epoch 14/30\n",
            "17/17 [==============================] - 0s 3ms/step - loss: 0.7595 - accuracy: 0.6786 - val_loss: 0.6934 - val_accuracy: 0.8571\n",
            "Epoch 15/30\n",
            "17/17 [==============================] - 0s 4ms/step - loss: 0.8459 - accuracy: 0.5238 - val_loss: 0.6696 - val_accuracy: 0.9048\n",
            "Epoch 16/30\n",
            "17/17 [==============================] - 0s 4ms/step - loss: 0.7541 - accuracy: 0.7143 - val_loss: 0.6645 - val_accuracy: 0.9048\n",
            "Epoch 17/30\n",
            "17/17 [==============================] - 0s 4ms/step - loss: 0.7705 - accuracy: 0.6429 - val_loss: 0.6532 - val_accuracy: 0.6667\n",
            "Epoch 18/30\n",
            "17/17 [==============================] - 0s 3ms/step - loss: 0.8063 - accuracy: 0.6667 - val_loss: 0.6574 - val_accuracy: 0.9524\n",
            "Epoch 19/30\n",
            "17/17 [==============================] - 0s 4ms/step - loss: 0.6597 - accuracy: 0.8214 - val_loss: 0.6604 - val_accuracy: 0.8571\n",
            "Epoch 20/30\n",
            "17/17 [==============================] - 0s 3ms/step - loss: 0.7583 - accuracy: 0.7143 - val_loss: 0.6414 - val_accuracy: 0.9524\n",
            "Epoch 21/30\n",
            "17/17 [==============================] - 0s 4ms/step - loss: 0.7085 - accuracy: 0.7143 - val_loss: 0.6427 - val_accuracy: 0.9524\n",
            "Epoch 22/30\n",
            "17/17 [==============================] - 0s 3ms/step - loss: 0.7159 - accuracy: 0.6786 - val_loss: 0.6217 - val_accuracy: 0.9524\n",
            "Epoch 23/30\n",
            "17/17 [==============================] - 0s 3ms/step - loss: 0.7114 - accuracy: 0.7619 - val_loss: 0.6072 - val_accuracy: 0.9048\n",
            "Epoch 24/30\n",
            "17/17 [==============================] - 0s 3ms/step - loss: 0.7666 - accuracy: 0.6429 - val_loss: 0.6343 - val_accuracy: 0.8571\n",
            "Epoch 25/30\n",
            "17/17 [==============================] - 0s 4ms/step - loss: 0.6673 - accuracy: 0.8095 - val_loss: 0.6129 - val_accuracy: 0.9524\n",
            "Epoch 26/30\n",
            "17/17 [==============================] - 0s 4ms/step - loss: 0.7578 - accuracy: 0.7619 - val_loss: 0.6123 - val_accuracy: 0.9524\n",
            "Epoch 27/30\n",
            "17/17 [==============================] - 0s 3ms/step - loss: 0.6660 - accuracy: 0.7381 - val_loss: 0.6140 - val_accuracy: 0.8095\n",
            "Epoch 28/30\n",
            "17/17 [==============================] - 0s 5ms/step - loss: 0.6970 - accuracy: 0.7381 - val_loss: 0.5978 - val_accuracy: 0.9524\n",
            "Epoch 29/30\n",
            "17/17 [==============================] - 0s 4ms/step - loss: 0.6789 - accuracy: 0.7857 - val_loss: 0.5960 - val_accuracy: 0.9524\n",
            "Epoch 30/30\n",
            "17/17 [==============================] - 0s 4ms/step - loss: 0.7062 - accuracy: 0.7381 - val_loss: 0.5944 - val_accuracy: 0.9048\n",
            "신경망 모델의 학습 결과 :\n",
            "2/2 [==============================] - 0s 8ms/step - loss: 0.5855 - accuracy: 0.9556\n",
            "붓꽃 데이터의 분류 정확도: 0.9555555582046509\n"
          ]
        }
      ]
    },
    {
      "cell_type": "code",
      "metadata": {
        "colab": {
          "base_uri": "https://localhost:8080/"
        },
        "id": "mtjpI_hNOcRu",
        "outputId": "dac11556-e358-4df6-942e-9733c1ff1ec6"
      },
      "source": [
        "# 10번\n",
        "\n",
        "model_3 = keras.models.Sequential([                    \n",
        "  keras.Input(X_train[0].shape),\n",
        "  keras.layers.Dense(64, activation='relu'),\n",
        "  keras.layers.Dense(32, activation='relu'),\n",
        "  keras.layers.Dense(10, activation='relu'),\n",
        "  keras.layers.Dense(3, activation='softmax')                             \n",
        "])\n",
        "\n",
        "model_3.compile(optimizer='adam',\n",
        "                loss='sparse_categorical_crossentropy',\n",
        "                metrics=['accuracy'],)\n",
        "\n",
        "history_3 = model_dropout.fit(X_train, y_train, validation_split=0.2, batch_size = 5, epochs = 30)\n",
        "\n",
        "print('신경망 모델의 학습 결과 :')\n",
        "eval_3_loss, eval_3_acc = model_3.evaluate(X_test, y_test)\n",
        "print('붓꽃 데이터의 분류 정확도:', eval_3_acc)"
      ],
      "execution_count": 65,
      "outputs": [
        {
          "output_type": "stream",
          "name": "stdout",
          "text": [
            "Epoch 1/30\n",
            "17/17 [==============================] - 0s 5ms/step - loss: 0.6588 - accuracy: 0.7857 - val_loss: 0.6114 - val_accuracy: 0.7619\n",
            "Epoch 2/30\n",
            "17/17 [==============================] - 0s 3ms/step - loss: 0.6845 - accuracy: 0.7619 - val_loss: 0.5692 - val_accuracy: 0.9524\n",
            "Epoch 3/30\n",
            "17/17 [==============================] - 0s 4ms/step - loss: 0.7165 - accuracy: 0.7262 - val_loss: 0.5698 - val_accuracy: 0.9524\n",
            "Epoch 4/30\n",
            "17/17 [==============================] - 0s 3ms/step - loss: 0.6663 - accuracy: 0.7143 - val_loss: 0.5721 - val_accuracy: 0.9524\n",
            "Epoch 5/30\n",
            "17/17 [==============================] - 0s 2ms/step - loss: 0.6505 - accuracy: 0.7738 - val_loss: 0.5686 - val_accuracy: 0.9524\n",
            "Epoch 6/30\n",
            "17/17 [==============================] - 0s 2ms/step - loss: 0.6316 - accuracy: 0.7381 - val_loss: 0.5553 - val_accuracy: 1.0000\n",
            "Epoch 7/30\n",
            "17/17 [==============================] - 0s 3ms/step - loss: 0.7053 - accuracy: 0.6667 - val_loss: 0.5688 - val_accuracy: 0.8095\n",
            "Epoch 8/30\n",
            "17/17 [==============================] - 0s 3ms/step - loss: 0.6581 - accuracy: 0.7262 - val_loss: 0.5445 - val_accuracy: 0.9524\n",
            "Epoch 9/30\n",
            "17/17 [==============================] - 0s 4ms/step - loss: 0.6535 - accuracy: 0.7619 - val_loss: 0.5719 - val_accuracy: 0.8095\n",
            "Epoch 10/30\n",
            "17/17 [==============================] - 0s 3ms/step - loss: 0.5710 - accuracy: 0.8571 - val_loss: 0.5763 - val_accuracy: 0.7619\n",
            "Epoch 11/30\n",
            "17/17 [==============================] - 0s 4ms/step - loss: 0.6930 - accuracy: 0.6905 - val_loss: 0.5662 - val_accuracy: 0.9048\n",
            "Epoch 12/30\n",
            "17/17 [==============================] - 0s 3ms/step - loss: 0.5831 - accuracy: 0.7381 - val_loss: 0.5396 - val_accuracy: 1.0000\n",
            "Epoch 13/30\n",
            "17/17 [==============================] - 0s 3ms/step - loss: 0.6963 - accuracy: 0.7738 - val_loss: 0.5658 - val_accuracy: 0.7619\n",
            "Epoch 14/30\n",
            "17/17 [==============================] - 0s 3ms/step - loss: 0.6382 - accuracy: 0.7976 - val_loss: 0.5436 - val_accuracy: 1.0000\n",
            "Epoch 15/30\n",
            "17/17 [==============================] - 0s 5ms/step - loss: 0.5989 - accuracy: 0.7976 - val_loss: 0.5483 - val_accuracy: 0.8095\n",
            "Epoch 16/30\n",
            "17/17 [==============================] - 0s 4ms/step - loss: 0.5720 - accuracy: 0.7738 - val_loss: 0.5228 - val_accuracy: 1.0000\n",
            "Epoch 17/30\n",
            "17/17 [==============================] - 0s 4ms/step - loss: 0.6086 - accuracy: 0.7381 - val_loss: 0.5526 - val_accuracy: 0.7619\n",
            "Epoch 18/30\n",
            "17/17 [==============================] - 0s 4ms/step - loss: 0.5781 - accuracy: 0.7738 - val_loss: 0.5243 - val_accuracy: 1.0000\n",
            "Epoch 19/30\n",
            "17/17 [==============================] - 0s 4ms/step - loss: 0.6033 - accuracy: 0.7857 - val_loss: 0.5251 - val_accuracy: 1.0000\n",
            "Epoch 20/30\n",
            "17/17 [==============================] - 0s 3ms/step - loss: 0.5092 - accuracy: 0.8095 - val_loss: 0.5159 - val_accuracy: 1.0000\n",
            "Epoch 21/30\n",
            "17/17 [==============================] - 0s 3ms/step - loss: 0.5660 - accuracy: 0.8214 - val_loss: 0.5255 - val_accuracy: 0.8095\n",
            "Epoch 22/30\n",
            "17/17 [==============================] - 0s 4ms/step - loss: 0.6334 - accuracy: 0.7738 - val_loss: 0.5083 - val_accuracy: 1.0000\n",
            "Epoch 23/30\n",
            "17/17 [==============================] - 0s 3ms/step - loss: 0.5580 - accuracy: 0.7500 - val_loss: 0.5183 - val_accuracy: 0.9524\n",
            "Epoch 24/30\n",
            "17/17 [==============================] - 0s 4ms/step - loss: 0.6261 - accuracy: 0.7619 - val_loss: 0.5632 - val_accuracy: 0.6190\n",
            "Epoch 25/30\n",
            "17/17 [==============================] - 0s 4ms/step - loss: 0.5957 - accuracy: 0.7500 - val_loss: 0.5026 - val_accuracy: 1.0000\n",
            "Epoch 26/30\n",
            "17/17 [==============================] - 0s 5ms/step - loss: 0.5486 - accuracy: 0.8095 - val_loss: 0.5401 - val_accuracy: 0.7619\n",
            "Epoch 27/30\n",
            "17/17 [==============================] - 0s 3ms/step - loss: 0.5921 - accuracy: 0.8214 - val_loss: 0.4903 - val_accuracy: 0.9524\n",
            "Epoch 28/30\n",
            "17/17 [==============================] - 0s 4ms/step - loss: 0.5049 - accuracy: 0.7857 - val_loss: 0.5216 - val_accuracy: 0.7619\n",
            "Epoch 29/30\n",
            "17/17 [==============================] - 0s 5ms/step - loss: 0.5654 - accuracy: 0.7738 - val_loss: 0.4994 - val_accuracy: 0.9048\n",
            "Epoch 30/30\n",
            "17/17 [==============================] - 0s 4ms/step - loss: 0.6413 - accuracy: 0.7262 - val_loss: 0.4838 - val_accuracy: 1.0000\n",
            "신경망 모델의 학습 결과 :\n",
            "2/2 [==============================] - 0s 8ms/step - loss: 1.3432 - accuracy: 0.3778\n",
            "붓꽃 데이터의 분류 정확도: 0.3777777850627899\n"
          ]
        }
      ]
    },
    {
      "cell_type": "code",
      "metadata": {
        "id": "YQRPRwvuRrKL"
      },
      "source": [
        ""
      ],
      "execution_count": null,
      "outputs": []
    }
  ]
}
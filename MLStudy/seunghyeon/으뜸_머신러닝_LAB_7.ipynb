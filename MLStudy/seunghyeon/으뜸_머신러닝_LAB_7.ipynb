{
  "nbformat": 4,
  "nbformat_minor": 0,
  "metadata": {
    "colab": {
      "name": "으뜸 머신러닝 LAB 7.ipynb",
      "provenance": [],
      "collapsed_sections": [],
      "authorship_tag": "ABX9TyM5d3e6czdKsefz5shPPqng",
      "include_colab_link": true
    },
    "kernelspec": {
      "name": "python3",
      "display_name": "Python 3"
    },
    "language_info": {
      "name": "python"
    }
  },
  "cells": [
    {
      "cell_type": "markdown",
      "metadata": {
        "id": "view-in-github",
        "colab_type": "text"
      },
      "source": [
        "<a href=\"https://colab.research.google.com/github/SH22Hwang/GNU_AugumentedIntelligenceLab/blob/main/seunghyeon/%EC%9C%BC%EB%9C%B8_%EB%A8%B8%EC%8B%A0%EB%9F%AC%EB%8B%9D_LAB_7.ipynb\" target=\"_parent\"><img src=\"https://colab.research.google.com/assets/colab-badge.svg\" alt=\"Open In Colab\"/></a>"
      ]
    },
    {
      "cell_type": "markdown",
      "metadata": {
        "id": "g9NWX8FuBwEH"
      },
      "source": [
        "# 으뜸 머신러닝 LAB 7\n",
        "- 황승현"
      ]
    },
    {
      "cell_type": "markdown",
      "metadata": {
        "id": "XPE3sZZ0NLNx"
      },
      "source": [
        "## LAB 7-1"
      ]
    },
    {
      "cell_type": "code",
      "metadata": {
        "id": "FLDHe7D0XnQk"
      },
      "source": [
        "import numpy as np\n",
        "\n",
        "w, b = np.array([0.5, 0.5]), -0.7"
      ],
      "execution_count": 6,
      "outputs": []
    },
    {
      "cell_type": "code",
      "metadata": {
        "id": "UUpKUFT8ZoQN"
      },
      "source": [
        "def perceptron(x1, x2):\n",
        "  x = np.array([x1, x2])\n",
        "  tmp = np.sum( w * x ) + b\n",
        "  if tmp <= 0: return -1\n",
        "  else: return 1"
      ],
      "execution_count": 5,
      "outputs": []
    },
    {
      "cell_type": "code",
      "metadata": {
        "colab": {
          "base_uri": "https://localhost:8080/"
        },
        "id": "ZXARxiCWa48h",
        "outputId": "3d58b58a-1626-4b2e-d574-13d0622dc81d"
      },
      "source": [
        "print('and 게이트')\n",
        "for xs in [(-1, -1), (-1, 1), (1, -1), (1, 1)]:\n",
        "  y = perceptron(xs[0], xs[1])\n",
        "  print(xs,':', y)"
      ],
      "execution_count": 7,
      "outputs": [
        {
          "output_type": "stream",
          "text": [
            "and 게이트\n",
            "(-1, -1) : -1\n",
            "(-1, 1) : -1\n",
            "(1, -1) : -1\n",
            "(1, 1) : 1\n"
          ],
          "name": "stdout"
        }
      ]
    },
    {
      "cell_type": "code",
      "metadata": {
        "id": "G5GB6LXPcXqA",
        "colab": {
          "base_uri": "https://localhost:8080/"
        },
        "outputId": "3c893d0e-07fd-4256-c7d3-d8ba2da18b73"
      },
      "source": [
        "w, b = np.array([0.7, 0.7]), 0.5\n",
        "\n",
        "print(\"OR 게이트\")\n",
        "for xs in [(-1, -1), (-1, 1), (1, -1), (1, 1)]:\n",
        "  y = perceptron(xs[0], xs[1])\n",
        "  print(xs,':', y)"
      ],
      "execution_count": 9,
      "outputs": [
        {
          "output_type": "stream",
          "text": [
            "OR 게이트\n",
            "(-1, -1) : -1\n",
            "(-1, 1) : 1\n",
            "(1, -1) : 1\n",
            "(1, 1) : 1\n"
          ],
          "name": "stdout"
        }
      ]
    },
    {
      "cell_type": "markdown",
      "metadata": {
        "id": "jgwEDvHPC1hI"
      },
      "source": [
        "## LAB 7.2"
      ]
    },
    {
      "cell_type": "code",
      "metadata": {
        "id": "FObmUUemCiVI"
      },
      "source": [
        "W, b = np.array([0,0]), 0.0\n",
        "learning_rate = 0.01"
      ],
      "execution_count": 33,
      "outputs": []
    },
    {
      "cell_type": "code",
      "metadata": {
        "id": "antcrSwgEP-f"
      },
      "source": [
        "def activation(s): \n",
        "  if s > 0: return 1\n",
        "  elif s < 0: return -1\n",
        "  return 0\n",
        "  # 계단함수"
      ],
      "execution_count": 12,
      "outputs": []
    },
    {
      "cell_type": "code",
      "metadata": {
        "id": "-XXsf1OJEXsk"
      },
      "source": [
        "def out(x):\n",
        "  return activation(W.dot(x) + b)"
      ],
      "execution_count": 13,
      "outputs": []
    },
    {
      "cell_type": "code",
      "metadata": {
        "id": "E0T900zKEiTA"
      },
      "source": [
        "def train(x0, x1, target):\n",
        "  global W, b\n",
        "  x = np.array([x0, x1])\n",
        "  y = out(x)\n",
        "\n",
        "  if target == y:\n",
        "    return False\n",
        "\n",
        "  print(\"가중치 수정 전 target: {} y: {} b: {} W: {}\".format(target, y, b, W))\n",
        "  W = W + learning_rate * x * target\n",
        "  b = b + learning_rate + 1 * target\n",
        "  print(\"가중치 수정 후 target: {} y: {} b: {} W: {}\".format(target, y, b, W))\n",
        "  return True"
      ],
      "execution_count": 15,
      "outputs": []
    },
    {
      "cell_type": "code",
      "metadata": {
        "id": "MFnwO2hHFV5Q"
      },
      "source": [
        "def predict(inputs):\n",
        "  outputs = []\n",
        "  for x in inputs:\n",
        "      outputs.append (out(x))\n",
        "  return outputs"
      ],
      "execution_count": 16,
      "outputs": []
    },
    {
      "cell_type": "code",
      "metadata": {
        "id": "1V8CjGVuGOtH"
      },
      "source": [
        "# OR 연산\n",
        "adjusted = 0\n",
        "for i in range(100):\n",
        "    adjusted += train(-1,-1, -1)    # 훈련 데이터 1\n",
        "    adjusted += train(-1, 1,  1)    # 훈련 데이터 2\n",
        "    adjusted += train( 1,-1,  1)    # 훈련 데이터 3\n",
        "    adjusted += train( 1, 1,  1)    # 훈련 데이터 4\n",
        "    print(\"iteration -------------\", i)\n",
        "    if not adjusted: break  # 모든 훈련에 대해 가중치 변화 없으면 학습종료\n",
        "    adjusted = 0"
      ],
      "execution_count": null,
      "outputs": []
    },
    {
      "cell_type": "code",
      "metadata": {
        "colab": {
          "base_uri": "https://localhost:8080/"
        },
        "id": "gKVjOjhBGQWJ",
        "outputId": "362c7f8d-a80f-4003-a692-6e605074098b"
      },
      "source": [
        "X = [[-1, -1], [-1, 1], [1, -1], [1,1]]\n",
        "yhat = predict(X)\n",
        "print('x0 x1  y')\n",
        "for i in range(len(X)):\n",
        "    print('{0:2d} {1:2d} {2:2d}'.format(X[i][0], X[i][1], yhat[i]))"
      ],
      "execution_count": 18,
      "outputs": [
        {
          "output_type": "stream",
          "text": [
            "x0 x1  y\n",
            "-1 -1 -1\n",
            "-1  1  1\n",
            " 1 -1  1\n",
            " 1  1  1\n"
          ],
          "name": "stdout"
        }
      ]
    },
    {
      "cell_type": "markdown",
      "metadata": {
        "id": "qtlZeJf2K1U-"
      },
      "source": [
        "## LAB 7.3"
      ]
    },
    {
      "cell_type": "code",
      "metadata": {
        "colab": {
          "base_uri": "https://localhost:8080/"
        },
        "id": "TTUaFLOIGZBV",
        "outputId": "688f2929-03b2-4cec-a250-c63f674337f7"
      },
      "source": [
        "# AND 연산\n",
        "adjusted = 0\n",
        "for i in range(100):\n",
        "    adjusted += train(-1,-1, -1)    # 훈련 데이터 1\n",
        "    adjusted += train(-1, 1, -1)    # 훈련 데이터 2\n",
        "    adjusted += train( 1,-1, -1)    # 훈련 데이터 3\n",
        "    adjusted += train( 1, 1,  1)    # 훈련 데이터 4\n",
        "    print(\"iteration -------------\", i)\n",
        "    if not adjusted: break  # 모든 훈련에 대해 가중치 변화 없으면 학습종료\n",
        "    adjusted = 0"
      ],
      "execution_count": 34,
      "outputs": [
        {
          "output_type": "stream",
          "text": [
            "가중치 수정 전 target: -1 y: 0 b: 0.0 W: [0 0]\n",
            "가중치 수정 후 target: -1 y: 0 b: -0.99 W: [0.01 0.01]\n",
            "가중치 수정 전 target: 1 y: -1 b: -0.99 W: [0.01 0.01]\n",
            "가중치 수정 후 target: 1 y: -1 b: 0.020000000000000018 W: [0.02 0.02]\n",
            "iteration ------------- 0\n",
            "가중치 수정 전 target: -1 y: 1 b: 0.020000000000000018 W: [0.02 0.02]\n",
            "가중치 수정 후 target: -1 y: 1 b: -0.97 W: [0.03 0.01]\n",
            "가중치 수정 전 target: 1 y: -1 b: -0.97 W: [0.03 0.01]\n",
            "가중치 수정 후 target: 1 y: -1 b: 0.040000000000000036 W: [0.04 0.02]\n",
            "iteration ------------- 1\n",
            "가중치 수정 전 target: -1 y: 1 b: 0.040000000000000036 W: [0.04 0.02]\n",
            "가중치 수정 후 target: -1 y: 1 b: -0.95 W: [0.05 0.01]\n",
            "가중치 수정 전 target: 1 y: -1 b: -0.95 W: [0.05 0.01]\n",
            "가중치 수정 후 target: 1 y: -1 b: 0.06000000000000005 W: [0.06 0.02]\n",
            "iteration ------------- 2\n",
            "가중치 수정 전 target: -1 y: 1 b: 0.06000000000000005 W: [0.06 0.02]\n",
            "가중치 수정 후 target: -1 y: 1 b: -0.9299999999999999 W: [0.07 0.01]\n",
            "가중치 수정 전 target: 1 y: -1 b: -0.9299999999999999 W: [0.07 0.01]\n",
            "가중치 수정 후 target: 1 y: -1 b: 0.08000000000000007 W: [0.08 0.02]\n",
            "iteration ------------- 3\n",
            "가중치 수정 전 target: -1 y: 1 b: 0.08000000000000007 W: [0.08 0.02]\n",
            "가중치 수정 후 target: -1 y: 1 b: -0.9099999999999999 W: [0.09 0.01]\n",
            "가중치 수정 전 target: 1 y: -1 b: -0.9099999999999999 W: [0.09 0.01]\n",
            "가중치 수정 후 target: 1 y: -1 b: 0.10000000000000009 W: [0.1  0.02]\n",
            "iteration ------------- 4\n",
            "가중치 수정 전 target: -1 y: 1 b: 0.10000000000000009 W: [0.1  0.02]\n",
            "가중치 수정 후 target: -1 y: 1 b: -0.8899999999999999 W: [0.11 0.01]\n",
            "가중치 수정 전 target: 1 y: -1 b: -0.8899999999999999 W: [0.11 0.01]\n",
            "가중치 수정 후 target: 1 y: -1 b: 0.1200000000000001 W: [0.12 0.02]\n",
            "iteration ------------- 5\n",
            "가중치 수정 전 target: -1 y: 1 b: 0.1200000000000001 W: [0.12 0.02]\n",
            "가중치 수정 후 target: -1 y: 1 b: -0.8699999999999999 W: [0.13 0.01]\n",
            "가중치 수정 전 target: 1 y: -1 b: -0.8699999999999999 W: [0.13 0.01]\n",
            "가중치 수정 후 target: 1 y: -1 b: 0.14000000000000012 W: [0.14 0.02]\n",
            "iteration ------------- 6\n",
            "가중치 수정 전 target: -1 y: 1 b: 0.14000000000000012 W: [0.14 0.02]\n",
            "가중치 수정 후 target: -1 y: 1 b: -0.8499999999999999 W: [0.15 0.01]\n",
            "가중치 수정 전 target: 1 y: -1 b: -0.8499999999999999 W: [0.15 0.01]\n",
            "가중치 수정 후 target: 1 y: -1 b: 0.16000000000000014 W: [0.16 0.02]\n",
            "iteration ------------- 7\n",
            "가중치 수정 전 target: -1 y: 1 b: 0.16000000000000014 W: [0.16 0.02]\n",
            "가중치 수정 후 target: -1 y: 1 b: -0.8299999999999998 W: [0.17 0.01]\n",
            "가중치 수정 전 target: 1 y: -1 b: -0.8299999999999998 W: [0.17 0.01]\n",
            "가중치 수정 후 target: 1 y: -1 b: 0.18000000000000016 W: [0.18 0.02]\n",
            "iteration ------------- 8\n",
            "가중치 수정 전 target: -1 y: 1 b: 0.18000000000000016 W: [0.18 0.02]\n",
            "가중치 수정 후 target: -1 y: 1 b: -0.8099999999999998 W: [0.19 0.01]\n",
            "가중치 수정 전 target: 1 y: -1 b: -0.8099999999999998 W: [0.19 0.01]\n",
            "가중치 수정 후 target: 1 y: -1 b: 0.20000000000000018 W: [0.2  0.02]\n",
            "iteration ------------- 9\n",
            "가중치 수정 전 target: -1 y: 1 b: 0.20000000000000018 W: [0.2  0.02]\n",
            "가중치 수정 후 target: -1 y: 1 b: -0.7899999999999998 W: [0.21 0.01]\n",
            "가중치 수정 전 target: 1 y: -1 b: -0.7899999999999998 W: [0.21 0.01]\n",
            "가중치 수정 후 target: 1 y: -1 b: 0.2200000000000002 W: [0.22 0.02]\n",
            "iteration ------------- 10\n",
            "가중치 수정 전 target: -1 y: 1 b: 0.2200000000000002 W: [0.22 0.02]\n",
            "가중치 수정 후 target: -1 y: 1 b: -0.7699999999999998 W: [0.23 0.01]\n",
            "가중치 수정 전 target: 1 y: -1 b: -0.7699999999999998 W: [0.23 0.01]\n",
            "가중치 수정 후 target: 1 y: -1 b: 0.2400000000000002 W: [0.24 0.02]\n",
            "iteration ------------- 11\n",
            "가중치 수정 전 target: -1 y: 1 b: 0.2400000000000002 W: [0.24 0.02]\n",
            "가중치 수정 후 target: -1 y: 1 b: -0.7499999999999998 W: [0.25 0.01]\n",
            "가중치 수정 전 target: 1 y: -1 b: -0.7499999999999998 W: [0.25 0.01]\n",
            "가중치 수정 후 target: 1 y: -1 b: 0.26000000000000023 W: [0.26 0.02]\n",
            "iteration ------------- 12\n",
            "가중치 수정 전 target: -1 y: 1 b: 0.26000000000000023 W: [0.26 0.02]\n",
            "가중치 수정 후 target: -1 y: 1 b: -0.7299999999999998 W: [0.27 0.01]\n",
            "가중치 수정 전 target: 1 y: -1 b: -0.7299999999999998 W: [0.27 0.01]\n",
            "가중치 수정 후 target: 1 y: -1 b: 0.28000000000000025 W: [0.28 0.02]\n",
            "iteration ------------- 13\n",
            "가중치 수정 전 target: -1 y: 1 b: 0.28000000000000025 W: [0.28 0.02]\n",
            "가중치 수정 후 target: -1 y: 1 b: -0.7099999999999997 W: [0.29 0.01]\n",
            "가중치 수정 전 target: 1 y: -1 b: -0.7099999999999997 W: [0.29 0.01]\n",
            "가중치 수정 후 target: 1 y: -1 b: 0.30000000000000027 W: [0.3  0.02]\n",
            "iteration ------------- 14\n",
            "가중치 수정 전 target: -1 y: 1 b: 0.30000000000000027 W: [0.3  0.02]\n",
            "가중치 수정 후 target: -1 y: 1 b: -0.6899999999999997 W: [0.31 0.01]\n",
            "가중치 수정 전 target: 1 y: -1 b: -0.6899999999999997 W: [0.31 0.01]\n",
            "가중치 수정 후 target: 1 y: -1 b: 0.3200000000000003 W: [0.32 0.02]\n",
            "iteration ------------- 15\n",
            "가중치 수정 전 target: -1 y: 1 b: 0.3200000000000003 W: [0.32 0.02]\n",
            "가중치 수정 후 target: -1 y: 1 b: -0.6699999999999997 W: [0.33 0.01]\n",
            "가중치 수정 전 target: 1 y: -1 b: -0.6699999999999997 W: [0.33 0.01]\n",
            "가중치 수정 후 target: 1 y: -1 b: 0.3400000000000003 W: [0.34 0.02]\n",
            "iteration ------------- 16\n",
            "가중치 수정 전 target: -1 y: 1 b: 0.3400000000000003 W: [0.34 0.02]\n",
            "가중치 수정 후 target: -1 y: 1 b: -0.6499999999999997 W: [0.35 0.01]\n",
            "가중치 수정 전 target: 1 y: -1 b: -0.6499999999999997 W: [0.35 0.01]\n",
            "가중치 수정 후 target: 1 y: -1 b: 0.3600000000000003 W: [0.36 0.02]\n",
            "iteration ------------- 17\n",
            "가중치 수정 전 target: -1 y: 1 b: 0.3600000000000003 W: [0.36 0.02]\n",
            "가중치 수정 후 target: -1 y: 1 b: -0.6299999999999997 W: [0.37 0.01]\n",
            "가중치 수정 전 target: 1 y: -1 b: -0.6299999999999997 W: [0.37 0.01]\n",
            "가중치 수정 후 target: 1 y: -1 b: 0.38000000000000034 W: [0.38 0.02]\n",
            "iteration ------------- 18\n",
            "가중치 수정 전 target: -1 y: 1 b: 0.38000000000000034 W: [0.38 0.02]\n",
            "가중치 수정 후 target: -1 y: 1 b: -0.6099999999999997 W: [0.39 0.01]\n",
            "가중치 수정 전 target: 1 y: -1 b: -0.6099999999999997 W: [0.39 0.01]\n",
            "가중치 수정 후 target: 1 y: -1 b: 0.40000000000000036 W: [0.4  0.02]\n",
            "iteration ------------- 19\n",
            "가중치 수정 전 target: -1 y: 1 b: 0.40000000000000036 W: [0.4  0.02]\n",
            "가중치 수정 후 target: -1 y: 1 b: -0.5899999999999996 W: [0.41 0.01]\n",
            "가중치 수정 전 target: 1 y: -1 b: -0.5899999999999996 W: [0.41 0.01]\n",
            "가중치 수정 후 target: 1 y: -1 b: 0.4200000000000004 W: [0.42 0.02]\n",
            "iteration ------------- 20\n",
            "가중치 수정 전 target: -1 y: 1 b: 0.4200000000000004 W: [0.42 0.02]\n",
            "가중치 수정 후 target: -1 y: 1 b: -0.5699999999999996 W: [0.43 0.01]\n",
            "가중치 수정 전 target: 1 y: -1 b: -0.5699999999999996 W: [0.43 0.01]\n",
            "가중치 수정 후 target: 1 y: -1 b: 0.4400000000000004 W: [0.44 0.02]\n",
            "iteration ------------- 21\n",
            "가중치 수정 전 target: -1 y: 1 b: 0.4400000000000004 W: [0.44 0.02]\n",
            "가중치 수정 후 target: -1 y: 1 b: -0.5499999999999996 W: [0.45 0.01]\n",
            "가중치 수정 전 target: 1 y: -1 b: -0.5499999999999996 W: [0.45 0.01]\n",
            "가중치 수정 후 target: 1 y: -1 b: 0.4600000000000004 W: [0.46 0.02]\n",
            "iteration ------------- 22\n",
            "가중치 수정 전 target: -1 y: 1 b: 0.4600000000000004 W: [0.46 0.02]\n",
            "가중치 수정 후 target: -1 y: 1 b: -0.5299999999999996 W: [0.47 0.01]\n",
            "가중치 수정 전 target: 1 y: -1 b: -0.5299999999999996 W: [0.47 0.01]\n",
            "가중치 수정 후 target: 1 y: -1 b: 0.4800000000000004 W: [0.48 0.02]\n",
            "iteration ------------- 23\n",
            "가중치 수정 전 target: -1 y: 1 b: 0.4800000000000004 W: [0.48 0.02]\n",
            "가중치 수정 후 target: -1 y: 1 b: -0.5099999999999996 W: [0.49 0.01]\n",
            "가중치 수정 전 target: 1 y: -1 b: -0.5099999999999996 W: [0.49 0.01]\n",
            "가중치 수정 후 target: 1 y: -1 b: 0.5000000000000004 W: [0.5  0.02]\n",
            "iteration ------------- 24\n",
            "가중치 수정 전 target: -1 y: 1 b: 0.5000000000000004 W: [0.5  0.02]\n",
            "가중치 수정 후 target: -1 y: 1 b: -0.48999999999999955 W: [0.51 0.01]\n",
            "가중치 수정 전 target: -1 y: 1 b: -0.48999999999999955 W: [0.51 0.01]\n",
            "가중치 수정 후 target: -1 y: 1 b: -1.4799999999999995 W: [0.5  0.02]\n",
            "가중치 수정 전 target: 1 y: -1 b: -1.4799999999999995 W: [0.5  0.02]\n",
            "가중치 수정 후 target: 1 y: -1 b: -0.46999999999999953 W: [0.51 0.03]\n",
            "iteration ------------- 25\n",
            "가중치 수정 전 target: -1 y: 1 b: -0.46999999999999953 W: [0.51 0.03]\n",
            "가중치 수정 후 target: -1 y: 1 b: -1.4599999999999995 W: [0.5  0.04]\n",
            "가중치 수정 전 target: 1 y: -1 b: -1.4599999999999995 W: [0.5  0.04]\n",
            "가중치 수정 후 target: 1 y: -1 b: -0.4499999999999995 W: [0.51 0.05]\n",
            "iteration ------------- 26\n",
            "가중치 수정 전 target: -1 y: 1 b: -0.4499999999999995 W: [0.51 0.05]\n",
            "가중치 수정 후 target: -1 y: 1 b: -1.4399999999999995 W: [0.5  0.06]\n",
            "가중치 수정 전 target: 1 y: -1 b: -1.4399999999999995 W: [0.5  0.06]\n",
            "가중치 수정 후 target: 1 y: -1 b: -0.4299999999999995 W: [0.51 0.07]\n",
            "iteration ------------- 27\n",
            "가중치 수정 전 target: -1 y: 1 b: -0.4299999999999995 W: [0.51 0.07]\n",
            "가중치 수정 후 target: -1 y: 1 b: -1.4199999999999995 W: [0.5  0.08]\n",
            "가중치 수정 전 target: 1 y: -1 b: -1.4199999999999995 W: [0.5  0.08]\n",
            "가중치 수정 후 target: 1 y: -1 b: -0.4099999999999995 W: [0.51 0.09]\n",
            "iteration ------------- 28\n",
            "가중치 수정 전 target: -1 y: 1 b: -0.4099999999999995 W: [0.51 0.09]\n",
            "가중치 수정 후 target: -1 y: 1 b: -1.3999999999999995 W: [0.5 0.1]\n",
            "가중치 수정 전 target: 1 y: -1 b: -1.3999999999999995 W: [0.5 0.1]\n",
            "가중치 수정 후 target: 1 y: -1 b: -0.38999999999999946 W: [0.51 0.11]\n",
            "iteration ------------- 29\n",
            "가중치 수정 전 target: -1 y: 1 b: -0.38999999999999946 W: [0.51 0.11]\n",
            "가중치 수정 후 target: -1 y: 1 b: -1.3799999999999994 W: [0.5  0.12]\n",
            "가중치 수정 전 target: 1 y: -1 b: -1.3799999999999994 W: [0.5  0.12]\n",
            "가중치 수정 후 target: 1 y: -1 b: -0.36999999999999944 W: [0.51 0.13]\n",
            "iteration ------------- 30\n",
            "가중치 수정 전 target: -1 y: 1 b: -0.36999999999999944 W: [0.51 0.13]\n",
            "가중치 수정 후 target: -1 y: 1 b: -1.3599999999999994 W: [0.5  0.14]\n",
            "가중치 수정 전 target: 1 y: -1 b: -1.3599999999999994 W: [0.5  0.14]\n",
            "가중치 수정 후 target: 1 y: -1 b: -0.3499999999999994 W: [0.51 0.15]\n",
            "iteration ------------- 31\n",
            "가중치 수정 전 target: -1 y: 1 b: -0.3499999999999994 W: [0.51 0.15]\n",
            "가중치 수정 후 target: -1 y: 1 b: -1.3399999999999994 W: [0.5  0.16]\n",
            "가중치 수정 전 target: 1 y: -1 b: -1.3399999999999994 W: [0.5  0.16]\n",
            "가중치 수정 후 target: 1 y: -1 b: -0.3299999999999994 W: [0.51 0.17]\n",
            "iteration ------------- 32\n",
            "가중치 수정 전 target: -1 y: 1 b: -0.3299999999999994 W: [0.51 0.17]\n",
            "가중치 수정 후 target: -1 y: 1 b: -1.3199999999999994 W: [0.5  0.18]\n",
            "가중치 수정 전 target: 1 y: -1 b: -1.3199999999999994 W: [0.5  0.18]\n",
            "가중치 수정 후 target: 1 y: -1 b: -0.3099999999999994 W: [0.51 0.19]\n",
            "iteration ------------- 33\n",
            "가중치 수정 전 target: -1 y: 1 b: -0.3099999999999994 W: [0.51 0.19]\n",
            "가중치 수정 후 target: -1 y: 1 b: -1.2999999999999994 W: [0.5 0.2]\n",
            "가중치 수정 전 target: 1 y: -1 b: -1.2999999999999994 W: [0.5 0.2]\n",
            "가중치 수정 후 target: 1 y: -1 b: -0.28999999999999937 W: [0.51 0.21]\n",
            "iteration ------------- 34\n",
            "가중치 수정 전 target: -1 y: 1 b: -0.28999999999999937 W: [0.51 0.21]\n",
            "가중치 수정 후 target: -1 y: 1 b: -1.2799999999999994 W: [0.5  0.22]\n",
            "가중치 수정 전 target: 1 y: -1 b: -1.2799999999999994 W: [0.5  0.22]\n",
            "가중치 수정 후 target: 1 y: -1 b: -0.26999999999999935 W: [0.51 0.23]\n",
            "iteration ------------- 35\n",
            "가중치 수정 전 target: -1 y: 1 b: -0.26999999999999935 W: [0.51 0.23]\n",
            "가중치 수정 후 target: -1 y: 1 b: -1.2599999999999993 W: [0.5  0.24]\n",
            "가중치 수정 전 target: 1 y: -1 b: -1.2599999999999993 W: [0.5  0.24]\n",
            "가중치 수정 후 target: 1 y: -1 b: -0.24999999999999933 W: [0.51 0.25]\n",
            "iteration ------------- 36\n",
            "가중치 수정 전 target: -1 y: 1 b: -0.24999999999999933 W: [0.51 0.25]\n",
            "가중치 수정 후 target: -1 y: 1 b: -1.2399999999999993 W: [0.5  0.26]\n",
            "가중치 수정 전 target: 1 y: -1 b: -1.2399999999999993 W: [0.5  0.26]\n",
            "가중치 수정 후 target: 1 y: -1 b: -0.22999999999999932 W: [0.51 0.27]\n",
            "iteration ------------- 37\n",
            "가중치 수정 전 target: -1 y: 1 b: -0.22999999999999932 W: [0.51 0.27]\n",
            "가중치 수정 후 target: -1 y: 1 b: -1.2199999999999993 W: [0.5  0.28]\n",
            "가중치 수정 전 target: 1 y: -1 b: -1.2199999999999993 W: [0.5  0.28]\n",
            "가중치 수정 후 target: 1 y: -1 b: -0.2099999999999993 W: [0.51 0.29]\n",
            "iteration ------------- 38\n",
            "가중치 수정 전 target: -1 y: 1 b: -0.2099999999999993 W: [0.51 0.29]\n",
            "가중치 수정 후 target: -1 y: 1 b: -1.1999999999999993 W: [0.5 0.3]\n",
            "가중치 수정 전 target: 1 y: -1 b: -1.1999999999999993 W: [0.5 0.3]\n",
            "가중치 수정 후 target: 1 y: -1 b: -0.18999999999999928 W: [0.51 0.31]\n",
            "iteration ------------- 39\n",
            "가중치 수정 전 target: -1 y: 1 b: -0.18999999999999928 W: [0.51 0.31]\n",
            "가중치 수정 후 target: -1 y: 1 b: -1.1799999999999993 W: [0.5  0.32]\n",
            "가중치 수정 전 target: 1 y: -1 b: -1.1799999999999993 W: [0.5  0.32]\n",
            "가중치 수정 후 target: 1 y: -1 b: -0.16999999999999926 W: [0.51 0.33]\n",
            "iteration ------------- 40\n",
            "가중치 수정 전 target: -1 y: 1 b: -0.16999999999999926 W: [0.51 0.33]\n",
            "가중치 수정 후 target: -1 y: 1 b: -1.1599999999999993 W: [0.5  0.34]\n",
            "가중치 수정 전 target: 1 y: -1 b: -1.1599999999999993 W: [0.5  0.34]\n",
            "가중치 수정 후 target: 1 y: -1 b: -0.14999999999999925 W: [0.51 0.35]\n",
            "iteration ------------- 41\n",
            "가중치 수정 전 target: -1 y: 1 b: -0.14999999999999925 W: [0.51 0.35]\n",
            "가중치 수정 후 target: -1 y: 1 b: -1.1399999999999992 W: [0.5  0.36]\n",
            "가중치 수정 전 target: 1 y: -1 b: -1.1399999999999992 W: [0.5  0.36]\n",
            "가중치 수정 후 target: 1 y: -1 b: -0.12999999999999923 W: [0.51 0.37]\n",
            "iteration ------------- 42\n",
            "가중치 수정 전 target: -1 y: 1 b: -0.12999999999999923 W: [0.51 0.37]\n",
            "가중치 수정 후 target: -1 y: 1 b: -1.1199999999999992 W: [0.5  0.38]\n",
            "가중치 수정 전 target: 1 y: -1 b: -1.1199999999999992 W: [0.5  0.38]\n",
            "가중치 수정 후 target: 1 y: -1 b: -0.10999999999999921 W: [0.51 0.39]\n",
            "iteration ------------- 43\n",
            "가중치 수정 전 target: -1 y: 1 b: -0.10999999999999921 W: [0.51 0.39]\n",
            "가중치 수정 후 target: -1 y: 1 b: -1.0999999999999992 W: [0.5 0.4]\n",
            "가중치 수정 전 target: 1 y: -1 b: -1.0999999999999992 W: [0.5 0.4]\n",
            "가중치 수정 후 target: 1 y: -1 b: -0.08999999999999919 W: [0.51 0.41]\n",
            "iteration ------------- 44\n",
            "가중치 수정 전 target: -1 y: 1 b: -0.08999999999999919 W: [0.51 0.41]\n",
            "가중치 수정 후 target: -1 y: 1 b: -1.0799999999999992 W: [0.5  0.42]\n",
            "가중치 수정 전 target: 1 y: -1 b: -1.0799999999999992 W: [0.5  0.42]\n",
            "가중치 수정 후 target: 1 y: -1 b: -0.06999999999999917 W: [0.51 0.43]\n",
            "iteration ------------- 45\n",
            "가중치 수정 전 target: -1 y: 1 b: -0.06999999999999917 W: [0.51 0.43]\n",
            "가중치 수정 후 target: -1 y: 1 b: -1.0599999999999992 W: [0.5  0.44]\n",
            "가중치 수정 전 target: 1 y: -1 b: -1.0599999999999992 W: [0.5  0.44]\n",
            "가중치 수정 후 target: 1 y: -1 b: -0.049999999999999156 W: [0.51 0.45]\n",
            "iteration ------------- 46\n",
            "가중치 수정 전 target: -1 y: 1 b: -0.049999999999999156 W: [0.51 0.45]\n",
            "가중치 수정 후 target: -1 y: 1 b: -1.0399999999999991 W: [0.5  0.46]\n",
            "가중치 수정 전 target: 1 y: -1 b: -1.0399999999999991 W: [0.5  0.46]\n",
            "가중치 수정 후 target: 1 y: -1 b: -0.02999999999999914 W: [0.51 0.47]\n",
            "iteration ------------- 47\n",
            "가중치 수정 전 target: -1 y: 1 b: -0.02999999999999914 W: [0.51 0.47]\n",
            "가중치 수정 후 target: -1 y: 1 b: -1.0199999999999991 W: [0.5  0.48]\n",
            "가중치 수정 전 target: 1 y: -1 b: -1.0199999999999991 W: [0.5  0.48]\n",
            "가중치 수정 후 target: 1 y: -1 b: -0.00999999999999912 W: [0.51 0.49]\n",
            "iteration ------------- 48\n",
            "가중치 수정 전 target: -1 y: 1 b: -0.00999999999999912 W: [0.51 0.49]\n",
            "가중치 수정 후 target: -1 y: 1 b: -0.9999999999999991 W: [0.5 0.5]\n",
            "iteration ------------- 49\n",
            "iteration ------------- 50\n"
          ],
          "name": "stdout"
        }
      ]
    },
    {
      "cell_type": "code",
      "metadata": {
        "colab": {
          "base_uri": "https://localhost:8080/"
        },
        "id": "2yxXTTBSK_NA",
        "outputId": "6dd48147-2756-4453-b30d-67a66cc5858a"
      },
      "source": [
        "X = [[-1, -1], [-1, 1], [1, -1], [1,1]]\n",
        "yhat = predict(X)\n",
        "print('x0 x1  y')\n",
        "for i in range(len(X)):\n",
        "    print('{0:2d} {1:2d} {2:2d}'.format(X[i][0], X[i][1], yhat[i]))"
      ],
      "execution_count": 35,
      "outputs": [
        {
          "output_type": "stream",
          "text": [
            "x0 x1  y\n",
            "-1 -1 -1\n",
            "-1  1 -1\n",
            " 1 -1 -1\n",
            " 1  1  1\n"
          ],
          "name": "stdout"
        }
      ]
    },
    {
      "cell_type": "code",
      "metadata": {
        "colab": {
          "base_uri": "https://localhost:8080/"
        },
        "id": "DSV_xenBLMOv",
        "outputId": "c4299d17-b4bd-4ff2-d44a-8974d94840a0"
      },
      "source": [
        "# NAND 연산\n",
        "adjusted = 0\n",
        "for i in range(100):\n",
        "    adjusted += train(-1,-1,  1)    # 훈련 데이터 1\n",
        "    adjusted += train(-1, 1,  1)    # 훈련 데이터 2\n",
        "    adjusted += train( 1,-1,  1)    # 훈련 데이터 3\n",
        "    adjusted += train( 1, 1, -1)    # 훈련 데이터 4\n",
        "    print(\"iteration -------------\", i)\n",
        "    if not adjusted: break  # 모든 훈련에 대해 가중치 변화 없으면 학습종료\n",
        "    adjusted = 0"
      ],
      "execution_count": 40,
      "outputs": [
        {
          "output_type": "stream",
          "text": [
            "iteration ------------- 0\n"
          ],
          "name": "stdout"
        }
      ]
    },
    {
      "cell_type": "code",
      "metadata": {
        "colab": {
          "base_uri": "https://localhost:8080/"
        },
        "id": "nkWNCxt-LQAN",
        "outputId": "3ed40677-5302-40c5-d170-81dac5054bb3"
      },
      "source": [
        "X = [[-1, -1], [-1, 1], [1, -1], [1,1]]\n",
        "yhat = predict(X)\n",
        "print('x0 x1  y')\n",
        "for i in range(len(X)):\n",
        "    print('{0:2d} {1:2d} {2:2d}'.format(X[i][0], X[i][1], yhat[i]))"
      ],
      "execution_count": 41,
      "outputs": [
        {
          "output_type": "stream",
          "text": [
            "x0 x1  y\n",
            "-1 -1  1\n",
            "-1  1  1\n",
            " 1 -1  1\n",
            " 1  1 -1\n"
          ],
          "name": "stdout"
        }
      ]
    },
    {
      "cell_type": "code",
      "metadata": {
        "id": "OZSBXZtmLVM9"
      },
      "source": [
        "# XOR 연산\n",
        "adjusted = 0\n",
        "for i in range(1000):\n",
        "    adjusted += train(-1,-1, -1)    # 훈련 데이터 1\n",
        "    adjusted += train(-1, 1,  1)    # 훈련 데이터 2\n",
        "    adjusted += train( 1,-1,  1)    # 훈련 데이터 3\n",
        "    adjusted += train( 1, 1, -1)    # 훈련 데이터 4\n",
        "    print(\"iteration -------------\", i)\n",
        "    if not adjusted: break  # 모든 훈련에 대해 가중치 변화 없으면 학습종료\n",
        "    adjusted = 0"
      ],
      "execution_count": null,
      "outputs": []
    },
    {
      "cell_type": "code",
      "metadata": {
        "colab": {
          "base_uri": "https://localhost:8080/"
        },
        "id": "LLLL7JKRMX1f",
        "outputId": "3a3f06ee-a643-4109-ebea-11f90dafa4a5"
      },
      "source": [
        "X = [[-1, -1], [-1, 1], [1, -1], [1,1]]\n",
        "yhat = predict(X)\n",
        "print('x0 x1  y')\n",
        "for i in range(len(X)):\n",
        "    print('{0:2d} {1:2d} {2:2d}'.format(X[i][0], X[i][1], yhat[i]))"
      ],
      "execution_count": 43,
      "outputs": [
        {
          "output_type": "stream",
          "text": [
            "x0 x1  y\n",
            "-1 -1  1\n",
            "-1  1  1\n",
            " 1 -1 -1\n",
            " 1  1 -1\n"
          ],
          "name": "stdout"
        }
      ]
    },
    {
      "cell_type": "markdown",
      "metadata": {
        "id": "y1-R9RsHMjfa"
      },
      "source": [
        "### XOR 연산이 학습이 되지 않는 이유\n",
        "\n",
        "- XOR은 직선 하나(wx + b)로 표현되지 않기 때문이다.\n",
        "- 해결법:\n",
        "  - 입력 다양화\n",
        "  - 다층 퍼셉트론 (중요)"
      ]
    },
    {
      "cell_type": "markdown",
      "metadata": {
        "id": "-eMTgUgRNNGA"
      },
      "source": [
        "## LAB 7.4"
      ]
    },
    {
      "cell_type": "code",
      "metadata": {
        "id": "rSqlK4jgMx6f"
      },
      "source": [
        "W = np.array([0, 0, 0, 0])\n",
        "learning_rate = 0.01\n",
        "\n",
        "def activation(s):\n",
        "  if s > 0: return 1\n",
        "  elif s < 0: return -1\n",
        "  return 0\n",
        "\n",
        "def train(x0, x1, target):\n",
        "  global W\n",
        "  polyX = np.array([x0, x1, x0*x1, 1])\n",
        "  y = out(polyX)\n",
        "\n",
        "    ### 예측이 맞으면 아무것도 하지 않음-------------------------------------\n",
        "  if target == y: return 0               # 가중치가 변경되지 않았음을 반환\n",
        "    ### 예측이 틀리면 학습 실시---------------------------------------------\n",
        "  print('가중치 수정전 target :{} y:{} W:{}'.format(target, y, W))\n",
        "  W = W + learning_rate * polyX * target # 입력x목표값에 비례하여 변경\n",
        "  print('가중치 수정후 target :{} y:{} W:{}'.format(target, y, W))\n",
        "  return 1    \n",
        "\n",
        "def predict(inputs):\n",
        "  outputs = []\n",
        "  for x in inputs:\n",
        "    polyX = np.array([x[0], x[1], x[0]*x[1], 1])\n",
        "    outputs.append (out(polyX))\n",
        "  return outputs"
      ],
      "execution_count": 45,
      "outputs": []
    },
    {
      "cell_type": "code",
      "metadata": {
        "colab": {
          "base_uri": "https://localhost:8080/"
        },
        "id": "mXHtJe0jTotN",
        "outputId": "57d0bd92-12d1-4dbf-a506-fbbb3ef1f598"
      },
      "source": [
        "adjusted = 0\n",
        "for i in range(100):\n",
        "    adjusted += train(-1,-1, -1)    # 훈련 데이터 1\n",
        "    adjusted += train(-1, 1,  1)    # 훈련 데이터 2\n",
        "    adjusted += train( 1,-1,  1)    # 훈련 데이터 3\n",
        "    adjusted += train( 1, 1, -1)    # 훈련 데이터 4\n",
        "    print(\"iteration -------------\", i)\n",
        "    if not adjusted: break  # 모든 훈련에 대해 가중치 변화 없으면 학습종료\n",
        "    adjusted = 0\n",
        "\n",
        "X = [[-1, -1], [-1, 1], [1, -1], [1,1]]\n",
        "yhat = predict(X)\n",
        "print('x0 x1  y')\n",
        "for i in range(len(X)):\n",
        "    print('{0:2d} {1:2d} {2:2d}'.format(X[i][0], X[i][1], yhat[i]))"
      ],
      "execution_count": 46,
      "outputs": [
        {
          "output_type": "stream",
          "text": [
            "가중치 수정전 target :1 y:-1 W:[0 0 0 0]\n",
            "가중치 수정후 target :1 y:-1 W:[-0.01  0.01 -0.01  0.01]\n",
            "가중치 수정전 target :1 y:-1 W:[-0.01  0.01 -0.01  0.01]\n",
            "가중치 수정후 target :1 y:-1 W:[ 0.    0.   -0.02  0.02]\n",
            "iteration ------------- 0\n",
            "가중치 수정전 target :1 y:-1 W:[ 0.    0.   -0.02  0.02]\n",
            "가중치 수정후 target :1 y:-1 W:[-0.01  0.01 -0.03  0.03]\n",
            "가중치 수정전 target :1 y:-1 W:[-0.01  0.01 -0.03  0.03]\n",
            "가중치 수정후 target :1 y:-1 W:[ 0.    0.   -0.04  0.04]\n",
            "iteration ------------- 1\n",
            "가중치 수정전 target :1 y:-1 W:[ 0.    0.   -0.04  0.04]\n",
            "가중치 수정후 target :1 y:-1 W:[-0.01  0.01 -0.05  0.05]\n",
            "가중치 수정전 target :1 y:-1 W:[-0.01  0.01 -0.05  0.05]\n",
            "가중치 수정후 target :1 y:-1 W:[ 0.    0.   -0.06  0.06]\n",
            "iteration ------------- 2\n",
            "가중치 수정전 target :1 y:-1 W:[ 0.    0.   -0.06  0.06]\n",
            "가중치 수정후 target :1 y:-1 W:[-0.01  0.01 -0.07  0.07]\n",
            "가중치 수정전 target :1 y:-1 W:[-0.01  0.01 -0.07  0.07]\n",
            "가중치 수정후 target :1 y:-1 W:[ 0.    0.   -0.08  0.08]\n",
            "iteration ------------- 3\n",
            "가중치 수정전 target :1 y:-1 W:[ 0.    0.   -0.08  0.08]\n",
            "가중치 수정후 target :1 y:-1 W:[-0.01  0.01 -0.09  0.09]\n",
            "가중치 수정전 target :1 y:-1 W:[-0.01  0.01 -0.09  0.09]\n",
            "가중치 수정후 target :1 y:-1 W:[ 0.   0.  -0.1  0.1]\n",
            "iteration ------------- 4\n",
            "가중치 수정전 target :1 y:-1 W:[ 0.   0.  -0.1  0.1]\n",
            "가중치 수정후 target :1 y:-1 W:[-0.01  0.01 -0.11  0.11]\n",
            "가중치 수정전 target :1 y:-1 W:[-0.01  0.01 -0.11  0.11]\n",
            "가중치 수정후 target :1 y:-1 W:[ 0.    0.   -0.12  0.12]\n",
            "iteration ------------- 5\n",
            "가중치 수정전 target :1 y:-1 W:[ 0.    0.   -0.12  0.12]\n",
            "가중치 수정후 target :1 y:-1 W:[-0.01  0.01 -0.13  0.13]\n",
            "가중치 수정전 target :1 y:-1 W:[-0.01  0.01 -0.13  0.13]\n",
            "가중치 수정후 target :1 y:-1 W:[ 0.    0.   -0.14  0.14]\n",
            "iteration ------------- 6\n",
            "가중치 수정전 target :1 y:-1 W:[ 0.    0.   -0.14  0.14]\n",
            "가중치 수정후 target :1 y:-1 W:[-0.01  0.01 -0.15  0.15]\n",
            "가중치 수정전 target :1 y:-1 W:[-0.01  0.01 -0.15  0.15]\n",
            "가중치 수정후 target :1 y:-1 W:[ 0.    0.   -0.16  0.16]\n",
            "iteration ------------- 7\n",
            "iteration ------------- 8\n",
            "x0 x1  y\n",
            "-1 -1 -1\n",
            "-1  1  1\n",
            " 1 -1  1\n",
            " 1  1 -1\n"
          ],
          "name": "stdout"
        }
      ]
    },
    {
      "cell_type": "markdown",
      "metadata": {
        "id": "sFoBfe4ElWUN"
      },
      "source": [
        "## LAB 7.5\n",
        "- XOR 연산이 가능한 다층 퍼셉트론\n"
      ]
    },
    {
      "cell_type": "code",
      "metadata": {
        "id": "VJ1aR8oIlWIH"
      },
      "source": [
        "import matplotlib.pyplot as plt\n"
      ],
      "execution_count": 47,
      "outputs": []
    },
    {
      "cell_type": "code",
      "metadata": {
        "id": "XQrHEFl5Vey6"
      },
      "source": [
        "U = np.random.rand(2,3)\n",
        "W = np.random.rand(3,2)\n",
        "learning_rate = 1.0"
      ],
      "execution_count": 64,
      "outputs": []
    },
    {
      "cell_type": "code",
      "metadata": {
        "colab": {
          "base_uri": "https://localhost:8080/"
        },
        "id": "1glUMT3_lqsD",
        "outputId": "a8723ef4-e862-4509-c2af-53f8601d9482"
      },
      "source": [
        "print(U, W)"
      ],
      "execution_count": 65,
      "outputs": [
        {
          "output_type": "stream",
          "text": [
            "[[0.54703482 0.91537298 0.06221134]\n",
            " [0.99241886 0.00135345 0.44029541]] [[0.0799983  0.17709587]\n",
            " [0.09280874 0.95313419]\n",
            " [0.66451491 0.0418649 ]]\n"
          ],
          "name": "stdout"
        }
      ]
    },
    {
      "cell_type": "code",
      "metadata": {
        "id": "DZc5dVSUlshy"
      },
      "source": [
        "def sigmoid(v):\n",
        "  return 1 / (1 + np.exp(-v))\n",
        "\n",
        "def derivative_sigmoid(v):\n",
        "  s = sigmoid(v)\n",
        "  return s * (1 - s) # 시그모이드 함수의 미분은 시그모이드 함수로 표현가능함"
      ],
      "execution_count": 51,
      "outputs": []
    },
    {
      "cell_type": "code",
      "metadata": {
        "id": "SRA4cxNLl2K9"
      },
      "source": [
        "input = np.zeros(2)\n",
        "\n",
        "# 순전파시 계산될 값들 \n",
        "h_sum, h_out, h_deriv = np.zeros(3), np.zeros(3), np.zeros(3)\n",
        "# 역전파시 계산될 값들 \n",
        "h_error, h_delta = np.zeros(3), np.zeros(3)                  \n",
        "\n",
        "# 순전파시 계산될 값들 \n",
        "y_sum, y_out, y_deriv = np.zeros(2), np.zeros(2), np.zeros(2)\n",
        "# 역전파시 계산될 값들 \n",
        "y_error, y_delta = np.zeros(2), np.zeros(2)"
      ],
      "execution_count": 66,
      "outputs": []
    },
    {
      "cell_type": "code",
      "metadata": {
        "id": "nAXGHtUumNwM"
      },
      "source": [
        "def forward_xh(x):\n",
        "    global input, h_sum, h_out, h_deriv\n",
        "    input = x\n",
        "    h_sum = U.T.dot(input)                 # 은닉층에서 합산된 값\n",
        "    h_out = sigmoid(h_sum)                 # 은닉층의 활성화 값\n",
        "    h_deriv = derivative_sigmoid(h_sum)    # 은닉층 활성화 미분치"
      ],
      "execution_count": 53,
      "outputs": []
    },
    {
      "cell_type": "code",
      "metadata": {
        "id": "bfK2mX6nmQWI"
      },
      "source": [
        "def forward_hy():\n",
        "    global y_sum, y_out, y_deriv\n",
        "    y_sum = W.T.dot(h_out)                  # 출력층에서 합산된 값\n",
        "    y_out = sigmoid(y_sum)                  # 출력층의 활성화 값\n",
        "    y_deriv = derivative_sigmoid(y_sum)     # 출력층의 활성화 미분치"
      ],
      "execution_count": 54,
      "outputs": []
    },
    {
      "cell_type": "code",
      "metadata": {
        "id": "9r3u4ICtmWm4"
      },
      "source": [
        "def compute_error(target):\n",
        "    return y_out - target   "
      ],
      "execution_count": 55,
      "outputs": []
    },
    {
      "cell_type": "code",
      "metadata": {
        "id": "llcb8M6smZMM"
      },
      "source": [
        "def backward_y(error):\n",
        "    global y_error, y_delta, W\n",
        "    y_error = error                                    # 출력층 오차\n",
        "    y_delta = y_deriv * y_error                        # 출력층에서 보내는 델타\n",
        "    ## 연결강도 W 수정\n",
        "    dW = - learning_rate * np.outer(h_out, y_delta)    # 연결강도 갱신: 은닉층 출력과 출력층 델타의 외적\n",
        "    W = W + dW"
      ],
      "execution_count": 56,
      "outputs": []
    },
    {
      "cell_type": "code",
      "metadata": {
        "id": "DTRyqboAmbHA"
      },
      "source": [
        "\n",
        "def backward_h():\n",
        "   global h_error, h_delta, U\n",
        "   h_error = W.dot(y_delta)                             # 은닉층 오차\n",
        "   h_delta = h_deriv * h_error                          # 은닉층에서 보내는 델타\n",
        "   ## 연결강도 U 수정\n",
        "   dU = - learning_rate * np.outer(input, h_delta)      # 연결강도 갱신\n",
        "   U = U + dU"
      ],
      "execution_count": 57,
      "outputs": []
    },
    {
      "cell_type": "code",
      "metadata": {
        "id": "B2-zlrjumcTE"
      },
      "source": [
        "def train(x, target):\n",
        "    forward_xh(x)\n",
        "    forward_hy()\n",
        "    e = compute_error(target)\n",
        "    backward_y(e)\n",
        "    backward_h()\n",
        "    return e**2"
      ],
      "execution_count": 58,
      "outputs": []
    },
    {
      "cell_type": "code",
      "metadata": {
        "id": "sRZoo_ZmmdpH"
      },
      "source": [
        "loss = []\n",
        "\n",
        "for i in range(1000):\n",
        "    e_accum=0\n",
        "    true = np.array([1,0])\n",
        "    false = np.array([0,1])\n",
        "    e_accum += train(np.array([0,0]), false)    # 훈련 데이터 1 \n",
        "    e_accum += train(np.array([0,1]), true)     # 훈련 데이터 2\n",
        "    e_accum += train(np.array([1,0]), true)     # 훈련 데이터 3\n",
        "    e_accum += train(np.array([1,1]), false)    # 훈련 데이터 4\n",
        "    loss.append(e_accum)\n",
        "\n",
        "# XOR 구함"
      ],
      "execution_count": 67,
      "outputs": []
    },
    {
      "cell_type": "code",
      "metadata": {
        "colab": {
          "base_uri": "https://localhost:8080/",
          "height": 279
        },
        "id": "eMAvLdrXm0A2",
        "outputId": "dab72f5a-07c7-4396-9043-66649a915151"
      },
      "source": [
        "plt.plot(loss)\n",
        "plt.ylabel('loss')\n",
        "plt.xlabel('training')\n",
        "plt.show()"
      ],
      "execution_count": 68,
      "outputs": [
        {
          "output_type": "display_data",
          "data": {
            "image/png": "[encoded data removed]",
            "text/plain": [
              "<Figure size 432x288 with 1 Axes>"
            ]
          },
          "metadata": {
            "needs_background": "light"
          }
        }
      ]
    },
    {
      "cell_type": "code",
      "metadata": {
        "colab": {
          "base_uri": "https://localhost:8080/"
        },
        "id": "pH8YMCQLm1we",
        "outputId": "3f5d5fd8-bc5b-402d-c1b2-74df60a23ce4"
      },
      "source": [
        "def test(X):\n",
        "    y_hat = []\n",
        "    for x in X:\n",
        "        forward_xh(x)\n",
        "        forward_hy()\n",
        "        y_hat.append(y_out)\n",
        "    return y_hat\n",
        "\n",
        "test(np.array([[0, 0], [0, 1], [1, 0], [1, 1]]))"
      ],
      "execution_count": 69,
      "outputs": [
        {
          "output_type": "execute_result",
          "data": {
            "text/plain": [
              "[array([0.11607248, 0.8844247 ]),\n",
              " array([0.92849745, 0.07116882]),\n",
              " array([0.92796562, 0.07169066]),\n",
              " array([0.03319533, 0.96706584])]"
            ]
          },
          "metadata": {},
          "execution_count": 69
        }
      ]
    },
    {
      "cell_type": "markdown",
      "metadata": {
        "id": "Egore9wMqzxM"
      },
      "source": [
        "## LAB 7.6"
      ]
    },
    {
      "cell_type": "code",
      "metadata": {
        "colab": {
          "base_uri": "https://localhost:8080/",
          "height": 284
        },
        "id": "pk-HZBEUqSpK",
        "outputId": "e23e50fa-52f4-4738-a3db-3898302e87dd"
      },
      "source": [
        "import pandas as pd\n",
        "\n",
        "data_loc = 'https://github.com/dknife/ML/raw/main/data/'\n",
        "df = pd.read_csv(data_loc+'nonlinear.csv')\n",
        "plt.scatter(df['x'], df['y'])"
      ],
      "execution_count": 70,
      "outputs": [
        {
          "output_type": "execute_result",
          "data": {
            "text/plain": [
              "<matplotlib.collections.PathCollection at 0x7f0d58eb1a90>"
            ]
          },
          "metadata": {},
          "execution_count": 70
        },
        {
          "output_type": "display_data",
          "data": {
            "image/png": "[encoded data removed]",
            "text/plain": [
              "<Figure size 432x288 with 1 Axes>"
            ]
          },
          "metadata": {
            "needs_background": "light"
          }
        }
      ]
    },
    {
      "cell_type": "code",
      "metadata": {
        "id": "nmz7iC0asmAZ"
      },
      "source": [
        "nx, nh1, nh2, ny = 1, 6, 4, 1\n",
        "U = np.random.randn(nx , nh1)*2\n",
        "V = np.random.randn(nh1, nh2)*2\n",
        "W = np.random.randn(nh2, ny)*2\n",
        "learning_rate = 0.1"
      ],
      "execution_count": 71,
      "outputs": []
    },
    {
      "cell_type": "code",
      "metadata": {
        "id": "Npc2iGIlsqBZ"
      },
      "source": [
        "\n",
        "input = np.zeros(nx)\n",
        "\n",
        "h1_out, h1_deriv = np.zeros(nh1), np.zeros(nh1) # 순전파시 계산 - 은닉계층 1\n",
        "h1_delta = np.zeros(nh1)                        # 역전파시 계산\n",
        "\n",
        "h2_out, h2_deriv = np.zeros(nh2), np.zeros(nh2) # 순전파시 계산 - 은닉계층 2\n",
        "h2_delta = np.zeros(nh2)                        # 역전파시 계산\n",
        "\n",
        "y_out, y_deriv = np.zeros(ny), np.zeros(ny)     # 순전파시 계산 - 출력계층\n",
        "y_delta = np.zeros(ny)    "
      ],
      "execution_count": 72,
      "outputs": []
    },
    {
      "cell_type": "code",
      "metadata": {
        "id": "HC9QAs2Jsr5F"
      },
      "source": [
        "\n",
        "def forward(x):\n",
        "    global input, h1_out, h1_deriv, h2_out, h2_deriv, y_out, y_deriv\n",
        "    input = x\n",
        "    h1_out = sigmoid ( U.T.dot(input) )          # 은닉계층 1로 전파\n",
        "    h1_deriv = h1_out * (1 - h1_out)             # 은닉계층 1의 미분\n",
        "\n",
        "    h2_out = sigmoid ( V.T.dot(h1_out) )         # 은닉계층 2로 전파\n",
        "    h2_deriv = h2_out * (1 - h2_out)             # 은닉계층 2의 미분\n",
        "  \n",
        "    y_out = sigmoid( W.T.dot(h2_out) )           # 출력계층으로 전파\n",
        "    y_deriv = y_out * (1 - y_out)                # 출력계층의 미분"
      ],
      "execution_count": 73,
      "outputs": []
    },
    {
      "cell_type": "code",
      "metadata": {
        "id": "vKeRclo_s_OO"
      },
      "source": [
        "def compute_error(target):\n",
        "    return y_out - target"
      ],
      "execution_count": 74,
      "outputs": []
    },
    {
      "cell_type": "code",
      "metadata": {
        "id": "OqRS4K-itBWD"
      },
      "source": [
        "\n",
        "def backward(error):\n",
        "    global y_delta, W, h2_delta, V, h1_delta, U\n",
        "  \n",
        "    y_delta = y_deriv * error                         # 출력 계층의 델타\n",
        "    dW = - learning_rate * np.outer(h2_out, y_delta)  # W의 수정\n",
        "\n",
        "    W = W + dW\n",
        "    h2_delta = h2_deriv * W.dot(y_delta)              # 은닉 계층 2의 델타\n",
        "    dV = - learning_rate * np.outer(h1_out, h2_delta) # V의 수정\n",
        "\n",
        "    V = V + dV\n",
        "    h1_delta = h1_deriv * V.dot(h2_delta)             # 은닉 계층 1의 델타\n",
        "    dU = - learning_rate * np.outer(input, h1_delta)  # U의 수정"
      ],
      "execution_count": 75,
      "outputs": []
    },
    {
      "cell_type": "code",
      "metadata": {
        "id": "MJP2A8yHtCrB"
      },
      "source": [
        "def train(x, target):\n",
        "    forward(x)\n",
        "    e = compute_error(target)\n",
        "    backward(e)\n",
        "    return e**2"
      ],
      "execution_count": 76,
      "outputs": []
    },
    {
      "cell_type": "code",
      "metadata": {
        "id": "AjfHhYRYtJQp"
      },
      "source": [
        "loss = []\n",
        "X = df['x'].to_numpy()\n",
        "y_label = df['y'].to_numpy()\n",
        "for i in range(100):\n",
        "    e_accum = 0\n",
        "    for x, y in zip(X, y_label):\n",
        "        e_accum += train(x, y)\n",
        "    loss.append(e_accum)"
      ],
      "execution_count": 77,
      "outputs": []
    },
    {
      "cell_type": "code",
      "metadata": {
        "colab": {
          "base_uri": "https://localhost:8080/",
          "height": 265
        },
        "id": "y3fF0mO-tM44",
        "outputId": "043bf9c7-fe72-425d-c744-c4471667315e"
      },
      "source": [
        "err_log = np.array(loss).flatten()\n",
        "plt.plot(err_log)\n",
        "plt.show()"
      ],
      "execution_count": 78,
      "outputs": [
        {
          "output_type": "display_data",
          "data": {
            "image/png": "[encoded data removed]",
            "text/plain": [
              "<Figure size 432x288 with 1 Axes>"
            ]
          },
          "metadata": {
            "needs_background": "light"
          }
        }
      ]
    },
    {
      "cell_type": "code",
      "metadata": {
        "id": "WCXJ8jCwtPww"
      },
      "source": [
        "def predict(X):\n",
        "    y_hat = []\n",
        "    for x in X:\n",
        "        forward(x)\n",
        "        y_hat.append(y_out)\n",
        "    return y_hat"
      ],
      "execution_count": 79,
      "outputs": []
    },
    {
      "cell_type": "code",
      "metadata": {
        "colab": {
          "base_uri": "https://localhost:8080/",
          "height": 284
        },
        "id": "sjrIfUs_tQ9r",
        "outputId": "d4d80387-0140-4f26-cba4-5970424e09d2"
      },
      "source": [
        "domain = np.linspace(0, 1, 100).reshape(-1,1) # 입력은 2차원 벡터로 변형\n",
        "y_hat = predict(domain)\n",
        "plt.scatter(df['x'], df['y'])\n",
        "plt.scatter(domain, y_hat, color='r')"
      ],
      "execution_count": 80,
      "outputs": [
        {
          "output_type": "execute_result",
          "data": {
            "text/plain": [
              "<matplotlib.collections.PathCollection at 0x7f0d58df8ad0>"
            ]
          },
          "metadata": {},
          "execution_count": 80
        },
        {
          "output_type": "display_data",
          "data": {
            "image/png": "[encoded data removed]",
            "text/plain": [
              "<Figure size 432x288 with 1 Axes>"
            ]
          },
          "metadata": {
            "needs_background": "light"
          }
        }
      ]
    },
    {
      "cell_type": "code",
      "metadata": {
        "id": "A9e4GndstSPa"
      },
      "source": [
        ""
      ],
      "execution_count": null,
      "outputs": []
    }
  ]
}
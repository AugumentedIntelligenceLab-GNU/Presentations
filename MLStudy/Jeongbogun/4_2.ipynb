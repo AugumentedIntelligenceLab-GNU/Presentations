{
  "nbformat": 4,
  "nbformat_minor": 0,
  "metadata": {
    "colab": {
      "name": "4.2.ipynb",
      "provenance": [],
      "authorship_tag": "ABX9TyMpiaQVMsvOOGGdgEAbZ0/M",
      "include_colab_link": true
    },
    "kernelspec": {
      "name": "python3",
      "display_name": "Python 3"
    },
    "language_info": {
      "name": "python"
    }
  },
  "cells": [
    {
      "cell_type": "markdown",
      "metadata": {
        "id": "view-in-github",
        "colab_type": "text"
      },
      "source": [
        "<a href=\"https://colab.research.google.com/github/SH22Hwang/GNU_AugumentedIntelligenceLab/blob/main/Jeongbogun/4_2.ipynb\" target=\"_parent\"><img src=\"https://colab.research.google.com/assets/colab-badge.svg\" alt=\"Open In Colab\"/></a>"
      ]
    },
    {
      "cell_type": "code",
      "metadata": {
        "id": "akRBWQ59iplp"
      },
      "source": [
        "import pandas as pd\n",
        "import numpy as np\n",
        "from sklearn.linear_model import LinearRegression\n",
        "from sklearn.preprocessing import normalize"
      ],
      "execution_count": null,
      "outputs": []
    },
    {
      "cell_type": "code",
      "metadata": {
        "colab": {
          "base_uri": "https://localhost:8080/",
          "height": 266
        },
        "id": "wcdZ9n3mi9Yo",
        "outputId": "8e988de2-b1a5-4d58-9c9a-55f28dd9bdd5"
      },
      "source": [
        "name_s = pd.Series(['A','B','C','D','E','F','G'])\n",
        "horsepower_s = pd.Series([130,250,190,300,210,220,170])\n",
        "weight_s = pd.Series([1900,2600,2200,2900,2400,2300,2100])\n",
        "efficiency_s = pd.Series([16.3,10.2,11.1,7.1,12.1,13.2,14.2])\n",
        "\n",
        "df = pd.DataFrame({'name' : name_s, 'horsepower': horsepower_s, 'weight' : weight_s, 'efficiency' : efficiency_s})\n",
        "df"
      ],
      "execution_count": null,
      "outputs": [
        {
          "output_type": "execute_result",
          "data": {
            "text/html": [
              "<div>\n",
              "<style scoped>\n",
              "    .dataframe tbody tr th:only-of-type {\n",
              "        vertical-align: middle;\n",
              "    }\n",
              "\n",
              "    .dataframe tbody tr th {\n",
              "        vertical-align: top;\n",
              "    }\n",
              "\n",
              "    .dataframe thead th {\n",
              "        text-align: right;\n",
              "    }\n",
              "</style>\n",
              "<table border=\"1\" class=\"dataframe\">\n",
              "  <thead>\n",
              "    <tr style=\"text-align: right;\">\n",
              "      <th></th>\n",
              "      <th>name</th>\n",
              "      <th>horsepower</th>\n",
              "      <th>weight</th>\n",
              "      <th>efficiency</th>\n",
              "    </tr>\n",
              "  </thead>\n",
              "  <tbody>\n",
              "    <tr>\n",
              "      <th>0</th>\n",
              "      <td>A</td>\n",
              "      <td>130</td>\n",
              "      <td>1900</td>\n",
              "      <td>16.3</td>\n",
              "    </tr>\n",
              "    <tr>\n",
              "      <th>1</th>\n",
              "      <td>B</td>\n",
              "      <td>250</td>\n",
              "      <td>2600</td>\n",
              "      <td>10.2</td>\n",
              "    </tr>\n",
              "    <tr>\n",
              "      <th>2</th>\n",
              "      <td>C</td>\n",
              "      <td>190</td>\n",
              "      <td>2200</td>\n",
              "      <td>11.1</td>\n",
              "    </tr>\n",
              "    <tr>\n",
              "      <th>3</th>\n",
              "      <td>D</td>\n",
              "      <td>300</td>\n",
              "      <td>2900</td>\n",
              "      <td>7.1</td>\n",
              "    </tr>\n",
              "    <tr>\n",
              "      <th>4</th>\n",
              "      <td>E</td>\n",
              "      <td>210</td>\n",
              "      <td>2400</td>\n",
              "      <td>12.1</td>\n",
              "    </tr>\n",
              "    <tr>\n",
              "      <th>5</th>\n",
              "      <td>F</td>\n",
              "      <td>220</td>\n",
              "      <td>2300</td>\n",
              "      <td>13.2</td>\n",
              "    </tr>\n",
              "    <tr>\n",
              "      <th>6</th>\n",
              "      <td>G</td>\n",
              "      <td>170</td>\n",
              "      <td>2100</td>\n",
              "      <td>14.2</td>\n",
              "    </tr>\n",
              "  </tbody>\n",
              "</table>\n",
              "</div>"
            ],
            "text/plain": [
              "  name  horsepower  weight  efficiency\n",
              "0    A         130    1900        16.3\n",
              "1    B         250    2600        10.2\n",
              "2    C         190    2200        11.1\n",
              "3    D         300    2900         7.1\n",
              "4    E         210    2400        12.1\n",
              "5    F         220    2300        13.2\n",
              "6    G         170    2100        14.2"
            ]
          },
          "metadata": {
            "tags": []
          },
          "execution_count": 3
        }
      ]
    },
    {
      "cell_type": "code",
      "metadata": {
        "colab": {
          "base_uri": "https://localhost:8080/"
        },
        "id": "OPDv3UBhk4eX",
        "outputId": "02c17015-a8bf-4763-b61d-f6a4495ecc05"
      },
      "source": [
        "x = df['weight'].to_numpy()\n",
        "y = df['efficiency'].to_numpy()\n",
        "x = x[:, np.newaxis]\n",
        "print(x)\n"
      ],
      "execution_count": null,
      "outputs": [
        {
          "output_type": "stream",
          "text": [
            "[[1900]\n",
            " [2600]\n",
            " [2200]\n",
            " [2900]\n",
            " [2400]\n",
            " [2300]\n",
            " [2100]]\n"
          ],
          "name": "stdout"
        }
      ]
    },
    {
      "cell_type": "code",
      "metadata": {
        "colab": {
          "base_uri": "https://localhost:8080/"
        },
        "id": "j1eBtKHuorLR",
        "outputId": "d0a42300-8ebd-41b0-b05e-ae1b0f76b328"
      },
      "source": [
        "reg = LinearRegression().fit(x,y)\n",
        "print(reg.coef_)"
      ],
      "execution_count": null,
      "outputs": [
        {
          "output_type": "stream",
          "text": [
            "[-0.00844348]\n"
          ],
          "name": "stdout"
        }
      ]
    },
    {
      "cell_type": "code",
      "metadata": {
        "id": "Yq4jdoX0mR90"
      },
      "source": [
        ""
      ],
      "execution_count": null,
      "outputs": []
    }
  ]
}
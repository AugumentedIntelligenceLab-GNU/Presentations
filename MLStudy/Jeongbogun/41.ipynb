{
  "nbformat": 4,
  "nbformat_minor": 0,
  "metadata": {
    "colab": {
      "name": "41.ipynb",
      "provenance": [],
      "authorship_tag": "ABX9TyN/gIq6JUCOo9BSROwHeN1+",
      "include_colab_link": true
    },
    "kernelspec": {
      "name": "python3",
      "display_name": "Python 3"
    },
    "language_info": {
      "name": "python"
    }
  },
  "cells": [
    {
      "cell_type": "markdown",
      "metadata": {
        "id": "view-in-github",
        "colab_type": "text"
      },
      "source": [
        "<a href=\"https://colab.research.google.com/github/SH22Hwang/GNU_AugumentedIntelligenceLab/blob/main/Jeongbogun/41.ipynb\" target=\"_parent\"><img src=\"https://colab.research.google.com/assets/colab-badge.svg\" alt=\"Open In Colab\"/></a>"
      ]
    },
    {
      "cell_type": "code",
      "metadata": {
        "id": "KfLrumL_MXgd"
      },
      "source": [
        "import numpy as np\n",
        "import pandas as pd\n",
        "from sklearn import linear_model\n",
        "import matplotlib.pyplot as plt\n",
        "from sklearn.linear_model import LinearRegression"
      ],
      "execution_count": null,
      "outputs": []
    },
    {
      "cell_type": "code",
      "metadata": {
        "colab": {
          "base_uri": "https://localhost:8080/",
          "height": 266
        },
        "id": "u6IGW-HHMkH7",
        "outputId": "cc301fac-dc9c-4e22-ea67-4207a1f13cd2"
      },
      "source": [
        "name_s = pd.Series(['A','B','C','D','E','F','G'])\n",
        "horsepower_s = pd.Series([130,250,190,300,210,220,170])\n",
        "efficiency_s = pd.Series([16.3,10.2,11.1,7.1,12.1,13.2,14.2])\n",
        "\n",
        "df = pd.DataFrame({'name' : name_s, 'horsepower' : horsepower_s, 'efficiency' : efficiency_s})\n",
        "df"
      ],
      "execution_count": null,
      "outputs": [
        {
          "output_type": "execute_result",
          "data": {
            "text/html": [
              "<div>\n",
              "<style scoped>\n",
              "    .dataframe tbody tr th:only-of-type {\n",
              "        vertical-align: middle;\n",
              "    }\n",
              "\n",
              "    .dataframe tbody tr th {\n",
              "        vertical-align: top;\n",
              "    }\n",
              "\n",
              "    .dataframe thead th {\n",
              "        text-align: right;\n",
              "    }\n",
              "</style>\n",
              "<table border=\"1\" class=\"dataframe\">\n",
              "  <thead>\n",
              "    <tr style=\"text-align: right;\">\n",
              "      <th></th>\n",
              "      <th>name</th>\n",
              "      <th>horsepower</th>\n",
              "      <th>efficiency</th>\n",
              "    </tr>\n",
              "  </thead>\n",
              "  <tbody>\n",
              "    <tr>\n",
              "      <th>0</th>\n",
              "      <td>A</td>\n",
              "      <td>130</td>\n",
              "      <td>16.3</td>\n",
              "    </tr>\n",
              "    <tr>\n",
              "      <th>1</th>\n",
              "      <td>B</td>\n",
              "      <td>250</td>\n",
              "      <td>10.2</td>\n",
              "    </tr>\n",
              "    <tr>\n",
              "      <th>2</th>\n",
              "      <td>C</td>\n",
              "      <td>190</td>\n",
              "      <td>11.1</td>\n",
              "    </tr>\n",
              "    <tr>\n",
              "      <th>3</th>\n",
              "      <td>D</td>\n",
              "      <td>300</td>\n",
              "      <td>7.1</td>\n",
              "    </tr>\n",
              "    <tr>\n",
              "      <th>4</th>\n",
              "      <td>E</td>\n",
              "      <td>210</td>\n",
              "      <td>12.1</td>\n",
              "    </tr>\n",
              "    <tr>\n",
              "      <th>5</th>\n",
              "      <td>F</td>\n",
              "      <td>220</td>\n",
              "      <td>13.2</td>\n",
              "    </tr>\n",
              "    <tr>\n",
              "      <th>6</th>\n",
              "      <td>G</td>\n",
              "      <td>170</td>\n",
              "      <td>14.2</td>\n",
              "    </tr>\n",
              "  </tbody>\n",
              "</table>\n",
              "</div>"
            ],
            "text/plain": [
              "  name  horsepower  efficiency\n",
              "0    A         130        16.3\n",
              "1    B         250        10.2\n",
              "2    C         190        11.1\n",
              "3    D         300         7.1\n",
              "4    E         210        12.1\n",
              "5    F         220        13.2\n",
              "6    G         170        14.2"
            ]
          },
          "metadata": {
            "tags": []
          },
          "execution_count": 72
        }
      ]
    },
    {
      "cell_type": "code",
      "metadata": {
        "colab": {
          "base_uri": "https://localhost:8080/"
        },
        "id": "FsRodDwEXF9b",
        "outputId": "aa470457-8d95-4c44-d884-9bf418ef3482"
      },
      "source": [
        "x = df['horsepower'].to_numpy()\n",
        "y = df['efficiency'].to_numpy()\n",
        "x = x[:, np.newaxis]\n",
        "print(x)"
      ],
      "execution_count": null,
      "outputs": [
        {
          "output_type": "stream",
          "text": [
            "[[130]\n",
            " [250]\n",
            " [190]\n",
            " [300]\n",
            " [210]\n",
            " [220]\n",
            " [170]]\n"
          ],
          "name": "stdout"
        }
      ]
    },
    {
      "cell_type": "code",
      "metadata": {
        "colab": {
          "base_uri": "https://localhost:8080/"
        },
        "id": "t4PtTOa9d_m0",
        "outputId": "58fa4c9b-0958-4751-c44a-d44b2506c895"
      },
      "source": [
        "reg = LinearRegression().fit(x,y)\n",
        "reg.score(x,y)\n",
        "print(\"계수 : \" ,reg.coef_)\n",
        "print(\"절편 : \", reg.intercept_)\n",
        "print(\"예측 점수 : \", reg.score(x,y))"
      ],
      "execution_count": null,
      "outputs": [
        {
          "output_type": "stream",
          "text": [
            "계수 :  [-0.05027473]\n",
            "절편 :  22.58626373626374\n",
            "예측 점수 :  0.8706727649378526\n"
          ],
          "name": "stdout"
        }
      ]
    },
    {
      "cell_type": "code",
      "metadata": {
        "colab": {
          "base_uri": "https://localhost:8080/"
        },
        "id": "MH7Sz3aQgJ0U",
        "outputId": "3e198283-77ae-4359-af39-5ae06adfd049"
      },
      "source": [
        "print(\"270 마력 자동차의 예상 연비 : \", 270*reg.coef_ + reg.intercept_, \"km/l\")"
      ],
      "execution_count": null,
      "outputs": [
        {
          "output_type": "stream",
          "text": [
            "270 마력 자동차의 예상 연비 :  [9.01208791] km/l\n"
          ],
          "name": "stdout"
        }
      ]
    }
  ]
}
{
  "nbformat": 4,
  "nbformat_minor": 0,
  "metadata": {
    "colab": {
      "name": "12.ipynb",
      "provenance": [],
      "authorship_tag": "ABX9TyMSBGQlGt6EYGJfJLioA0Kg",
      "include_colab_link": true
    },
    "kernelspec": {
      "name": "python3",
      "display_name": "Python 3"
    },
    "language_info": {
      "name": "python"
    }
  },
  "cells": [
    {
      "cell_type": "markdown",
      "metadata": {
        "id": "view-in-github",
        "colab_type": "text"
      },
      "source": [
        "<a href=\"https://colab.research.google.com/github/SH22Hwang/GNU_AugumentedIntelligenceLab/blob/main/%EC%97%84%EC%A7%80/12.ipynb\" target=\"_parent\"><img src=\"https://colab.research.google.com/assets/colab-badge.svg\" alt=\"Open In Colab\"/></a>"
      ]
    },
    {
      "cell_type": "code",
      "metadata": {
        "id": "L1UQV8TwGnxe"
      },
      "source": [
        "import tensorflow as tf\n",
        "from tensorflow import keras\n",
        "import numpy as np\n",
        "import matplotlib.pyplot as plt"
      ],
      "execution_count": null,
      "outputs": []
    },
    {
      "cell_type": "code",
      "metadata": {
        "colab": {
          "base_uri": "https://localhost:8080/"
        },
        "id": "GjrdExKgIbGY",
        "outputId": "e168f211-ba1d-4f89-e882-22b335534ddc"
      },
      "source": [
        "# 8.7 참고\n",
        "mnist = tf.keras.datasets.mnist\n",
        "\n",
        "(x_train, y_train), (x_test, y_test) = mnist.load_data()\n",
        "\n",
        "print('x_train 데이터 형태:', x_train.shape)\n",
        "print('x_train[0] 데이터 형태:', x_train[0].shape)"
      ],
      "execution_count": null,
      "outputs": [
        {
          "output_type": "stream",
          "name": "stdout",
          "text": [
            "Downloading data from https://storage.googleapis.com/tensorflow/tf-keras-datasets/mnist.npz\n",
            "11493376/11490434 [==============================] - 0s 0us/step\n",
            "11501568/11490434 [==============================] - 0s 0us/step\n",
            "x_train 데이터 형태: (60000, 28, 28)\n",
            "x_train[0] 데이터 형태: (28, 28)\n"
          ]
        }
      ]
    },
    {
      "cell_type": "code",
      "metadata": {
        "id": "Sud4uLxCDykw"
      },
      "source": [
        "def plot_images(nRow, nCol, img, cmap='gray'):\n",
        "  fig = plt.figure()\n",
        "  fig, ax = plt.subplots(nRow, nCol, figsize = (nCol, nRow))\n",
        "  for i in range(nRow):\n",
        "    for j in range(nCol):\n",
        "      if nRow <= 1: axis = ax[j]\n",
        "      else: axis = ax[i, j]\n",
        "      axis.get_xaxis().set_visible(False)\n",
        "      axis.get_yaxis().set_visible(False)\n",
        "      axis.imshow(img[i*nCol+j], cmap=cmap)"
      ],
      "execution_count": null,
      "outputs": []
    },
    {
      "cell_type": "code",
      "metadata": {
        "id": "sImzpt1WI0z3"
      },
      "source": [
        "from tensorflow.keras import models\n",
        "from tensorflow.keras import layers"
      ],
      "execution_count": null,
      "outputs": []
    },
    {
      "cell_type": "code",
      "metadata": {
        "colab": {
          "base_uri": "https://localhost:8080/"
        },
        "id": "c-JKy3ZKJHWm",
        "outputId": "b6c67311-8cfe-495b-df71-d26464b0c5f8"
      },
      "source": [
        "enc = models.Sequential([layers.Conv2D(filters=16,kernel_size=3, strides=(3,3), activation='elu', input_shape=(28, 28, 1)),\n",
        "                         layers.Conv2D(filters=8, kernel_size=3, activation='elu'),\n",
        "                         layers.Flatten(),\n",
        "                         layers.Dense(1024, activation='elu')])\n",
        "enc.summary()"
      ],
      "execution_count": null,
      "outputs": [
        {
          "output_type": "stream",
          "name": "stdout",
          "text": [
            "Model: \"sequential\"\n",
            "_________________________________________________________________\n",
            "Layer (type)                 Output Shape              Param #   \n",
            "=================================================================\n",
            "conv2d (Conv2D)              (None, 9, 9, 16)          160       \n",
            "_________________________________________________________________\n",
            "conv2d_1 (Conv2D)            (None, 7, 7, 8)           1160      \n",
            "_________________________________________________________________\n",
            "flatten (Flatten)            (None, 392)               0         \n",
            "_________________________________________________________________\n",
            "dense (Dense)                (None, 1024)              402432    \n",
            "=================================================================\n",
            "Total params: 403,752\n",
            "Trainable params: 403,752\n",
            "Non-trainable params: 0\n",
            "_________________________________________________________________\n"
          ]
        }
      ]
    },
    {
      "cell_type": "code",
      "metadata": {
        "id": "uNKd1JobPgY6"
      },
      "source": [
        "# enc = models.Sequential([layers.Conv2D(filters=16,kernel_size=3, strides=(3,3), activation='elu', input_shape=(28, 28, 1)),\n",
        "#                          layers.Conv2D(filters=16, kernel_size=3, activation='elu'),\n",
        "#                          layers.Flatten(),\n",
        "#                          layers.Dense(128, activation='elu')])\n",
        "# enc.summary()"
      ],
      "execution_count": null,
      "outputs": []
    },
    {
      "cell_type": "code",
      "metadata": {
        "colab": {
          "base_uri": "https://localhost:8080/"
        },
        "id": "LJY29AYHP2wf",
        "outputId": "0ab2aadb-68c8-4a8b-a9a6-523fe9c228d7"
      },
      "source": [
        "dec = models.Sequential([\n",
        "                         layers.Dense(392, input_shape=(1024, ), activation='elu'),\n",
        "                         layers.Reshape(target_shape=(7, 7, 8)),\n",
        "                         layers.Conv2DTranspose(filters=16, kernel_size=3, activation='elu'),\n",
        "                         layers.Conv2DTranspose(filters=3, kernel_size=3, strides=(3,3), activation='elu')\n",
        "])\n",
        "dec.summary()"
      ],
      "execution_count": null,
      "outputs": [
        {
          "output_type": "stream",
          "name": "stdout",
          "text": [
            "Model: \"sequential_3\"\n",
            "_________________________________________________________________\n",
            "Layer (type)                 Output Shape              Param #   \n",
            "=================================================================\n",
            "dense_2 (Dense)              (None, 392)               401800    \n",
            "_________________________________________________________________\n",
            "reshape_1 (Reshape)          (None, 7, 7, 8)           0         \n",
            "_________________________________________________________________\n",
            "conv2d_transpose_1 (Conv2DTr (None, 9, 9, 16)          1168      \n",
            "_________________________________________________________________\n",
            "conv2d_transpose_2 (Conv2DTr (None, 27, 27, 3)         435       \n",
            "=================================================================\n",
            "Total params: 403,403\n",
            "Trainable params: 403,403\n",
            "Non-trainable params: 0\n",
            "_________________________________________________________________\n"
          ]
        }
      ]
    },
    {
      "cell_type": "code",
      "metadata": {
        "colab": {
          "base_uri": "https://localhost:8080/"
        },
        "id": "odLkjc26QH-j",
        "outputId": "c6152f3d-0eff-48a2-bf81-afdeae0ca2db"
      },
      "source": [
        "# 인코더, 디코더 결합한 오토 인코더 만들기\n",
        "AE = models.Sequential([enc, dec])\n",
        "AE.compile(loss = 'mse')\n",
        "AE.summary()"
      ],
      "execution_count": null,
      "outputs": [
        {
          "output_type": "stream",
          "name": "stdout",
          "text": [
            "Model: \"sequential_4\"\n",
            "_________________________________________________________________\n",
            "Layer (type)                 Output Shape              Param #   \n",
            "=================================================================\n",
            "sequential (Sequential)      (None, 1024)              403752    \n",
            "_________________________________________________________________\n",
            "sequential_3 (Sequential)    (None, 27, 27, 3)         403403    \n",
            "=================================================================\n",
            "Total params: 807,155\n",
            "Trainable params: 807,155\n",
            "Non-trainable params: 0\n",
            "_________________________________________________________________\n"
          ]
        }
      ]
    },
    {
      "cell_type": "code",
      "metadata": {
        "id": "WC2Lvc7vSrIV",
        "colab": {
          "base_uri": "https://localhost:8080/",
          "height": 203
        },
        "outputId": "4f074501-1ef5-4124-f577-cc1410a7a5f6"
      },
      "source": [
        "X_cnn = x_train.reshape(-1, 27, 27, 3)\n",
        "history = AE.fit(X_cnn, X_cnn, epochs = 15)\n",
        "plt.plot(history.history['loss'], 'b-')"
      ],
      "execution_count": null,
      "outputs": [
        {
          "output_type": "error",
          "ename": "ValueError",
          "evalue": "ignored",
          "traceback": [
            "\u001b[0;31m---------------------------------------------------------------------------\u001b[0m",
            "\u001b[0;31mValueError\u001b[0m                                Traceback (most recent call last)",
            "\u001b[0;32m<ipython-input-17-4a3e6b1f972a>\u001b[0m in \u001b[0;36m<module>\u001b[0;34m()\u001b[0m\n\u001b[0;32m----> 1\u001b[0;31m \u001b[0mX_cnn\u001b[0m \u001b[0;34m=\u001b[0m \u001b[0mx_train\u001b[0m\u001b[0;34m.\u001b[0m\u001b[0mreshape\u001b[0m\u001b[0;34m(\u001b[0m\u001b[0;34m-\u001b[0m\u001b[0;36m1\u001b[0m\u001b[0;34m,\u001b[0m \u001b[0;36m27\u001b[0m\u001b[0;34m,\u001b[0m \u001b[0;36m27\u001b[0m\u001b[0;34m,\u001b[0m \u001b[0;36m3\u001b[0m\u001b[0;34m)\u001b[0m\u001b[0;34m\u001b[0m\u001b[0;34m\u001b[0m\u001b[0m\n\u001b[0m\u001b[1;32m      2\u001b[0m \u001b[0mhistory\u001b[0m \u001b[0;34m=\u001b[0m \u001b[0mAE\u001b[0m\u001b[0;34m.\u001b[0m\u001b[0mfit\u001b[0m\u001b[0;34m(\u001b[0m\u001b[0mX_cnn\u001b[0m\u001b[0;34m,\u001b[0m \u001b[0mX_cnn\u001b[0m\u001b[0;34m,\u001b[0m \u001b[0mepochs\u001b[0m \u001b[0;34m=\u001b[0m \u001b[0;36m15\u001b[0m\u001b[0;34m)\u001b[0m\u001b[0;34m\u001b[0m\u001b[0;34m\u001b[0m\u001b[0m\n\u001b[1;32m      3\u001b[0m \u001b[0mplt\u001b[0m\u001b[0;34m.\u001b[0m\u001b[0mplot\u001b[0m\u001b[0;34m(\u001b[0m\u001b[0mhistory\u001b[0m\u001b[0;34m.\u001b[0m\u001b[0mhistory\u001b[0m\u001b[0;34m[\u001b[0m\u001b[0;34m'loss'\u001b[0m\u001b[0;34m]\u001b[0m\u001b[0;34m,\u001b[0m \u001b[0;34m'b-'\u001b[0m\u001b[0;34m)\u001b[0m\u001b[0;34m\u001b[0m\u001b[0;34m\u001b[0m\u001b[0m\n",
            "\u001b[0;31mValueError\u001b[0m: cannot reshape array of size 47040000 into shape (27,27,3)"
          ]
        }
      ]
    }
  ]
}
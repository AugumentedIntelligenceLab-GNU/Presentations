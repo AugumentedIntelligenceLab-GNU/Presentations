{
  "nbformat": 4,
  "nbformat_minor": 0,
  "metadata": {
    "colab": {
      "name": "5.ipynb",
      "provenance": [],
      "collapsed_sections": [],
      "authorship_tag": "ABX9TyP+xRocsFjkdrnCH3Wv69SW",
      "include_colab_link": true
    },
    "kernelspec": {
      "name": "python3",
      "display_name": "Python 3"
    },
    "language_info": {
      "name": "python"
    }
  },
  "cells": [
    {
      "cell_type": "markdown",
      "metadata": {
        "id": "view-in-github",
        "colab_type": "text"
      },
      "source": [
        "<a href=\"https://colab.research.google.com/github/SH22Hwang/GNU_AugumentedIntelligenceLab/blob/main/%EC%97%84%EC%A7%80/5.ipynb\" target=\"_parent\"><img src=\"https://colab.research.google.com/assets/colab-badge.svg\" alt=\"Open In Colab\"/></a>"
      ]
    },
    {
      "cell_type": "code",
      "metadata": {
        "id": "qHvNhQifTfY1"
      },
      "source": [
        "import numpy as np\n",
        "from sklearn.neighbors import KNeighborsClassifier\n",
        "from sklearn import metrics\n",
        "import matplotlib.pyplot as plt\n",
        "from sklearn import cluster\n",
        "from sklearn.linear_model import LinearRegression"
      ],
      "execution_count": 1,
      "outputs": []
    },
    {
      "cell_type": "code",
      "metadata": {
        "id": "ppHAQ3VYXEaC"
      },
      "source": [
        "# 닥스훈트\n",
        "dach_length = [75, 77, 83, 81, 73, 99, 72, 83]\n",
        "dach_height = [24, 29, 19, 32, 21, 22, 19, 34]\n",
        "\n",
        "# 사모예드\n",
        "samo_length = [76, 78, 82, 88, 76, 83, 81, 89]\n",
        "samo_height = [55, 58, 53, 54, 61, 52, 57, 64]\n",
        "\n",
        "# 말티즈\n",
        "mal_length = [35, 39, 38, 41, 30, 57, 41, 35]\n",
        "mal_height = [23, 26, 19, 30, 21, 24, 28, 20]"
      ],
      "execution_count": 2,
      "outputs": []
    },
    {
      "cell_type": "code",
      "metadata": {
        "colab": {
          "base_uri": "https://localhost:8080/"
        },
        "id": "aOGPiLishcXx",
        "outputId": "faafcbf4-b834-483c-b05a-2a81dc32f4ca"
      },
      "source": [
        "# 5.1 레이블링\n",
        "d_data = np.column_stack((dach_length, dach_height))\n",
        "d_label = np.zeros(len(d_data))\n",
        "\n",
        "s_data = np.column_stack((samo_length, samo_height))\n",
        "s_label = np.ones(len(s_data))\n",
        "\n",
        "m_data = np.column_stack((mal_length, mal_height))\n",
        "m_label = s_label+1\n",
        "\n",
        "print('닥스훈트(0) :', d_data)\n",
        "print('============================')\n",
        "print('사모예드(1) :', s_data)\n",
        "print('============================')\n",
        "print('말티즈(2) :', m_data)\n",
        "print('============================')"
      ],
      "execution_count": 3,
      "outputs": [
        {
          "output_type": "stream",
          "text": [
            "닥스훈트(0) : [[75 24]\n",
            " [77 29]\n",
            " [83 19]\n",
            " [81 32]\n",
            " [73 21]\n",
            " [99 22]\n",
            " [72 19]\n",
            " [83 34]]\n",
            "============================\n",
            "사모예드(1) : [[76 55]\n",
            " [78 58]\n",
            " [82 53]\n",
            " [88 54]\n",
            " [76 61]\n",
            " [83 52]\n",
            " [81 57]\n",
            " [89 64]]\n",
            "============================\n",
            "말티즈(2) : [[35 23]\n",
            " [39 26]\n",
            " [38 19]\n",
            " [41 30]\n",
            " [30 21]\n",
            " [57 24]\n",
            " [41 28]\n",
            " [35 20]]\n",
            "============================\n"
          ],
          "name": "stdout"
        }
      ]
    },
    {
      "cell_type": "code",
      "metadata": {
        "colab": {
          "base_uri": "https://localhost:8080/",
          "height": 227
        },
        "id": "lWudyL8MO9yS",
        "outputId": "bcfbb8c7-b427-44ce-a0db-57a02b648217"
      },
      "source": [
        "# 5.2\n",
        "from sklearn.metrics import confusion_matrix\n",
        "\n",
        "dogs = np.concatenate((d_data, s_data, m_data))\n",
        "labels = np.concatenate((d_label, s_label, m_label))\n",
        "\n",
        "dog_classes = {0: '닥스훈트', 1: '사모예드', 2: '말티즈'}\n",
        "\n",
        "dog_data = []\n",
        "for i in range(len(dach_length)):\n",
        "  dog_data.append([dach_length[i], dach_height[i]])\n",
        "\n",
        "for i in range(len(dach_length)):\n",
        "  dog_data.append([samo_length[i], samo_height[i]])\n",
        "\n",
        "for i in range(len(dach_length)):\n",
        "  dog_data.append([mal_length[i], mal_height[i]])  \n",
        "\n",
        "# dog_data\n",
        "\n",
        "k = 3\n",
        "knn = KNeighborsClassifier(n_neighbors = k)\n",
        "\n",
        "# y_pred_all = knn.predict(dog_data, dog_data)\n",
        "\n",
        "conf_mat = confusion_matrix(dog_data)\n",
        "conf_mat"
      ],
      "execution_count": 4,
      "outputs": [
        {
          "output_type": "error",
          "ename": "TypeError",
          "evalue": "ignored",
          "traceback": [
            "\u001b[0;31m---------------------------------------------------------------------------\u001b[0m",
            "\u001b[0;31mTypeError\u001b[0m                                 Traceback (most recent call last)",
            "\u001b[0;32m<ipython-input-4-a1194a5468eb>\u001b[0m in \u001b[0;36m<module>\u001b[0;34m()\u001b[0m\n\u001b[1;32m     24\u001b[0m \u001b[0;31m# y_pred_all = knn.predict(dog_data, dog_data)\u001b[0m\u001b[0;34m\u001b[0m\u001b[0;34m\u001b[0m\u001b[0;34m\u001b[0m\u001b[0m\n\u001b[1;32m     25\u001b[0m \u001b[0;34m\u001b[0m\u001b[0m\n\u001b[0;32m---> 26\u001b[0;31m \u001b[0mconf_mat\u001b[0m \u001b[0;34m=\u001b[0m \u001b[0mconfusion_matrix\u001b[0m\u001b[0;34m(\u001b[0m\u001b[0mdog_data\u001b[0m\u001b[0;34m)\u001b[0m\u001b[0;34m\u001b[0m\u001b[0;34m\u001b[0m\u001b[0m\n\u001b[0m\u001b[1;32m     27\u001b[0m \u001b[0mconf_mat\u001b[0m\u001b[0;34m\u001b[0m\u001b[0;34m\u001b[0m\u001b[0m\n",
            "\u001b[0;31mTypeError\u001b[0m: confusion_matrix() missing 1 required positional argument: 'y_pred'"
          ]
        }
      ]
    },
    {
      "cell_type": "code",
      "metadata": {
        "colab": {
          "base_uri": "https://localhost:8080/"
        },
        "id": "MDVlg-U3hdlw",
        "outputId": "09ab6e7f-68df-4f38-f883-51c18af865b8"
      },
      "source": [
        "# 5.3\n",
        "# data 항목\n",
        "newdata1 = [[58, 30]]\n",
        "newdata2 = [[80, 26]]\n",
        "newdata3 = [[80, 41]]\n",
        "newdata4 = [[75, 55]]\n",
        "\n",
        "# 결과\n",
        "print('A 데이터 분류결과')\n",
        "for k in range(3, 8, 2):\n",
        "  knn = KNeighborsClassifier(n_neighbors = k)\n",
        "  knn.fit(dogs, labels)\n",
        "  y_pred = knn.predict(newdata1)\n",
        "  print('A [[58, 30]] : n_neighbors가', k, '일 때 :', dog_classes[y_pred[0]])\n",
        "print('===============================================')\n",
        "\n",
        "print('B 데이터 분류결과')\n",
        "for k in range(3, 8, 2):\n",
        "  knn = KNeighborsClassifier(n_neighbors = k)\n",
        "  knn.fit(dogs, labels)\n",
        "  y_pred = knn.predict(newdata2)\n",
        "  print('B [[80, 26]] : n_neighbors가', k, '일 때 :', dog_classes[y_pred[0]])\n",
        "print('===============================================')\n",
        "\n",
        "print('C 데이터 분류결과')\n",
        "for k in range(3, 8, 2):\n",
        "  knn = KNeighborsClassifier(n_neighbors = k)\n",
        "  knn.fit(dogs, labels)\n",
        "  y_pred = knn.predict(newdata3)\n",
        "  print('C [[80, 41]] : n_neighbors가', k, '일 때 :', dog_classes[y_pred[0]])\n",
        "print('===============================================')\n",
        "\n",
        "print('D 데이터 분류결과')\n",
        "for k in range(3, 8, 2):\n",
        "  knn = KNeighborsClassifier(n_neighbors = k)\n",
        "  knn.fit(dogs, labels)\n",
        "  y_pred = knn.predict(newdata4)\n",
        "  print('D [[75, 55]] : n_neighbors가', k, '일 때 :', dog_classes[y_pred[0]])\n",
        "print('===============================================')"
      ],
      "execution_count": 5,
      "outputs": [
        {
          "output_type": "stream",
          "text": [
            "A 데이터 분류결과\n",
            "A [[58, 30]] : n_neighbors가 3 일 때 : 말티즈\n",
            "A [[58, 30]] : n_neighbors가 5 일 때 : 말티즈\n",
            "A [[58, 30]] : n_neighbors가 7 일 때 : 닥스훈트\n",
            "===============================================\n",
            "B 데이터 분류결과\n",
            "B [[80, 26]] : n_neighbors가 3 일 때 : 닥스훈트\n",
            "B [[80, 26]] : n_neighbors가 5 일 때 : 닥스훈트\n",
            "B [[80, 26]] : n_neighbors가 7 일 때 : 닥스훈트\n",
            "===============================================\n",
            "C 데이터 분류결과\n",
            "C [[80, 41]] : n_neighbors가 3 일 때 : 닥스훈트\n",
            "C [[80, 41]] : n_neighbors가 5 일 때 : 닥스훈트\n",
            "C [[80, 41]] : n_neighbors가 7 일 때 : 사모예드\n",
            "===============================================\n",
            "D 데이터 분류결과\n",
            "D [[75, 55]] : n_neighbors가 3 일 때 : 사모예드\n",
            "D [[75, 55]] : n_neighbors가 5 일 때 : 사모예드\n",
            "D [[75, 55]] : n_neighbors가 7 일 때 : 사모예드\n",
            "===============================================\n"
          ],
          "name": "stdout"
        }
      ]
    },
    {
      "cell_type": "code",
      "metadata": {
        "id": "CXIT4dpstSFx"
      },
      "source": [
        "# 5.4 k 값에 영향을 받지 않는 데이터\n",
        "\n",
        "## 전체적으로 \n",
        "# 닥스훈트는 길이가 길고 높이는 낮은 편 => ↑ ↓\n",
        "# 사모예드는 길이가 길고 높이도 긴 편 => ↑ ↑\n",
        "# 말티즈는 길이가 짧고 높이가 낮은 편 => ↓ ↓\n",
        "\n",
        "## answer\n",
        "# B [80, 26] => 길이가 길고 높이가 낮은 편 => ↑ ↓\n",
        "# D [75, 55] => 길이가 길고 높이도 긴 편 => ↑ ↑"
      ],
      "execution_count": 6,
      "outputs": []
    },
    {
      "cell_type": "code",
      "metadata": {
        "id": "9KT4XNjSuubA",
        "colab": {
          "base_uri": "https://localhost:8080/",
          "height": 295
        },
        "outputId": "8174a1ba-7866-45b5-ec96-4318b56f10c2"
      },
      "source": [
        "# 5.5\n",
        "## 기존 데이터\n",
        "plt.scatter(dach_length, dach_height, c='red', label='Dachshund')\n",
        "plt.scatter(samo_length, samo_height, c='blue', marker='^', label='Samoyed')\n",
        "plt.scatter(mal_length, mal_height, c='green', marker='s', label='Maltese')\n",
        "\n",
        "## 새로운 데이터\n",
        "plt.scatter(newdata1[0][0:1], newdata1[0][1:2], s=250, c='purple', label='A')\n",
        "plt.scatter(newdata2[0][0:1], newdata2[0][1:2], s=250, c='grey', label='B')\n",
        "plt.scatter(newdata3[0][0:1], newdata3[0][1:2], s=250, c='skyblue', label='C')\n",
        "plt.scatter(newdata4[0][0:1], newdata4[0][1:2], s=250, c='darkgreen', label='D')\n",
        "\n",
        "## plt로 나타내기\n",
        "plt.xlabel('Length')\n",
        "plt.ylabel('Height')\n",
        "plt.title('Dog size')\n",
        "plt.legend(loc='upper left')\n",
        "\n",
        "plt.show()"
      ],
      "execution_count": 7,
      "outputs": [
        {
          "output_type": "display_data",
          "data": {
            "image/png": "[encoded data removed]",
            "text/plain": [
              "<Figure size 432x288 with 1 Axes>"
            ]
          },
          "metadata": {
            "tags": [],
            "needs_background": "light"
          }
        }
      ]
    },
    {
      "cell_type": "code",
      "metadata": {
        "colab": {
          "base_uri": "https://localhost:8080/",
          "height": 299
        },
        "id": "MOTXYqRqIbwL",
        "outputId": "879f2388-cc3f-41fd-a7ef-26663ae8a488"
      },
      "source": [
        "# 5.6.1\n",
        "newdata_length = [58, 80, 80, 75]\n",
        "newdata_height = [30, 26, 41, 55]\n",
        "\n",
        "dog_length = np.array(dach_length + samo_length + mal_length + newdata_length)\n",
        "dog_height = np.array(dach_height + samo_height + mal_height + newdata_height)\n",
        "\n",
        "dog_data = np.column_stack((dog_length, dog_height))\n",
        "\n",
        "plt.title(\"Dog data without label\")\n",
        "plt.scatter(dog_length, dog_height)"
      ],
      "execution_count": 8,
      "outputs": [
        {
          "output_type": "execute_result",
          "data": {
            "text/plain": [
              "<matplotlib.collections.PathCollection at 0x7fb842254050>"
            ]
          },
          "metadata": {
            "tags": []
          },
          "execution_count": 8
        },
        {
          "output_type": "display_data",
          "data": {
            "image/png": "[encoded data removed]",
            "text/plain": [
              "<Figure size 432x288 with 1 Axes>"
            ]
          },
          "metadata": {
            "tags": [],
            "needs_background": "light"
          }
        }
      ]
    },
    {
      "cell_type": "code",
      "metadata": {
        "id": "yGGjn4uDN2Vc"
      },
      "source": [
        "# 5.6 k-평균 알고리즘 적용\n",
        "def kmeans_predict_plot(X, k):\n",
        "  model = cluster.KMeans(n_clusters=k)\n",
        "  model.fit(X)\n",
        "  labels = model.predict(X)\n",
        "  colors = np.array(['red', 'green', 'blue', 'magenta'])\n",
        "  plt.suptitle('k-Means clustering, k={}'.format(k))\n",
        "  plt.scatter(X[:, 0], X[:, 1], color=colors[labels])"
      ],
      "execution_count": 10,
      "outputs": []
    },
    {
      "cell_type": "code",
      "metadata": {
        "colab": {
          "base_uri": "https://localhost:8080/",
          "height": 294
        },
        "id": "sYSzJvieORjZ",
        "outputId": "dbb15391-b3bc-4ea2-bc2e-1f224717f014"
      },
      "source": [
        "kmeans_predict_plot(dog_data, k=2)"
      ],
      "execution_count": 11,
      "outputs": [
        {
          "output_type": "display_data",
          "data": {
            "image/png": "[encoded data removed]",
            "text/plain": [
              "<Figure size 432x288 with 1 Axes>"
            ]
          },
          "metadata": {
            "tags": [],
            "needs_background": "light"
          }
        }
      ]
    },
    {
      "cell_type": "code",
      "metadata": {
        "colab": {
          "base_uri": "https://localhost:8080/",
          "height": 294
        },
        "id": "PIw7FPyxOUIy",
        "outputId": "9159e9b2-77d6-4097-e4af-66f8bf64e44d"
      },
      "source": [
        "kmeans_predict_plot(dog_data, k=3)"
      ],
      "execution_count": 12,
      "outputs": [
        {
          "output_type": "display_data",
          "data": {
            "image/png": "[encoded data removed]",
            "text/plain": [
              "<Figure size 432x288 with 1 Axes>"
            ]
          },
          "metadata": {
            "tags": [],
            "needs_background": "light"
          }
        }
      ]
    },
    {
      "cell_type": "code",
      "metadata": {
        "colab": {
          "base_uri": "https://localhost:8080/",
          "height": 294
        },
        "id": "cOHSN7OsOVjZ",
        "outputId": "944051b4-ce48-4cce-84b8-124ba0cc075c"
      },
      "source": [
        "kmeans_predict_plot(dog_data, k=4)"
      ],
      "execution_count": 13,
      "outputs": [
        {
          "output_type": "display_data",
          "data": {
            "image/png": "[encoded data removed]",
            "text/plain": [
              "<Figure size 432x288 with 1 Axes>"
            ]
          },
          "metadata": {
            "tags": [],
            "needs_background": "light"
          }
        }
      ]
    }
  ]
}
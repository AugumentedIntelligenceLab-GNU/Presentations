{
  "nbformat": 4,
  "nbformat_minor": 0,
  "metadata": {
    "colab": {
      "name": "Untitled0.ipynb",
      "provenance": [],
      "authorship_tag": "ABX9TyN8OTgN6Iss3jDCAd0Yv4LQ",
      "include_colab_link": true
    },
    "kernelspec": {
      "name": "python3",
      "display_name": "Python 3"
    },
    "language_info": {
      "name": "python"
    }
  },
  "cells": [
    {
      "cell_type": "markdown",
      "metadata": {
        "id": "view-in-github",
        "colab_type": "text"
      },
      "source": [
        "<a href=\"https://colab.research.google.com/github/SH22Hwang/GNU_AugumentedIntelligenceLab/blob/main/eunsun/chap03.ipynb\" target=\"_parent\"><img src=\"https://colab.research.google.com/assets/colab-badge.svg\" alt=\"Open In Colab\"/></a>"
      ]
    },
    {
      "cell_type": "code",
      "metadata": {
        "colab": {
          "base_uri": "https://localhost:8080/"
        },
        "id": "r4hWXckDWFVK",
        "outputId": "16d401a2-dc1c-429d-c767-cf59ec7e4bde"
      },
      "source": [
        "import numpy as np\n",
        "import copy\n",
        "\n",
        "arr = np.random.randint(0,9,(10000,10000))\n",
        "print(\"3.1\")\n",
        "print(arr)\n",
        "\n",
        "arr1 = arr + 1\n",
        "print(\"3.1.1\")\n",
        "print(arr1)\n",
        "\n",
        "arr2  = copy.deepcopy(arr)\n",
        "arr2[0::2] = 0\n",
        "print(\"3.1.2\")\n",
        "print(arr2)\n",
        "\n",
        "arr3 = copy.deepcopy(arr)\n",
        "arr3[1::2] = 0\n",
        "print(\"3.1.3\")\n",
        "print(arr3)"
      ],
      "execution_count": null,
      "outputs": [
        {
          "output_type": "stream",
          "text": [
            "3.1\n",
            "[[2 4 5 ... 5 0 7]\n",
            " [7 6 3 ... 0 5 4]\n",
            " [1 7 2 ... 0 0 7]\n",
            " ...\n",
            " [0 0 6 ... 1 7 2]\n",
            " [3 0 7 ... 3 8 8]\n",
            " [4 8 2 ... 8 8 6]]\n",
            "3.1.1\n",
            "[[3 5 6 ... 6 1 8]\n",
            " [8 7 4 ... 1 6 5]\n",
            " [2 8 3 ... 1 1 8]\n",
            " ...\n",
            " [1 1 7 ... 2 8 3]\n",
            " [4 1 8 ... 4 9 9]\n",
            " [5 9 3 ... 9 9 7]]\n",
            "3.1.2\n",
            "[[0 0 0 ... 0 0 0]\n",
            " [7 6 3 ... 0 5 4]\n",
            " [0 0 0 ... 0 0 0]\n",
            " ...\n",
            " [0 0 6 ... 1 7 2]\n",
            " [0 0 0 ... 0 0 0]\n",
            " [4 8 2 ... 8 8 6]]\n",
            "3.1.3\n",
            "[[2 4 5 ... 5 0 7]\n",
            " [0 0 0 ... 0 0 0]\n",
            " [1 7 2 ... 0 0 7]\n",
            " ...\n",
            " [0 0 0 ... 0 0 0]\n",
            " [3 0 7 ... 3 8 8]\n",
            " [0 0 0 ... 0 0 0]]\n"
          ],
          "name": "stdout"
        }
      ]
    },
    {
      "cell_type": "code",
      "metadata": {
        "colab": {
          "base_uri": "https://localhost:8080/"
        },
        "id": "cm6CS41ucW-_",
        "outputId": "ae0a954f-83f1-440a-9e80-5b9266486ccb"
      },
      "source": [
        "import numpy as np\n",
        "import pandas as pd\n",
        "name_series = pd.Series(['A','B','C','D','E','F','G'])\n",
        "horse_power_series = pd.Series([130,250,190,300,210,220,170])\n",
        "weight_series = pd.Series([1.9,2.6,2.2,2.9,2.4,2.3,2.2])\n",
        "efficiency_series = pd.Series([16.3, 10.2, 11.1, 7.1, 12.1, 13.2, 14.2])\n",
        "\n",
        "df = pd.DataFrame({'name':name_series, 'horse power':horse_power_series, 'weight':weight_series,'efficiency': efficiency_series})\n",
        "print(df)\n",
        "\n",
        "\n",
        "df['choice'] = horse_power_series * efficiency_series\n",
        "\n",
        "df = df.set_index(\"name\")\n",
        "\n",
        "print(df)\n",
        "\n",
        "\n",
        "\n",
        "print(\"마력과 연비를 곱한 값 중 최대 값을 가진 차종\", df[df['choice'] == df['choice'].max()].index[0])"
      ],
      "execution_count": 1,
      "outputs": [
        {
          "output_type": "stream",
          "text": [
            "  name  horse power  weight  efficiency\n",
            "0    A          130     1.9        16.3\n",
            "1    B          250     2.6        10.2\n",
            "2    C          190     2.2        11.1\n",
            "3    D          300     2.9         7.1\n",
            "4    E          210     2.4        12.1\n",
            "5    F          220     2.3        13.2\n",
            "6    G          170     2.2        14.2\n",
            "      horse power  weight  efficiency  choice\n",
            "name                                         \n",
            "A             130     1.9        16.3  2119.0\n",
            "B             250     2.6        10.2  2550.0\n",
            "C             190     2.2        11.1  2109.0\n",
            "D             300     2.9         7.1  2130.0\n",
            "E             210     2.4        12.1  2541.0\n",
            "F             220     2.3        13.2  2904.0\n",
            "G             170     2.2        14.2  2414.0\n",
            "마력과 연비를 곱한 값 중 최대 값을 가진 차종 F\n"
          ],
          "name": "stdout"
        }
      ]
    }
  ]
}
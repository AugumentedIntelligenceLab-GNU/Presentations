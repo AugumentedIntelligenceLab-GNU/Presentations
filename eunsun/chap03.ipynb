{
  "nbformat": 4,
  "nbformat_minor": 0,
  "metadata": {
    "colab": {
      "name": "Untitled0.ipynb",
      "provenance": [],
      "authorship_tag": "ABX9TyM+gcXS8k29IGnXoxzeTIVo",
      "include_colab_link": true
    },
    "kernelspec": {
      "name": "python3",
      "display_name": "Python 3"
    },
    "language_info": {
      "name": "python"
    }
  },
  "cells": [
    {
      "cell_type": "markdown",
      "metadata": {
        "id": "view-in-github",
        "colab_type": "text"
      },
      "source": [
        "<a href=\"https://colab.research.google.com/github/SH22Hwang/GNU_AugumentedIntelligenceLab/blob/main/eunsun/chap03.ipynb\" target=\"_parent\"><img src=\"https://colab.research.google.com/assets/colab-badge.svg\" alt=\"Open In Colab\"/></a>"
      ]
    },
    {
      "cell_type": "code",
      "metadata": {
        "colab": {
          "base_uri": "https://localhost:8080/"
        },
        "id": "r4hWXckDWFVK",
        "outputId": "16d401a2-dc1c-429d-c767-cf59ec7e4bde"
      },
      "source": [
        "import numpy as np\n",
        "import copy\n",
        "\n",
        "arr = np.random.randint(0,9,(10000,10000))\n",
        "print(\"3.1\")\n",
        "print(arr)\n",
        "\n",
        "arr1 = arr + 1\n",
        "print(\"3.1.1\")\n",
        "print(arr1)\n",
        "\n",
        "arr2  = copy.deepcopy(arr)\n",
        "arr2[0::2] = 0\n",
        "print(\"3.1.2\")\n",
        "print(arr2)\n",
        "\n",
        "arr3 = copy.deepcopy(arr)\n",
        "arr3[1::2] = 0\n",
        "print(\"3.1.3\")\n",
        "print(arr3)"
      ],
      "execution_count": null,
      "outputs": [
        {
          "output_type": "stream",
          "text": [
            "3.1\n",
            "[[2 4 5 ... 5 0 7]\n",
            " [7 6 3 ... 0 5 4]\n",
            " [1 7 2 ... 0 0 7]\n",
            " ...\n",
            " [0 0 6 ... 1 7 2]\n",
            " [3 0 7 ... 3 8 8]\n",
            " [4 8 2 ... 8 8 6]]\n",
            "3.1.1\n",
            "[[3 5 6 ... 6 1 8]\n",
            " [8 7 4 ... 1 6 5]\n",
            " [2 8 3 ... 1 1 8]\n",
            " ...\n",
            " [1 1 7 ... 2 8 3]\n",
            " [4 1 8 ... 4 9 9]\n",
            " [5 9 3 ... 9 9 7]]\n",
            "3.1.2\n",
            "[[0 0 0 ... 0 0 0]\n",
            " [7 6 3 ... 0 5 4]\n",
            " [0 0 0 ... 0 0 0]\n",
            " ...\n",
            " [0 0 6 ... 1 7 2]\n",
            " [0 0 0 ... 0 0 0]\n",
            " [4 8 2 ... 8 8 6]]\n",
            "3.1.3\n",
            "[[2 4 5 ... 5 0 7]\n",
            " [0 0 0 ... 0 0 0]\n",
            " [1 7 2 ... 0 0 7]\n",
            " ...\n",
            " [0 0 0 ... 0 0 0]\n",
            " [3 0 7 ... 3 8 8]\n",
            " [0 0 0 ... 0 0 0]]\n"
          ],
          "name": "stdout"
        }
      ]
    },
    {
      "cell_type": "code",
      "metadata": {
        "colab": {
          "base_uri": "https://localhost:8080/",
          "height": 1000
        },
        "id": "cm6CS41ucW-_",
        "outputId": "d626f2c7-b6a6-41ad-bfed-825c115236ab"
      },
      "source": [
        "import numpy as np\n",
        "import pandas as pd\n",
        "name_series = pd.Series(['A','B','C','D','E','F','G'])\n",
        "horse_power_series = pd.Series([130,250,190,300,210,220,170])\n",
        "weight_series = pd.Series([1.9,2.6,2.2,2.9,2.4,2.3,2.2])\n",
        "efficiency_series = pd.Series([16.3, 10.2, 11.1, 7.1, 12.1, 13.2, 14.2])\n",
        "\n",
        "df = pd.DataFrame({'name':name_series, 'horse power':horse_power_series, 'weight':weight_series,'efficiency': efficiency_series})\n",
        "print(df)\n",
        "\n",
        "df = df.set_index(\"name\")\n",
        "print(df)\n",
        "\n",
        "print(horse_power_series)\n",
        "print(efficiency_series)\n",
        "#df['choice'] = horse_power_series * efficiency_series\n",
        "\n",
        "print(df)\n",
        "\n",
        "\n",
        "\n",
        "print(\"마력과 연비를 곱한 값 중 최대 값을 가진 차종\", df[df['choice'] == df['choice'].max()].index[0])"
      ],
      "execution_count": null,
      "outputs": [
        {
          "output_type": "stream",
          "text": [
            "  name  horse power  weight  efficiency\n",
            "0    A          130     1.9        16.3\n",
            "1    B          250     2.6        10.2\n",
            "2    C          190     2.2        11.1\n",
            "3    D          300     2.9         7.1\n",
            "4    E          210     2.4        12.1\n",
            "5    F          220     2.3        13.2\n",
            "6    G          170     2.2        14.2\n",
            "      horse power  weight  efficiency\n",
            "name                                 \n",
            "A             130     1.9        16.3\n",
            "B             250     2.6        10.2\n",
            "C             190     2.2        11.1\n",
            "D             300     2.9         7.1\n",
            "E             210     2.4        12.1\n",
            "F             220     2.3        13.2\n",
            "G             170     2.2        14.2\n",
            "0    130\n",
            "1    250\n",
            "2    190\n",
            "3    300\n",
            "4    210\n",
            "5    220\n",
            "6    170\n",
            "dtype: int64\n",
            "0    16.3\n",
            "1    10.2\n",
            "2    11.1\n",
            "3     7.1\n",
            "4    12.1\n",
            "5    13.2\n",
            "6    14.2\n",
            "dtype: float64\n",
            "      horse power  weight  efficiency\n",
            "name                                 \n",
            "A             130     1.9        16.3\n",
            "B             250     2.6        10.2\n",
            "C             190     2.2        11.1\n",
            "D             300     2.9         7.1\n",
            "E             210     2.4        12.1\n",
            "F             220     2.3        13.2\n",
            "G             170     2.2        14.2\n"
          ],
          "name": "stdout"
        },
        {
          "output_type": "error",
          "ename": "KeyError",
          "evalue": "ignored",
          "traceback": [
            "\u001b[0;31m---------------------------------------------------------------------------\u001b[0m",
            "\u001b[0;31mKeyError\u001b[0m                                  Traceback (most recent call last)",
            "\u001b[0;32m/usr/local/lib/python3.7/dist-packages/pandas/core/indexes/base.py\u001b[0m in \u001b[0;36mget_loc\u001b[0;34m(self, key, method, tolerance)\u001b[0m\n\u001b[1;32m   2897\u001b[0m             \u001b[0;32mtry\u001b[0m\u001b[0;34m:\u001b[0m\u001b[0;34m\u001b[0m\u001b[0;34m\u001b[0m\u001b[0m\n\u001b[0;32m-> 2898\u001b[0;31m                 \u001b[0;32mreturn\u001b[0m \u001b[0mself\u001b[0m\u001b[0;34m.\u001b[0m\u001b[0m_engine\u001b[0m\u001b[0;34m.\u001b[0m\u001b[0mget_loc\u001b[0m\u001b[0;34m(\u001b[0m\u001b[0mcasted_key\u001b[0m\u001b[0;34m)\u001b[0m\u001b[0;34m\u001b[0m\u001b[0;34m\u001b[0m\u001b[0m\n\u001b[0m\u001b[1;32m   2899\u001b[0m             \u001b[0;32mexcept\u001b[0m \u001b[0mKeyError\u001b[0m \u001b[0;32mas\u001b[0m \u001b[0merr\u001b[0m\u001b[0;34m:\u001b[0m\u001b[0;34m\u001b[0m\u001b[0;34m\u001b[0m\u001b[0m\n",
            "\u001b[0;32mpandas/_libs/index.pyx\u001b[0m in \u001b[0;36mpandas._libs.index.IndexEngine.get_loc\u001b[0;34m()\u001b[0m\n",
            "\u001b[0;32mpandas/_libs/index.pyx\u001b[0m in \u001b[0;36mpandas._libs.index.IndexEngine.get_loc\u001b[0;34m()\u001b[0m\n",
            "\u001b[0;32mpandas/_libs/hashtable_class_helper.pxi\u001b[0m in \u001b[0;36mpandas._libs.hashtable.PyObjectHashTable.get_item\u001b[0;34m()\u001b[0m\n",
            "\u001b[0;32mpandas/_libs/hashtable_class_helper.pxi\u001b[0m in \u001b[0;36mpandas._libs.hashtable.PyObjectHashTable.get_item\u001b[0;34m()\u001b[0m\n",
            "\u001b[0;31mKeyError\u001b[0m: 'choice'",
            "\nThe above exception was the direct cause of the following exception:\n",
            "\u001b[0;31mKeyError\u001b[0m                                  Traceback (most recent call last)",
            "\u001b[0;32m<ipython-input-80-4a705a26055b>\u001b[0m in \u001b[0;36m<module>\u001b[0;34m()\u001b[0m\n\u001b[1;32m     20\u001b[0m \u001b[0;34m\u001b[0m\u001b[0m\n\u001b[1;32m     21\u001b[0m \u001b[0;34m\u001b[0m\u001b[0m\n\u001b[0;32m---> 22\u001b[0;31m \u001b[0mprint\u001b[0m\u001b[0;34m(\u001b[0m\u001b[0;34m\"마력과 연비를 곱한 값 중 최대 값을 가진 차종\"\u001b[0m\u001b[0;34m,\u001b[0m \u001b[0mdf\u001b[0m\u001b[0;34m[\u001b[0m\u001b[0mdf\u001b[0m\u001b[0;34m[\u001b[0m\u001b[0;34m'choice'\u001b[0m\u001b[0;34m]\u001b[0m \u001b[0;34m==\u001b[0m \u001b[0mdf\u001b[0m\u001b[0;34m[\u001b[0m\u001b[0;34m'choice'\u001b[0m\u001b[0;34m]\u001b[0m\u001b[0;34m.\u001b[0m\u001b[0mmax\u001b[0m\u001b[0;34m(\u001b[0m\u001b[0;34m)\u001b[0m\u001b[0;34m]\u001b[0m\u001b[0;34m.\u001b[0m\u001b[0mindex\u001b[0m\u001b[0;34m[\u001b[0m\u001b[0;36m0\u001b[0m\u001b[0;34m]\u001b[0m\u001b[0;34m)\u001b[0m\u001b[0;34m\u001b[0m\u001b[0;34m\u001b[0m\u001b[0m\n\u001b[0m",
            "\u001b[0;32m/usr/local/lib/python3.7/dist-packages/pandas/core/frame.py\u001b[0m in \u001b[0;36m__getitem__\u001b[0;34m(self, key)\u001b[0m\n\u001b[1;32m   2904\u001b[0m             \u001b[0;32mif\u001b[0m \u001b[0mself\u001b[0m\u001b[0;34m.\u001b[0m\u001b[0mcolumns\u001b[0m\u001b[0;34m.\u001b[0m\u001b[0mnlevels\u001b[0m \u001b[0;34m>\u001b[0m \u001b[0;36m1\u001b[0m\u001b[0;34m:\u001b[0m\u001b[0;34m\u001b[0m\u001b[0;34m\u001b[0m\u001b[0m\n\u001b[1;32m   2905\u001b[0m                 \u001b[0;32mreturn\u001b[0m \u001b[0mself\u001b[0m\u001b[0;34m.\u001b[0m\u001b[0m_getitem_multilevel\u001b[0m\u001b[0;34m(\u001b[0m\u001b[0mkey\u001b[0m\u001b[0;34m)\u001b[0m\u001b[0;34m\u001b[0m\u001b[0;34m\u001b[0m\u001b[0m\n\u001b[0;32m-> 2906\u001b[0;31m             \u001b[0mindexer\u001b[0m \u001b[0;34m=\u001b[0m \u001b[0mself\u001b[0m\u001b[0;34m.\u001b[0m\u001b[0mcolumns\u001b[0m\u001b[0;34m.\u001b[0m\u001b[0mget_loc\u001b[0m\u001b[0;34m(\u001b[0m\u001b[0mkey\u001b[0m\u001b[0;34m)\u001b[0m\u001b[0;34m\u001b[0m\u001b[0;34m\u001b[0m\u001b[0m\n\u001b[0m\u001b[1;32m   2907\u001b[0m             \u001b[0;32mif\u001b[0m \u001b[0mis_integer\u001b[0m\u001b[0;34m(\u001b[0m\u001b[0mindexer\u001b[0m\u001b[0;34m)\u001b[0m\u001b[0;34m:\u001b[0m\u001b[0;34m\u001b[0m\u001b[0;34m\u001b[0m\u001b[0m\n\u001b[1;32m   2908\u001b[0m                 \u001b[0mindexer\u001b[0m \u001b[0;34m=\u001b[0m \u001b[0;34m[\u001b[0m\u001b[0mindexer\u001b[0m\u001b[0;34m]\u001b[0m\u001b[0;34m\u001b[0m\u001b[0;34m\u001b[0m\u001b[0m\n",
            "\u001b[0;32m/usr/local/lib/python3.7/dist-packages/pandas/core/indexes/base.py\u001b[0m in \u001b[0;36mget_loc\u001b[0;34m(self, key, method, tolerance)\u001b[0m\n\u001b[1;32m   2898\u001b[0m                 \u001b[0;32mreturn\u001b[0m \u001b[0mself\u001b[0m\u001b[0;34m.\u001b[0m\u001b[0m_engine\u001b[0m\u001b[0;34m.\u001b[0m\u001b[0mget_loc\u001b[0m\u001b[0;34m(\u001b[0m\u001b[0mcasted_key\u001b[0m\u001b[0;34m)\u001b[0m\u001b[0;34m\u001b[0m\u001b[0;34m\u001b[0m\u001b[0m\n\u001b[1;32m   2899\u001b[0m             \u001b[0;32mexcept\u001b[0m \u001b[0mKeyError\u001b[0m \u001b[0;32mas\u001b[0m \u001b[0merr\u001b[0m\u001b[0;34m:\u001b[0m\u001b[0;34m\u001b[0m\u001b[0;34m\u001b[0m\u001b[0m\n\u001b[0;32m-> 2900\u001b[0;31m                 \u001b[0;32mraise\u001b[0m \u001b[0mKeyError\u001b[0m\u001b[0;34m(\u001b[0m\u001b[0mkey\u001b[0m\u001b[0;34m)\u001b[0m \u001b[0;32mfrom\u001b[0m \u001b[0merr\u001b[0m\u001b[0;34m\u001b[0m\u001b[0;34m\u001b[0m\u001b[0m\n\u001b[0m\u001b[1;32m   2901\u001b[0m \u001b[0;34m\u001b[0m\u001b[0m\n\u001b[1;32m   2902\u001b[0m         \u001b[0;32mif\u001b[0m \u001b[0mtolerance\u001b[0m \u001b[0;32mis\u001b[0m \u001b[0;32mnot\u001b[0m \u001b[0;32mNone\u001b[0m\u001b[0;34m:\u001b[0m\u001b[0;34m\u001b[0m\u001b[0;34m\u001b[0m\u001b[0m\n",
            "\u001b[0;31mKeyError\u001b[0m: 'choice'"
          ]
        }
      ]
    }
  ]
}
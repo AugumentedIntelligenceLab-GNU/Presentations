{
  "nbformat": 4,
  "nbformat_minor": 0,
  "metadata": {
    "colab": {
      "name": "chap09_00.ipynb",
      "provenance": [],
      "collapsed_sections": [],
      "authorship_tag": "ABX9TyPKGEVr5mQktXrsi50dOAn9",
      "include_colab_link": true
    },
    "kernelspec": {
      "name": "python3",
      "display_name": "Python 3"
    },
    "language_info": {
      "name": "python"
    }
  },
  "cells": [
    {
      "cell_type": "markdown",
      "metadata": {
        "id": "view-in-github",
        "colab_type": "text"
      },
      "source": [
        "<a href=\"https://colab.research.google.com/github/SH22Hwang/GNU_AugumentedIntelligenceLab/blob/main/eunsun/chap09.ipynb\" target=\"_parent\"><img src=\"https://colab.research.google.com/assets/colab-badge.svg\" alt=\"Open In Colab\"/></a>"
      ]
    },
    {
      "cell_type": "code",
      "metadata": {
        "id": "BGn0nSJok6yI"
      },
      "source": [
        "# tensorflow와 tf.keras를 임포트합니다\n",
        "import tensorflow as tf\n",
        "from tensorflow import keras\n",
        "\n",
        "# 헬퍼 라이브러리를 임포트합니다\n",
        "import numpy as np\n",
        "import matplotlib.pyplot as plt\n",
        "\n",
        "fashion_mnist = keras.datasets.fashion_mnist\n",
        "(train_images, train_labels), (test_images, test_labels) = fashion_mnist.load_data()\n"
      ],
      "execution_count": 67,
      "outputs": []
    },
    {
      "cell_type": "code",
      "metadata": {
        "colab": {
          "base_uri": "https://localhost:8080/"
        },
        "id": "7cD4sHrNl2Gn",
        "outputId": "ec92abcd-af37-458f-8f7f-87be3c1050c8"
      },
      "source": [
        "print(train_images.shape)  # 학습 이미지의 형태와 레이블을 출력한다\n",
        "print(train_labels)\n",
        "print(test_images.shape)"
      ],
      "execution_count": 68,
      "outputs": [
        {
          "output_type": "stream",
          "name": "stdout",
          "text": [
            "(60000, 28, 28)\n",
            "[9 0 0 ... 3 0 5]\n",
            "(10000, 28, 28)\n"
          ]
        }
      ]
    },
    {
      "cell_type": "code",
      "metadata": {
        "id": "PtLnM23jnX_O"
      },
      "source": [
        "train_images = train_images / 255.0\n",
        "test_images = test_images / 255.0\n",
        "\n",
        "train_images = train_images[:, :, :, np.newaxis]\n",
        "test_images = test_images[:, :, :, np.newaxis]"
      ],
      "execution_count": 69,
      "outputs": []
    },
    {
      "cell_type": "code",
      "metadata": {
        "id": "8Esh4MBDwkMw"
      },
      "source": [
        "model = keras.models.Sequential( [\n",
        "   \n",
        "    keras.layers.Conv2D(input_shape=(28, 28,1), \n",
        "                        kernel_size = (3,3), padding ='same', \n",
        "                        filters = 128),\n",
        "    keras.layers.MaxPooling2D((2, 2), strides=2),\n",
        "    keras.layers.Conv2D(kernel_size = (3,3), padding ='same', \n",
        "                        filters = 64),\n",
        "    keras.layers.Flatten(),\n",
        "    keras.layers.Dense(128, activation = 'relu'),\n",
        "    keras.layers.Dense(128, activation = 'relu'),\n",
        "    keras.layers.Dense(10, activation = 'softmax'),\n",
        "])"
      ],
      "execution_count": 70,
      "outputs": []
    },
    {
      "cell_type": "code",
      "metadata": {
        "id": "C6Ixmsz3xTdT"
      },
      "source": [
        "model.compile(optimizer='adam',\n",
        "              loss='sparse_categorical_crossentropy',\n",
        "              metrics=['accuracy'])"
      ],
      "execution_count": 71,
      "outputs": []
    },
    {
      "cell_type": "code",
      "metadata": {
        "colab": {
          "base_uri": "https://localhost:8080/"
        },
        "id": "6xOj1M06xW2o",
        "outputId": "5d961ee2-7547-48ca-b939-b2ed5bfedf3a"
      },
      "source": [
        "history = model.fit(train_images, train_labels, epochs=5, validation_split=0.25)"
      ],
      "execution_count": 75,
      "outputs": [
        {
          "output_type": "stream",
          "name": "stdout",
          "text": [
            "Epoch 1/5\n",
            "1407/1407 [==============================] - 187s 133ms/step - loss: 0.1554 - accuracy: 0.9422 - val_loss: 0.3195 - val_accuracy: 0.9067\n",
            "Epoch 2/5\n",
            "1407/1407 [==============================] - 185s 132ms/step - loss: 0.1323 - accuracy: 0.9517 - val_loss: 0.3820 - val_accuracy: 0.9016\n",
            "Epoch 3/5\n",
            "1407/1407 [==============================] - 185s 131ms/step - loss: 0.1185 - accuracy: 0.9558 - val_loss: 0.3808 - val_accuracy: 0.9045\n",
            "Epoch 4/5\n",
            "1407/1407 [==============================] - 185s 132ms/step - loss: 0.1108 - accuracy: 0.9598 - val_loss: 0.4030 - val_accuracy: 0.9010\n",
            "Epoch 5/5\n",
            "1407/1407 [==============================] - 187s 133ms/step - loss: 0.0968 - accuracy: 0.9646 - val_loss: 0.4398 - val_accuracy: 0.9067\n"
          ]
        }
      ]
    },
    {
      "cell_type": "code",
      "metadata": {
        "colab": {
          "base_uri": "https://localhost:8080/",
          "height": 283
        },
        "id": "vi5Nkyby0jCk",
        "outputId": "ea0019ec-d343-44ca-9ae8-c7b645d7fb76"
      },
      "source": [
        "plt.plot(history.history['loss'], 'b-')\n",
        "plt.plot(history.history['val_loss'], 'r--')"
      ],
      "execution_count": 76,
      "outputs": [
        {
          "output_type": "execute_result",
          "data": {
            "text/plain": [
              "[<matplotlib.lines.Line2D at 0x7fa2febc2150>]"
            ]
          },
          "metadata": {},
          "execution_count": 76
        },
        {
          "output_type": "display_data",
          "data": {
            "image/png": "[encoded data removed]",
            "text/plain": [
              "<Figure size 432x288 with 1 Axes>"
            ]
          },
          "metadata": {
            "needs_background": "light"
          }
        }
      ]
    },
    {
      "cell_type": "code",
      "metadata": {
        "colab": {
          "base_uri": "https://localhost:8080/",
          "height": 283
        },
        "id": "GhPNRwci0oLS",
        "outputId": "98ca2a43-6855-4104-a749-ca0841ef991a"
      },
      "source": [
        "plt.plot(history.history['accuracy'], 'b-')\n",
        "plt.plot(history.history['val_accuracy'], 'r--')"
      ],
      "execution_count": 77,
      "outputs": [
        {
          "output_type": "execute_result",
          "data": {
            "text/plain": [
              "[<matplotlib.lines.Line2D at 0x7fa2feb35610>]"
            ]
          },
          "metadata": {},
          "execution_count": 77
        },
        {
          "output_type": "display_data",
          "data": {
            "image/png": "[encoded data removed]",
            "text/plain": [
              "<Figure size 432x288 with 1 Axes>"
            ]
          },
          "metadata": {
            "needs_background": "light"
          }
        }
      ]
    },
    {
      "cell_type": "code",
      "metadata": {
        "colab": {
          "base_uri": "https://localhost:8080/"
        },
        "id": "pECIbrIG0pek",
        "outputId": "c17be763-9a33-4d14-b087-30e6c2b1cc00"
      },
      "source": [
        "test_loss, test_acc = model.evaluate(test_images,  test_labels, verbose=2)\n",
        "print('테스트 정확도:', test_acc)\n",
        "print('테스트 손실값: ', test_loss)"
      ],
      "execution_count": 78,
      "outputs": [
        {
          "output_type": "stream",
          "name": "stdout",
          "text": [
            "313/313 - 8s - loss: 0.4840 - accuracy: 0.8982\n",
            "테스트 정확도: 0.8981999754905701\n",
            "테스트 손실값:  0.48401880264282227\n"
          ]
        }
      ]
    },
    {
      "cell_type": "markdown",
      "metadata": {
        "id": "Yuw5IRb58cqV"
      },
      "source": [
        "### **9.1 합성곱 신경망을 사용하는 것이 완전 연결 심층 신경망을 사용하는 것보다 좋은 점을 2가지 이상 서술하라**\n",
        "\n",
        " \n",
        "\n",
        "*   CNN은 많은 가중치를 재사용하여 DNN보다 적은 파라미터를 가진다. 그리하여 속도가빠르다.\n",
        "*   CNN은 과대적합의 위험을 줄이며 더 적은 훈련 데이터를 필요로 한다.\n",
        "*   CNN은 어떤 특성을 감지할 수 있는 커널을 학습하면 이미지의 어느 위치에 있는 특성이라도 감지할 수 있지만, DNN은 특정 위치에 있어야 인지할 수 있다.\n",
        "*   DNN은 픽셀이 어떻게 조직되어있는지 모른다. 즉 주변의 픽셀이 비슷한지 알 수 없다 그러나 CNN은 이 정보를 내포한다\n",
        "하위층은 작은 영역에 있는 특성을 구별하고, 상위층은 저수준 특성을 더 큰 특성으로 연결한다.\n",
        "\n",
        "\n",
        "\n",
        "\n",
        "\n"
      ]
    }
  ]
}
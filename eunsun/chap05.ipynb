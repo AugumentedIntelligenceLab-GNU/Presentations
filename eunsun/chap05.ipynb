{
  "nbformat": 4,
  "nbformat_minor": 0,
  "metadata": {
    "colab": {
      "name": "Untitled2.ipynb",
      "provenance": [],
      "authorship_tag": "ABX9TyN/JxY3tCELqFZtlpRghlP6",
      "include_colab_link": true
    },
    "kernelspec": {
      "name": "python3",
      "display_name": "Python 3"
    },
    "language_info": {
      "name": "python"
    }
  },
  "cells": [
    {
      "cell_type": "markdown",
      "metadata": {
        "id": "view-in-github",
        "colab_type": "text"
      },
      "source": [
        "<a href=\"https://colab.research.google.com/github/SH22Hwang/GNU_AugumentedIntelligenceLab/blob/main/eunsun/chap05.ipynb\" target=\"_parent\"><img src=\"https://colab.research.google.com/assets/colab-badge.svg\" alt=\"Open In Colab\"/></a>"
      ]
    },
    {
      "cell_type": "code",
      "metadata": {
        "colab": {
          "base_uri": "https://localhost:8080/"
        },
        "id": "iYnHH2AHAVdD",
        "outputId": "580742bc-5cc6-4a41-9c98-af5b167c2f76"
      },
      "source": [
        "import numpy as np\n",
        "from sklearn.neighbors import KNeighborsClassifier\n",
        "from sklearn import metrics\n",
        "\n",
        "dach_length = [75,77,83,81,73,99,72,83]\n",
        "dach_height = [24,29,19,32,21,22,19,34]\n",
        "\n",
        "samo_length = [76,78,82,88,76,83,81,89]\n",
        "samo_height = [55,58,53,54,61,52,57,64]\n",
        "\n",
        "mal_length = [35,39,38,41,30,57,41,35]\n",
        "mal_height = [23,26,19,30,21,24,28,20]\n",
        "\n",
        "d_data = np.column_stack((dach_length,dach_height))\n",
        "d_label = np.zeros(len(d_data))\n",
        "s_data = np.column_stack((samo_length,samo_height))\n",
        "s_label = np.ones(len(s_data))\n",
        "m_data = np.column_stack((mal_length,mal_height))\n",
        "m_label = np.full(len(m_data),2)\n",
        "\n",
        "newdata = [[58,30]]\n",
        "newdata2 = [[80,26]]\n",
        "newdata3 = [[80,41]]\n",
        "newdata4 = [[75,55]]\n",
        "\n",
        "dogs = np.concatenate((d_data,s_data,m_data))\n",
        "labels = np.concatenate((d_label,s_label,m_label))\n",
        "\n",
        "dog_classes = {0:'닥스훈트', 1:'사모예드', 2:'말티즈'}\n",
        "\n",
        "print(\"닥스훈트(0) : \", d_data)\n",
        "print(\"사모예드(1) : \", s_data)\n",
        "print(\"말티즈(2) : \", m_data)"
      ],
      "execution_count": null,
      "outputs": [
        {
          "output_type": "stream",
          "text": [
            "닥스훈트(0) :  [[75 24]\n",
            " [77 29]\n",
            " [83 19]\n",
            " [81 32]\n",
            " [73 21]\n",
            " [99 22]\n",
            " [72 19]\n",
            " [83 34]]\n",
            "사모예드(1) :  [[76 55]\n",
            " [78 58]\n",
            " [82 53]\n",
            " [88 54]\n",
            " [76 61]\n",
            " [83 52]\n",
            " [81 57]\n",
            " [89 64]]\n",
            "말티즈(2) :  [[35 23]\n",
            " [39 26]\n",
            " [38 19]\n",
            " [41 30]\n",
            " [30 21]\n",
            " [57 24]\n",
            " [41 28]\n",
            " [35 20]]\n"
          ],
          "name": "stdout"
        }
      ]
    },
    {
      "cell_type": "code",
      "metadata": {
        "colab": {
          "base_uri": "https://localhost:8080/",
          "height": 394
        },
        "id": "k17SGxm0f6x7",
        "outputId": "8eea43cf-c570-4122-863e-bb0a43c95f80"
      },
      "source": [
        "from sklearn.metrics import confusion_matrix\n",
        "\n",
        "k = 3\n",
        "knn = KNeighborsClassifier(n_neighbors = k)\n",
        "knn.fit(dogs,labels)\n",
        "\n",
        "conf_max = confusion_matrix(labels, dogs)\n",
        "conf_mat\n",
        "\n",
        "\n"
      ],
      "execution_count": null,
      "outputs": [
        {
          "output_type": "error",
          "ename": "ValueError",
          "evalue": "ignored",
          "traceback": [
            "\u001b[0;31m---------------------------------------------------------------------------\u001b[0m",
            "\u001b[0;31mValueError\u001b[0m                                Traceback (most recent call last)",
            "\u001b[0;32m<ipython-input-81-537850e5df45>\u001b[0m in \u001b[0;36m<module>\u001b[0;34m()\u001b[0m\n\u001b[1;32m      5\u001b[0m \u001b[0mknn\u001b[0m\u001b[0;34m.\u001b[0m\u001b[0mfit\u001b[0m\u001b[0;34m(\u001b[0m\u001b[0mdogs\u001b[0m\u001b[0;34m,\u001b[0m\u001b[0mlabels\u001b[0m\u001b[0;34m)\u001b[0m\u001b[0;34m\u001b[0m\u001b[0;34m\u001b[0m\u001b[0m\n\u001b[1;32m      6\u001b[0m \u001b[0;34m\u001b[0m\u001b[0m\n\u001b[0;32m----> 7\u001b[0;31m \u001b[0mconf_max\u001b[0m \u001b[0;34m=\u001b[0m \u001b[0mconfusion_matrix\u001b[0m\u001b[0;34m(\u001b[0m\u001b[0mlabels\u001b[0m\u001b[0;34m,\u001b[0m \u001b[0mdogs\u001b[0m\u001b[0;34m)\u001b[0m\u001b[0;34m\u001b[0m\u001b[0;34m\u001b[0m\u001b[0m\n\u001b[0m\u001b[1;32m      8\u001b[0m \u001b[0mconf_mat\u001b[0m\u001b[0;34m\u001b[0m\u001b[0;34m\u001b[0m\u001b[0m\n\u001b[1;32m      9\u001b[0m \u001b[0;34m\u001b[0m\u001b[0m\n",
            "\u001b[0;32m/usr/local/lib/python3.7/dist-packages/sklearn/metrics/_classification.py\u001b[0m in \u001b[0;36mconfusion_matrix\u001b[0;34m(y_true, y_pred, labels, sample_weight, normalize)\u001b[0m\n\u001b[1;32m    266\u001b[0m \u001b[0;34m\u001b[0m\u001b[0m\n\u001b[1;32m    267\u001b[0m     \"\"\"\n\u001b[0;32m--> 268\u001b[0;31m     \u001b[0my_type\u001b[0m\u001b[0;34m,\u001b[0m \u001b[0my_true\u001b[0m\u001b[0;34m,\u001b[0m \u001b[0my_pred\u001b[0m \u001b[0;34m=\u001b[0m \u001b[0m_check_targets\u001b[0m\u001b[0;34m(\u001b[0m\u001b[0my_true\u001b[0m\u001b[0;34m,\u001b[0m \u001b[0my_pred\u001b[0m\u001b[0;34m)\u001b[0m\u001b[0;34m\u001b[0m\u001b[0;34m\u001b[0m\u001b[0m\n\u001b[0m\u001b[1;32m    269\u001b[0m     \u001b[0;32mif\u001b[0m \u001b[0my_type\u001b[0m \u001b[0;32mnot\u001b[0m \u001b[0;32min\u001b[0m \u001b[0;34m(\u001b[0m\u001b[0;34m\"binary\"\u001b[0m\u001b[0;34m,\u001b[0m \u001b[0;34m\"multiclass\"\u001b[0m\u001b[0;34m)\u001b[0m\u001b[0;34m:\u001b[0m\u001b[0;34m\u001b[0m\u001b[0;34m\u001b[0m\u001b[0m\n\u001b[1;32m    270\u001b[0m         \u001b[0;32mraise\u001b[0m \u001b[0mValueError\u001b[0m\u001b[0;34m(\u001b[0m\u001b[0;34m\"%s is not supported\"\u001b[0m \u001b[0;34m%\u001b[0m \u001b[0my_type\u001b[0m\u001b[0;34m)\u001b[0m\u001b[0;34m\u001b[0m\u001b[0;34m\u001b[0m\u001b[0m\n",
            "\u001b[0;32m/usr/local/lib/python3.7/dist-packages/sklearn/metrics/_classification.py\u001b[0m in \u001b[0;36m_check_targets\u001b[0;34m(y_true, y_pred)\u001b[0m\n\u001b[1;32m     88\u001b[0m     \u001b[0;32mif\u001b[0m \u001b[0mlen\u001b[0m\u001b[0;34m(\u001b[0m\u001b[0my_type\u001b[0m\u001b[0;34m)\u001b[0m \u001b[0;34m>\u001b[0m \u001b[0;36m1\u001b[0m\u001b[0;34m:\u001b[0m\u001b[0;34m\u001b[0m\u001b[0;34m\u001b[0m\u001b[0m\n\u001b[1;32m     89\u001b[0m         raise ValueError(\"Classification metrics can't handle a mix of {0} \"\n\u001b[0;32m---> 90\u001b[0;31m                          \"and {1} targets\".format(type_true, type_pred))\n\u001b[0m\u001b[1;32m     91\u001b[0m \u001b[0;34m\u001b[0m\u001b[0m\n\u001b[1;32m     92\u001b[0m     \u001b[0;31m# We can't have more than one value on y_type => The set is no more needed\u001b[0m\u001b[0;34m\u001b[0m\u001b[0;34m\u001b[0m\u001b[0;34m\u001b[0m\u001b[0m\n",
            "\u001b[0;31mValueError\u001b[0m: Classification metrics can't handle a mix of multiclass and multiclass-multioutput targets"
          ]
        }
      ]
    },
    {
      "cell_type": "code",
      "metadata": {
        "colab": {
          "base_uri": "https://localhost:8080/"
        },
        "id": "cbliiojVI_3y",
        "outputId": "1af79c00-6cb0-498e-aa1f-0f352521f919"
      },
      "source": [
        "for i in range(0,5,2):\n",
        "  k = 3 + i\n",
        "  knn = KNeighborsClassifier(n_neighbors = k)\n",
        "  knn.fit(dogs,labels)\n",
        "\n",
        "  newdata = [[58,30]]\n",
        "  newdata2 = [[80,26]]\n",
        "  newdata3 = [[80,41]]\n",
        "  newdata4 = [[75,55]]\n",
        "\n",
        "  print('newdata 데이터 분류결과')\n",
        "  y_pred = knn.predict(newdata)\n",
        "  print(newdata ,\" : n_neighbors가\",k,\" 일때\",dog_classes[y_pred[0]])\n",
        "\n",
        "  y_pred = knn.predict(newdata2)\n",
        "  print(newdata2 ,\" : n_neighbors가\",k,\" 일때\",dog_classes[y_pred[0]])\n",
        "\n",
        "  y_pred = knn.predict(newdata3)\n",
        "  print(newdata3 ,\" : n_neighbors가\",k,\" 일때\",dog_classes[y_pred[0]])"
      ],
      "execution_count": null,
      "outputs": [
        {
          "output_type": "stream",
          "text": [
            "newdata 데이터 분류결과\n",
            "[[58, 30]]  : n_neighbors가 3  일때 말티즈\n",
            "[[80, 26]]  : n_neighbors가 3  일때 닥스훈트\n",
            "[[80, 41]]  : n_neighbors가 3  일때 닥스훈트\n",
            "newdata 데이터 분류결과\n",
            "[[58, 30]]  : n_neighbors가 5  일때 말티즈\n",
            "[[80, 26]]  : n_neighbors가 5  일때 닥스훈트\n",
            "[[80, 41]]  : n_neighbors가 5  일때 닥스훈트\n",
            "newdata 데이터 분류결과\n",
            "[[58, 30]]  : n_neighbors가 7  일때 닥스훈트\n",
            "[[80, 26]]  : n_neighbors가 7  일때 닥스훈트\n",
            "[[80, 41]]  : n_neighbors가 7  일때 사모예드\n"
          ],
          "name": "stdout"
        }
      ]
    },
    {
      "cell_type": "code",
      "metadata": {
        "colab": {
          "base_uri": "https://localhost:8080/",
          "height": 299
        },
        "id": "hUr5uwyHYN8U",
        "outputId": "625c793a-26cf-431e-c6f2-944f9ae7587e"
      },
      "source": [
        "import matplotlib.pyplot as plt\n",
        "\n",
        "new_length = newdata[0][0] + newdata2[0][0] + newdata3[0][0] + newdata4[0][0]\n",
        "new_heigth = newdata[0][1] + newdata2[0][1] + newdata3[0][1] + newdata4[0][1]\n",
        "\n",
        "dog_length = np.array(dach_length + samo_length + mal_length )\n",
        "dog_height = np.array(dach_height + samo_height + mal_height )\n",
        "\n",
        "dog_data = np.column_stack((dog_length, dog_height))\n",
        "\n",
        "plt.title(\"Dog data without label\")\n",
        "plt.scatter(dog_length,dog_height)"
      ],
      "execution_count": null,
      "outputs": [
        {
          "output_type": "execute_result",
          "data": {
            "text/plain": [
              "<matplotlib.collections.PathCollection at 0x7f4c01722c50>"
            ]
          },
          "metadata": {
            "tags": []
          },
          "execution_count": 83
        },
        {
          "output_type": "display_data",
          "data": {
            "image/png": "[encoded data removed]",
            "text/plain": [
              "<Figure size 432x288 with 1 Axes>"
            ]
          },
          "metadata": {
            "tags": [],
            "needs_background": "light"
          }
        }
      ]
    },
    {
      "cell_type": "code",
      "metadata": {
        "colab": {
          "base_uri": "https://localhost:8080/",
          "height": 294
        },
        "id": "YJfFk81BbIjc",
        "outputId": "10c86111-46fc-4955-d83b-170de8daca00"
      },
      "source": [
        "from sklearn import cluster\n",
        "\n",
        "def kmeans_predict_plot(x, k):\n",
        "  model = cluster.KMeans(n_clusters = k)\n",
        "  model.fit(x)\n",
        "  labels = model.predict(x)\n",
        "  colors = np.array(['red','green','blue','magenta'])\n",
        "  plt.suptitle('k-Means clustering, k = {}'.format(k))\n",
        "  plt.scatter(x[:,0],x[:,1],color=colors[labels])\n",
        "  \n",
        "kmeans_predict_plot(dog_data, k=2)"
      ],
      "execution_count": null,
      "outputs": [
        {
          "output_type": "display_data",
          "data": {
            "image/png": "[encoded data removed]",
            "text/plain": [
              "<Figure size 432x288 with 1 Axes>"
            ]
          },
          "metadata": {
            "tags": [],
            "needs_background": "light"
          }
        }
      ]
    },
    {
      "cell_type": "code",
      "metadata": {
        "colab": {
          "base_uri": "https://localhost:8080/",
          "height": 294
        },
        "id": "Y9_bgHMibOci",
        "outputId": "b8357250-3ad5-4ba2-96e5-e6f291a7c4ba"
      },
      "source": [
        "kmeans_predict_plot(dog_data, k=3)"
      ],
      "execution_count": null,
      "outputs": [
        {
          "output_type": "display_data",
          "data": {
            "image/png": "[encoded data removed]",
            "text/plain": [
              "<Figure size 432x288 with 1 Axes>"
            ]
          },
          "metadata": {
            "tags": [],
            "needs_background": "light"
          }
        }
      ]
    },
    {
      "cell_type": "code",
      "metadata": {
        "colab": {
          "base_uri": "https://localhost:8080/",
          "height": 294
        },
        "id": "1jk3vuWHbVcd",
        "outputId": "44f47a1e-9029-4e21-c752-798253ce71b4"
      },
      "source": [
        "kmeans_predict_plot(dog_data, k=4)"
      ],
      "execution_count": null,
      "outputs": [
        {
          "output_type": "display_data",
          "data": {
            "image/png": "[encoded data removed]",
            "text/plain": [
              "<Figure size 432x288 with 1 Axes>"
            ]
          },
          "metadata": {
            "tags": [],
            "needs_background": "light"
          }
        }
      ]
    }
  ]
}
{
  "nbformat": 4,
  "nbformat_minor": 0,
  "metadata": {
    "colab": {
      "name": "chap08.ipynb",
      "provenance": [],
      "authorship_tag": "ABX9TyO2C2ISCpVTQRdWPvEs4V9k",
      "include_colab_link": true
    },
    "kernelspec": {
      "name": "python3",
      "display_name": "Python 3"
    },
    "language_info": {
      "name": "python"
    }
  },
  "cells": [
    {
      "cell_type": "markdown",
      "metadata": {
        "id": "view-in-github",
        "colab_type": "text"
      },
      "source": [
        "<a href=\"https://colab.research.google.com/github/SH22Hwang/GNU_AugumentedIntelligenceLab/blob/main/eunsun/chap08_00.ipynb\" target=\"_parent\"><img src=\"https://colab.research.google.com/assets/colab-badge.svg\" alt=\"Open In Colab\"/></a>"
      ]
    },
    {
      "cell_type": "code",
      "metadata": {
        "id": "BMbGOr2Pficb"
      },
      "source": [
        "import seaborn as sns\n",
        "import pandas as pd\n",
        "import numpy as np\n",
        "import tensorflow as tf\n",
        "from tensorflow import keras\n",
        "\n",
        "sns.set(style=\"ticks\", color_codes=True)\n",
        "iris = sns.load_dataset(\"iris\")\n",
        "# g = sns.pairplot(iris, hue=\"species\", palette=\"husl\")"
      ],
      "execution_count": 83,
      "outputs": []
    },
    {
      "cell_type": "code",
      "metadata": {
        "id": "n7FdYriY2-LA"
      },
      "source": [
        "from sklearn.preprocessing import LabelEncoder\n",
        "\n",
        "X = iris.iloc[:, 0:4].values\n",
        "y = iris.iloc[:,4].values\n",
        "\n",
        "encoder = LabelEncoder()\n",
        "y1 = encoder.fit_transform(y)\n",
        "Y = pd.get_dummies(y1).values"
      ],
      "execution_count": 84,
      "outputs": []
    },
    {
      "cell_type": "code",
      "metadata": {
        "id": "C7URTfwT3VMh",
        "colab": {
          "base_uri": "https://localhost:8080/"
        },
        "outputId": "46405a30-f57e-4978-cecb-cb82721b5f24"
      },
      "source": [
        "from sklearn.model_selection import train_test_split\n",
        "X_train, X_test, y_train, y_test = train_test_split(X,Y,test_size=0.3, random_state=1)\n",
        "\n",
        "print(\"훈련용 데이터의 형태: \",X_train.shape)\n",
        "print(\"훈련용 데이터 레이블의 형태: \", y_train.shape)\n",
        "print(\"테스트용 데이터의 형태: \", X_test.shape)\n",
        "print(\"테스용 데이터 레이블의 형태: \" ,y_test.shape)"
      ],
      "execution_count": 85,
      "outputs": [
        {
          "output_type": "stream",
          "name": "stdout",
          "text": [
            "훈련용 데이터의 형태:  (105, 4)\n",
            "훈련용 데이터 레이블의 형태:  (105, 3)\n",
            "테스트용 데이터의 형태:  (45, 4)\n",
            "테스용 데이터 레이블의 형태:  (45, 3)\n"
          ]
        }
      ]
    },
    {
      "cell_type": "code",
      "metadata": {
        "id": "XkBR3qE-3xmM",
        "colab": {
          "base_uri": "https://localhost:8080/"
        },
        "outputId": "9fd855b9-aede-4124-d9ac-2a47106a38a6"
      },
      "source": [
        "from keras.models import Sequential\n",
        "from keras.layers import Dense\n",
        "\n",
        "# model = Sequential([\n",
        "#     keras.layers.Flatten(input_shape = (4,)),\n",
        "#     keras.layers.Dropout(0.2),\n",
        "#     Dense(64,activation='relu'),\n",
        "#     Dense(32,activation='relu'),\n",
        "#     Dense(10,activation='relu'),\n",
        "#     Dense(3,activation='softmax')\n",
        "# ])\n",
        "\n",
        "model = Sequential()\n",
        "\n",
        "model.add(Dense(64,input_shape=(4,),activation='relu'))\n",
        "model.add(Dense(64,activation='relu'))\n",
        "model.add(Dense(3,activation='softmax'))\n",
        "\n",
        "model.compile(loss='categorical_crossentropy',\n",
        "              optimizer='Adam',\n",
        "              metrics=['accuracy'])\n",
        "\n",
        "model.summary()"
      ],
      "execution_count": 86,
      "outputs": [
        {
          "output_type": "stream",
          "name": "stdout",
          "text": [
            "Model: \"sequential_10\"\n",
            "_________________________________________________________________\n",
            "Layer (type)                 Output Shape              Param #   \n",
            "=================================================================\n",
            "dense_43 (Dense)             (None, 64)                320       \n",
            "_________________________________________________________________\n",
            "dense_44 (Dense)             (None, 64)                4160      \n",
            "_________________________________________________________________\n",
            "dense_45 (Dense)             (None, 3)                 195       \n",
            "=================================================================\n",
            "Total params: 4,675\n",
            "Trainable params: 4,675\n",
            "Non-trainable params: 0\n",
            "_________________________________________________________________\n"
          ]
        }
      ]
    },
    {
      "cell_type": "code",
      "metadata": {
        "id": "NvBFDygw4hm8",
        "colab": {
          "base_uri": "https://localhost:8080/"
        },
        "outputId": "63bb9bd6-fdc7-47f0-9778-ef04826c6f6e"
      },
      "source": [
        "hist = model.fit(X_train, y_train,batch_size=5, epochs=30, validation_data=(X_test,y_test),validation_split=0.3)\n",
        "\n",
        "test_loss, test_acc = model.evaluate(X_test,y_test, verbose=2 )\n",
        "print(\"테스트 정확도:\",test_acc)"
      ],
      "execution_count": 87,
      "outputs": [
        {
          "output_type": "stream",
          "name": "stdout",
          "text": [
            "Epoch 1/30\n",
            "15/15 [==============================] - 1s 16ms/step - loss: 0.8687 - accuracy: 0.5616 - val_loss: 0.8514 - val_accuracy: 0.5938\n",
            "Epoch 2/30\n",
            "15/15 [==============================] - 0s 4ms/step - loss: 0.7077 - accuracy: 0.7397 - val_loss: 0.7337 - val_accuracy: 0.5938\n",
            "Epoch 3/30\n",
            "15/15 [==============================] - 0s 5ms/step - loss: 0.5811 - accuracy: 0.8904 - val_loss: 0.5982 - val_accuracy: 0.7188\n",
            "Epoch 4/30\n",
            "15/15 [==============================] - 0s 6ms/step - loss: 0.5057 - accuracy: 0.7671 - val_loss: 0.5377 - val_accuracy: 0.8438\n",
            "Epoch 5/30\n",
            "15/15 [==============================] - 0s 5ms/step - loss: 0.4134 - accuracy: 0.8630 - val_loss: 0.4675 - val_accuracy: 0.7812\n",
            "Epoch 6/30\n",
            "15/15 [==============================] - 0s 4ms/step - loss: 0.3695 - accuracy: 0.9041 - val_loss: 0.4340 - val_accuracy: 0.7812\n",
            "Epoch 7/30\n",
            "15/15 [==============================] - 0s 5ms/step - loss: 0.3536 - accuracy: 0.8219 - val_loss: 0.3933 - val_accuracy: 0.9375\n",
            "Epoch 8/30\n",
            "15/15 [==============================] - 0s 5ms/step - loss: 0.3134 - accuracy: 0.9726 - val_loss: 0.3619 - val_accuracy: 0.9062\n",
            "Epoch 9/30\n",
            "15/15 [==============================] - 0s 4ms/step - loss: 0.3029 - accuracy: 0.9041 - val_loss: 0.3372 - val_accuracy: 0.9375\n",
            "Epoch 10/30\n",
            "15/15 [==============================] - 0s 5ms/step - loss: 0.2700 - accuracy: 0.9726 - val_loss: 0.3183 - val_accuracy: 0.9375\n",
            "Epoch 11/30\n",
            "15/15 [==============================] - 0s 5ms/step - loss: 0.2533 - accuracy: 0.9726 - val_loss: 0.3192 - val_accuracy: 0.9062\n",
            "Epoch 12/30\n",
            "15/15 [==============================] - 0s 5ms/step - loss: 0.2418 - accuracy: 0.9726 - val_loss: 0.2884 - val_accuracy: 0.9375\n",
            "Epoch 13/30\n",
            "15/15 [==============================] - 0s 6ms/step - loss: 0.2265 - accuracy: 0.9726 - val_loss: 0.2585 - val_accuracy: 1.0000\n",
            "Epoch 14/30\n",
            "15/15 [==============================] - 0s 5ms/step - loss: 0.2095 - accuracy: 0.9726 - val_loss: 0.2628 - val_accuracy: 0.9375\n",
            "Epoch 15/30\n",
            "15/15 [==============================] - 0s 5ms/step - loss: 0.2098 - accuracy: 0.9452 - val_loss: 0.2358 - val_accuracy: 0.9375\n",
            "Epoch 16/30\n",
            "15/15 [==============================] - 0s 3ms/step - loss: 0.2389 - accuracy: 0.9041 - val_loss: 0.3186 - val_accuracy: 0.8750\n",
            "Epoch 17/30\n",
            "15/15 [==============================] - 0s 4ms/step - loss: 0.1917 - accuracy: 0.9452 - val_loss: 0.2142 - val_accuracy: 0.9375\n",
            "Epoch 18/30\n",
            "15/15 [==============================] - 0s 5ms/step - loss: 0.1754 - accuracy: 0.9726 - val_loss: 0.2137 - val_accuracy: 0.9375\n",
            "Epoch 19/30\n",
            "15/15 [==============================] - 0s 5ms/step - loss: 0.1712 - accuracy: 0.9726 - val_loss: 0.2238 - val_accuracy: 0.9375\n",
            "Epoch 20/30\n",
            "15/15 [==============================] - 0s 5ms/step - loss: 0.1552 - accuracy: 0.9726 - val_loss: 0.1873 - val_accuracy: 0.9375\n",
            "Epoch 21/30\n",
            "15/15 [==============================] - 0s 4ms/step - loss: 0.1579 - accuracy: 0.9726 - val_loss: 0.1755 - val_accuracy: 0.9688\n",
            "Epoch 22/30\n",
            "15/15 [==============================] - 0s 4ms/step - loss: 0.1449 - accuracy: 0.9726 - val_loss: 0.1836 - val_accuracy: 0.9375\n",
            "Epoch 23/30\n",
            "15/15 [==============================] - 0s 4ms/step - loss: 0.1561 - accuracy: 0.9726 - val_loss: 0.2039 - val_accuracy: 0.9375\n",
            "Epoch 24/30\n",
            "15/15 [==============================] - 0s 4ms/step - loss: 0.1446 - accuracy: 0.9726 - val_loss: 0.1573 - val_accuracy: 0.9375\n",
            "Epoch 25/30\n",
            "15/15 [==============================] - 0s 5ms/step - loss: 0.1272 - accuracy: 0.9726 - val_loss: 0.1517 - val_accuracy: 0.9688\n",
            "Epoch 26/30\n",
            "15/15 [==============================] - 0s 5ms/step - loss: 0.1249 - accuracy: 0.9726 - val_loss: 0.1481 - val_accuracy: 0.9688\n",
            "Epoch 27/30\n",
            "15/15 [==============================] - 0s 5ms/step - loss: 0.1354 - accuracy: 0.9589 - val_loss: 0.1453 - val_accuracy: 0.9375\n",
            "Epoch 28/30\n",
            "15/15 [==============================] - 0s 4ms/step - loss: 0.1363 - accuracy: 0.9452 - val_loss: 0.1985 - val_accuracy: 0.9062\n",
            "Epoch 29/30\n",
            "15/15 [==============================] - 0s 5ms/step - loss: 0.1628 - accuracy: 0.9315 - val_loss: 0.1451 - val_accuracy: 0.9375\n",
            "Epoch 30/30\n",
            "15/15 [==============================] - 0s 4ms/step - loss: 0.1515 - accuracy: 0.9589 - val_loss: 0.1563 - val_accuracy: 0.9375\n",
            "2/2 - 0s - loss: 0.1553 - accuracy: 0.9333\n",
            "테스트 정확도: 0.9333333373069763\n"
          ]
        }
      ]
    },
    {
      "cell_type": "code",
      "metadata": {
        "id": "m3nJs2cE98kI",
        "colab": {
          "base_uri": "https://localhost:8080/",
          "height": 342
        },
        "outputId": "5122cf5a-342c-4e08-be58-aba39e0a89ea"
      },
      "source": [
        "import matplotlib.pyplot as plt\n",
        "\n",
        "plt.figure(figsize=(8,5))\n",
        "plt.plot(hist.history['loss'],'b-')\n",
        "plt.plot(hist.history['val_loss'],'r--')\n"
      ],
      "execution_count": 88,
      "outputs": [
        {
          "output_type": "execute_result",
          "data": {
            "text/plain": [
              "[<matplotlib.lines.Line2D at 0x7f6744cb8a90>]"
            ]
          },
          "metadata": {},
          "execution_count": 88
        },
        {
          "output_type": "display_data",
          "data": {
            "image/png": "[encoded data removed]",
            "text/plain": [
              "<Figure size 576x360 with 1 Axes>"
            ]
          },
          "metadata": {}
        }
      ]
    },
    {
      "cell_type": "code",
      "metadata": {
        "id": "mW7MiWY6-vhD",
        "colab": {
          "base_uri": "https://localhost:8080/",
          "height": 286
        },
        "outputId": "cbd808b7-f652-4413-9442-7c271133f1b1"
      },
      "source": [
        "plt.plot(hist.history['accuracy'],'b-')\n",
        "plt.plot(hist.history['val_accuracy'],'r--')"
      ],
      "execution_count": 89,
      "outputs": [
        {
          "output_type": "execute_result",
          "data": {
            "text/plain": [
              "[<matplotlib.lines.Line2D at 0x7f6742cdfbd0>]"
            ]
          },
          "metadata": {},
          "execution_count": 89
        },
        {
          "output_type": "display_data",
          "data": {
            "image/png": "[encoded data removed]",
            "text/plain": [
              "<Figure size 432x288 with 1 Axes>"
            ]
          },
          "metadata": {}
        }
      ]
    }
  ]
}